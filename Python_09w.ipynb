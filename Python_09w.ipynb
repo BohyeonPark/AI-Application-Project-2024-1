{
  "nbformat": 4,
  "nbformat_minor": 0,
  "metadata": {
    "colab": {
      "provenance": []
    },
    "kernelspec": {
      "name": "python3",
      "display_name": "Python 3"
    },
    "language_info": {
      "name": "python"
    }
  },
  "cells": [
    {
      "cell_type": "markdown",
      "source": [
        "유용한 모듈\n",
        "1. 내장함수"
      ],
      "metadata": {
        "id": "Do0aSTOUqeXI"
      }
    },
    {
      "cell_type": "code",
      "execution_count": null,
      "metadata": {
        "colab": {
          "base_uri": "https://localhost:8080/"
        },
        "id": "eiUHRHJZqcDr",
        "outputId": "f846b095-6b37-4686-8bed-b784cd4758cd"
      },
      "outputs": [
        {
          "output_type": "stream",
          "name": "stdout",
          "text": [
            "3\n",
            "5.0\n",
            "실수를 입력하세요: 12.345\n",
            "12.345\n",
            "12.345\n"
          ]
        }
      ],
      "source": [
        "print(abs(-3))\n",
        "print(abs(3+4j))\n",
        "\n",
        "str=input(\"실수를 입력하세요: \")\n",
        "print(str)\n",
        "value=float(str)\n",
        "print(value)"
      ]
    },
    {
      "cell_type": "code",
      "source": [
        "values=[1,2,3,4,5]\n",
        "print(max(values))\n",
        "print(min(values))\n",
        "\n",
        "#sorted[4,2,3,5,1] #[1,2,3,4,5]\n",
        "\n",
        "myList=[4,2,3,5,1]\n",
        "myList.sort()\n",
        "print(myList)"
      ],
      "metadata": {
        "colab": {
          "base_uri": "https://localhost:8080/"
        },
        "id": "5bpznwl7quFA",
        "outputId": "f4d265ae-4d02-41db-fb69-d5e0fc44cd55"
      },
      "execution_count": null,
      "outputs": [
        {
          "output_type": "stream",
          "name": "stdout",
          "text": [
            "5\n",
            "1\n",
            "[1, 2, 3, 4, 5]\n"
          ]
        }
      ]
    },
    {
      "cell_type": "markdown",
      "source": [
        "2. 유용한 모듈"
      ],
      "metadata": {
        "id": "xRMDFA45rFIr"
      }
    },
    {
      "cell_type": "code",
      "source": [
        "#Copy 모듈\n",
        "import copy\n",
        "a=[[1,2],[3,4]]\n",
        "b=copy.copy(a)\n",
        "print(a)\n",
        "print(b)\n",
        "\n",
        "b=a[:]\n",
        "print(a)\n",
        "print(b)\n",
        "\n",
        "#값 할당\n",
        "a[1].append(5)\n",
        "print(a)\n",
        "print(b)\n",
        "#a[1]에 값을 변경하면 b[1]도 따라 변경됩니다."
      ],
      "metadata": {
        "colab": {
          "base_uri": "https://localhost:8080/"
        },
        "id": "VtzOmmuCrGrK",
        "outputId": "c4fad7f9-e639-44fe-90ec-f587f317e192"
      },
      "execution_count": null,
      "outputs": [
        {
          "output_type": "stream",
          "name": "stdout",
          "text": [
            "[[1, 2], [3, 4]]\n",
            "[[1, 2], [3, 4]]\n",
            "[[1, 2], [3, 4]]\n",
            "[[1, 2], [3, 4]]\n",
            "[[1, 2], [3, 4, 5]]\n",
            "[[1, 2], [3, 4, 5]]\n"
          ]
        }
      ]
    },
    {
      "cell_type": "code",
      "source": [
        "#Deep Copy - 깊은 복사\n",
        "import copy\n",
        "a=[[1,2],[3,4]]\n",
        "b=copy.deepcopy(a)\n",
        "a[1].append(5)\n",
        "print(a)\n",
        "print(b)\n",
        "#깊은 복사는 내부에 객체들까지 모두 새롭게 copy 되는 것입니다.\n",
        "#copy.deepcopy 메소드가 해결해줍니다."
      ],
      "metadata": {
        "colab": {
          "base_uri": "https://localhost:8080/"
        },
        "id": "_JCBvKNprb-_",
        "outputId": "79deeecb-6268-44d4-8526-8260bc3218d5"
      },
      "execution_count": null,
      "outputs": [
        {
          "output_type": "stream",
          "name": "stdout",
          "text": [
            "[[1, 2], [3, 4, 5]]\n",
            "[[1, 2], [3, 4]]\n"
          ]
        }
      ]
    },
    {
      "cell_type": "code",
      "source": [
        "import copy\n",
        "colors=[\"red\",\"blue\",\"green\"]\n",
        "clone=copy.deepcopy(colors)\n",
        "\n",
        "clone[0]=\"white\"\n",
        "print(colors)\n",
        "print(clone)\n",
        "#deepcopy(): object는 주어진 객체의 복사본을 생성"
      ],
      "metadata": {
        "colab": {
          "base_uri": "https://localhost:8080/"
        },
        "id": "Hbwtz2PFrqFm",
        "outputId": "0ac15137-4fb9-4702-fbf2-e89a53ec4679"
      },
      "execution_count": null,
      "outputs": [
        {
          "output_type": "stream",
          "name": "stdout",
          "text": [
            "['red', 'blue', 'green']\n",
            "['white', 'blue', 'green']\n"
          ]
        }
      ]
    },
    {
      "cell_type": "code",
      "source": [
        "#random 모듈\n",
        "import random\n",
        "print(random.randint(1,6))\n",
        "print(random.randint(1,6))\n",
        "\n",
        "print(random.random()*100) #random()함수: 0부터 1사이의 랜덤 실수 리턴\n",
        "print(random.random()*100)\n",
        "\n",
        "myList=[\"red\",\"green\",\"blue\"]\n",
        "print(random.choice(myList))\n",
        "print(random.choice(myList))\n"
      ],
      "metadata": {
        "colab": {
          "base_uri": "https://localhost:8080/"
        },
        "id": "jTeAijZBr39H",
        "outputId": "f183c3e7-9ba2-4443-ca62-a87e5fe3661b"
      },
      "execution_count": null,
      "outputs": [
        {
          "output_type": "stream",
          "name": "stdout",
          "text": [
            "6\n",
            "4\n",
            "39.958271100634846\n",
            "52.88384145765449\n",
            "green\n",
            "red\n"
          ]
        }
      ]
    },
    {
      "cell_type": "code",
      "source": [
        "for i in range(3):\n",
        "  print(random.randrange(0,101,3))"
      ],
      "metadata": {
        "colab": {
          "base_uri": "https://localhost:8080/"
        },
        "id": "nOY_jH1RsSj9",
        "outputId": "2611d3c4-6a27-40fb-e48f-ee5a0062fe06"
      },
      "execution_count": null,
      "outputs": [
        {
          "output_type": "stream",
          "name": "stdout",
          "text": [
            "84\n",
            "9\n",
            "51\n"
          ]
        }
      ]
    },
    {
      "cell_type": "code",
      "source": [
        "#calendar 모듈\n",
        "import calendar\n",
        "\n",
        "cal=calendar.month(2016,8)\n",
        "print(cal)"
      ],
      "metadata": {
        "colab": {
          "base_uri": "https://localhost:8080/"
        },
        "id": "Vh9CL9tasaH3",
        "outputId": "4f047f5b-5a9b-404a-f44d-2532b78fdaa6"
      },
      "execution_count": null,
      "outputs": [
        {
          "output_type": "stream",
          "name": "stdout",
          "text": [
            "    August 2016\n",
            "Mo Tu We Th Fr Sa Su\n",
            " 1  2  3  4  5  6  7\n",
            " 8  9 10 11 12 13 14\n",
            "15 16 17 18 19 20 21\n",
            "22 23 24 25 26 27 28\n",
            "29 30 31\n",
            "\n"
          ]
        }
      ]
    },
    {
      "cell_type": "code",
      "source": [
        "import calendar\n",
        "\n",
        "print(\"당신이 태어난 달의 달력을 보여줄게\")\n",
        "year=int(input(\"몇 년도에 태어났어요?\"))\n",
        "month=int(input(\"몇 월에 태어났어요?\"))\n",
        "\n",
        "Cal=calendar.month(year,month)\n",
        "print(Cal)"
      ],
      "metadata": {
        "colab": {
          "base_uri": "https://localhost:8080/"
        },
        "id": "-p3B0RkKshRY",
        "outputId": "25ff7d67-04f3-4dba-afae-c9d00d1542ed"
      },
      "execution_count": null,
      "outputs": [
        {
          "output_type": "stream",
          "name": "stdout",
          "text": [
            "당신이 태어난 달의 달력을 보여줄게\n",
            "몇 년도에 태어났어요?1997\n",
            "몇 월에 태어났어요?3\n",
            "     March 1997\n",
            "Mo Tu We Th Fr Sa Su\n",
            "                1  2\n",
            " 3  4  5  6  7  8  9\n",
            "10 11 12 13 14 15 16\n",
            "17 18 19 20 21 22 23\n",
            "24 25 26 27 28 29 30\n",
            "31\n",
            "\n"
          ]
        }
      ]
    },
    {
      "cell_type": "code",
      "source": [
        "#keyword 모듈\n",
        "import keyword\n",
        "\n",
        "name=input(\"변수 이름을 입력하시요:\")\n",
        "\n",
        "if keyword.iskeyword(name):\n",
        "  print(name,\"은 예약어임.\")\n",
        "  print(\"아래는 키워드의 전체 리스트임:\")\n",
        "  print(keyword.kwlist)\n",
        "else:\n",
        "  print(name,\"은 사용할 수 있는 변수이름임.\")"
      ],
      "metadata": {
        "colab": {
          "base_uri": "https://localhost:8080/"
        },
        "id": "6Mz3y5mLsv3H",
        "outputId": "c6880cbe-7455-44c8-83af-badaeb6d2718"
      },
      "execution_count": null,
      "outputs": [
        {
          "output_type": "stream",
          "name": "stdout",
          "text": [
            "변수 이름을 입력하시요:class\n",
            "class 은 예약어임.\n",
            "아래는 키워드의 전체 리스트임:\n",
            "['False', 'None', 'True', 'and', 'as', 'assert', 'async', 'await', 'break', 'class', 'continue', 'def', 'del', 'elif', 'else', 'except', 'finally', 'for', 'from', 'global', 'if', 'import', 'in', 'is', 'lambda', 'nonlocal', 'not', 'or', 'pass', 'raise', 'return', 'try', 'while', 'with', 'yield']\n"
          ]
        }
      ]
    },
    {
      "cell_type": "code",
      "source": [
        "#keyword 모듈\n",
        "import keyword\n",
        "\n",
        "name=input(\"변수 이름을 입력하시요:\")\n",
        "\n",
        "if keyword.iskeyword(name):\n",
        "  print(name,\"은 예약어임.\")\n",
        "  print(\"아래는 키워드의 전체 리스트임:\")\n",
        "  print(keyword.kwlist)\n",
        "else:\n",
        "  print(name,\"은 사용할 수 있는 변수이름임.\")"
      ],
      "metadata": {
        "colab": {
          "base_uri": "https://localhost:8080/"
        },
        "id": "OxLIJgjXtD88",
        "outputId": "1796cbd0-8e33-40fb-839f-37d5daaa2b21"
      },
      "execution_count": null,
      "outputs": [
        {
          "output_type": "stream",
          "name": "stdout",
          "text": [
            "변수 이름을 입력하시요:Hi\n",
            "Hi 은 사용할 수 있는 변수이름임.\n"
          ]
        }
      ]
    },
    {
      "cell_type": "code",
      "source": [
        "#실습 - 동전 던지기 게임\n",
        "#하나의 예제로 동전 던지기 게임을 파이썬으로 작성해보자\n",
        "#random 모듈을 사용한다\n",
        "\n",
        "import random\n",
        "myList=[\"head\",\"tail\"]\n",
        "while(True):\n",
        "  response=input(\"동전 던지기를 계속하시겠습니까?(yes or no)\")\n",
        "  if response==\"yes\":\n",
        "    coin=random.choice(myList)\n",
        "    print(coin)\n",
        "  else:\n",
        "    break"
      ],
      "metadata": {
        "colab": {
          "base_uri": "https://localhost:8080/"
        },
        "id": "shIFnWoltGX8",
        "outputId": "adf7b8b0-7287-4bf6-f23f-a5a1fb2cd82e"
      },
      "execution_count": 3,
      "outputs": [
        {
          "name": "stdout",
          "output_type": "stream",
          "text": [
            "동전 던지기를 계속하시겠습니까?(yes or no)yes\n",
            "tail\n",
            "동전 던지기를 계속하시겠습니까?(yes or no)yes\n",
            "tail\n",
            "동전 던지기를 계속하시겠습니까?(yes or no)yes\n",
            "tail\n",
            "동전 던지기를 계속하시겠습니까?(yes or no)yes\n",
            "tail\n",
            "동전 던지기를 계속하시겠습니까?(yes or no)yes\n",
            "head\n",
            "동전 던지기를 계속하시겠습니까?(yes or no)yes\n",
            "head\n",
            "동전 던지기를 계속하시겠습니까?(yes or no)no\n"
          ]
        }
      ]
    },
    {
      "cell_type": "markdown",
      "source": [
        "<Pandas를 이용한 데이터 분석 기초>"
      ],
      "metadata": {
        "id": "Ekvl-akhxIdG"
      }
    },
    {
      "cell_type": "markdown",
      "source": [
        "Pandas: 파이썬에서 사용할 수 있는 데이터 처리 및 분석 라이브러리\n",
        "- import하여 사용\n",
        "- 행과 열로 이루어진 데이터 객체를 다룰 수 있음\n",
        "- 보다 안정적으로 대용량 데이터 처리 가능\n",
        "- 시리즈(Series), 데이터프레임(DataFrame), 패널(Panel) 3종류의 데이터 구조 사용"
      ],
      "metadata": {
        "id": "ohj67IkrxRp0"
      }
    },
    {
      "cell_type": "markdown",
      "source": [
        "import pandas\n",
        "- pandas 라이브러리는 패키지 이름을 자주 호출 함으로, 별칭을 주어 짧게 줄여 쓰자\n",
        "\n",
        "import pandas as pd\n",
        "- 위와 같이 라이브러리를 가져온 후, 다음과 같이 pandas 라이브러리의 함수들을 간단히 불러쓰자"
      ],
      "metadata": {
        "id": "2mGjFDi706Zy"
      }
    },
    {
      "cell_type": "code",
      "source": [
        "import pandas as pd"
      ],
      "metadata": {
        "id": "pFv_Ongaw8Kf"
      },
      "execution_count": 5,
      "outputs": []
    },
    {
      "cell_type": "markdown",
      "source": [
        "Pandas는 크게 3가지의 자료구조를 지원한다\n",
        "- 1차원 자료구조인 Series\n",
        "- 2차원 자료구조인 DataFrame\n",
        "- 3차원 자료구조인 Panel\n",
        "\n",
        "Panas의 데이터형\n",
        "- Objects: 문자 또는 문자열 형\n",
        "- Int64: 정수형\n",
        "- Float64: 실수형"
      ],
      "metadata": {
        "id": "ur738y031GoZ"
      }
    },
    {
      "cell_type": "markdown",
      "source": [
        "DataFrame: 행과 열을 가지는 자료구조 (표)\n",
        "- 인덱스(index), 열(column), 값(value)으로 구성"
      ],
      "metadata": {
        "id": "l-86rij61Vtr"
      }
    },
    {
      "cell_type": "code",
      "source": [
        "#pandas import\n",
        "import pandas as pd\n",
        "\n",
        "#리스트 만들기 (리스트 안의 리스트)\n",
        "data = [\n",
        "    [\"01\",\"Kim\",25],\n",
        "    [\"02\",\"Lee\",24],\n",
        "    [\"03\",\"Park\",20],\n",
        "    [\"01\",\"Jung\",27]\n",
        "]\n",
        "print(data)\n",
        "\n",
        "#리스트를 DataFrame으로 변환하여 변수에 저장\n",
        "df = pd.DataFrame(data,columns=[\"번호\",\"이름\",\"나이\"])\n",
        "print(df)"
      ],
      "metadata": {
        "colab": {
          "base_uri": "https://localhost:8080/"
        },
        "id": "R9WFQejJ1F22",
        "outputId": "61659cc3-bdad-41dd-9132-91c3978de8df"
      },
      "execution_count": 7,
      "outputs": [
        {
          "output_type": "stream",
          "name": "stdout",
          "text": [
            "[['01', 'Kim', 25], ['02', 'Lee', 24], ['03', 'Park', 20], ['01', 'Jung', 27]]\n",
            "   번호    이름  나이\n",
            "0  01   Kim  25\n",
            "1  02   Lee  24\n",
            "2  03  Park  20\n",
            "3  01  Jung  27\n"
          ]
        }
      ]
    },
    {
      "cell_type": "code",
      "source": [
        "df=pd.DataFrame(data)\n",
        "df\n"
      ],
      "metadata": {
        "colab": {
          "base_uri": "https://localhost:8080/",
          "height": 175
        },
        "id": "ijrSlPjA12EV",
        "outputId": "6be691ea-feb0-4c65-fcbd-3894879306d1"
      },
      "execution_count": 11,
      "outputs": [
        {
          "output_type": "execute_result",
          "data": {
            "text/plain": [
              "    0     1   2\n",
              "0  01   Kim  25\n",
              "1  02   Lee  24\n",
              "2  03  Park  20\n",
              "3  01  Jung  27"
            ],
            "text/html": [
              "\n",
              "  <div id=\"df-ac6bbe0b-29d3-406a-9e5e-fc951ee08909\">\n",
              "    <div class=\"colab-df-container\">\n",
              "      <div>\n",
              "<style scoped>\n",
              "    .dataframe tbody tr th:only-of-type {\n",
              "        vertical-align: middle;\n",
              "    }\n",
              "\n",
              "    .dataframe tbody tr th {\n",
              "        vertical-align: top;\n",
              "    }\n",
              "\n",
              "    .dataframe thead th {\n",
              "        text-align: right;\n",
              "    }\n",
              "</style>\n",
              "<table border=\"1\" class=\"dataframe\">\n",
              "  <thead>\n",
              "    <tr style=\"text-align: right;\">\n",
              "      <th></th>\n",
              "      <th>0</th>\n",
              "      <th>1</th>\n",
              "      <th>2</th>\n",
              "    </tr>\n",
              "  </thead>\n",
              "  <tbody>\n",
              "    <tr>\n",
              "      <th>0</th>\n",
              "      <td>01</td>\n",
              "      <td>Kim</td>\n",
              "      <td>25</td>\n",
              "    </tr>\n",
              "    <tr>\n",
              "      <th>1</th>\n",
              "      <td>02</td>\n",
              "      <td>Lee</td>\n",
              "      <td>24</td>\n",
              "    </tr>\n",
              "    <tr>\n",
              "      <th>2</th>\n",
              "      <td>03</td>\n",
              "      <td>Park</td>\n",
              "      <td>20</td>\n",
              "    </tr>\n",
              "    <tr>\n",
              "      <th>3</th>\n",
              "      <td>01</td>\n",
              "      <td>Jung</td>\n",
              "      <td>27</td>\n",
              "    </tr>\n",
              "  </tbody>\n",
              "</table>\n",
              "</div>\n",
              "      <button class=\"colab-df-convert\" onclick=\"convertToInteractive('df-ac6bbe0b-29d3-406a-9e5e-fc951ee08909')\"\n",
              "              title=\"Convert this dataframe to an interactive table.\"\n",
              "              style=\"display:none;\">\n",
              "        \n",
              "  <svg xmlns=\"http://www.w3.org/2000/svg\" height=\"24px\"viewBox=\"0 0 24 24\"\n",
              "       width=\"24px\">\n",
              "    <path d=\"M0 0h24v24H0V0z\" fill=\"none\"/>\n",
              "    <path d=\"M18.56 5.44l.94 2.06.94-2.06 2.06-.94-2.06-.94-.94-2.06-.94 2.06-2.06.94zm-11 1L8.5 8.5l.94-2.06 2.06-.94-2.06-.94L8.5 2.5l-.94 2.06-2.06.94zm10 10l.94 2.06.94-2.06 2.06-.94-2.06-.94-.94-2.06-.94 2.06-2.06.94z\"/><path d=\"M17.41 7.96l-1.37-1.37c-.4-.4-.92-.59-1.43-.59-.52 0-1.04.2-1.43.59L10.3 9.45l-7.72 7.72c-.78.78-.78 2.05 0 2.83L4 21.41c.39.39.9.59 1.41.59.51 0 1.02-.2 1.41-.59l7.78-7.78 2.81-2.81c.8-.78.8-2.07 0-2.86zM5.41 20L4 18.59l7.72-7.72 1.47 1.35L5.41 20z\"/>\n",
              "  </svg>\n",
              "      </button>\n",
              "      \n",
              "  <style>\n",
              "    .colab-df-container {\n",
              "      display:flex;\n",
              "      flex-wrap:wrap;\n",
              "      gap: 12px;\n",
              "    }\n",
              "\n",
              "    .colab-df-convert {\n",
              "      background-color: #E8F0FE;\n",
              "      border: none;\n",
              "      border-radius: 50%;\n",
              "      cursor: pointer;\n",
              "      display: none;\n",
              "      fill: #1967D2;\n",
              "      height: 32px;\n",
              "      padding: 0 0 0 0;\n",
              "      width: 32px;\n",
              "    }\n",
              "\n",
              "    .colab-df-convert:hover {\n",
              "      background-color: #E2EBFA;\n",
              "      box-shadow: 0px 1px 2px rgba(60, 64, 67, 0.3), 0px 1px 3px 1px rgba(60, 64, 67, 0.15);\n",
              "      fill: #174EA6;\n",
              "    }\n",
              "\n",
              "    [theme=dark] .colab-df-convert {\n",
              "      background-color: #3B4455;\n",
              "      fill: #D2E3FC;\n",
              "    }\n",
              "\n",
              "    [theme=dark] .colab-df-convert:hover {\n",
              "      background-color: #434B5C;\n",
              "      box-shadow: 0px 1px 3px 1px rgba(0, 0, 0, 0.15);\n",
              "      filter: drop-shadow(0px 1px 2px rgba(0, 0, 0, 0.3));\n",
              "      fill: #FFFFFF;\n",
              "    }\n",
              "  </style>\n",
              "\n",
              "      <script>\n",
              "        const buttonEl =\n",
              "          document.querySelector('#df-ac6bbe0b-29d3-406a-9e5e-fc951ee08909 button.colab-df-convert');\n",
              "        buttonEl.style.display =\n",
              "          google.colab.kernel.accessAllowed ? 'block' : 'none';\n",
              "\n",
              "        async function convertToInteractive(key) {\n",
              "          const element = document.querySelector('#df-ac6bbe0b-29d3-406a-9e5e-fc951ee08909');\n",
              "          const dataTable =\n",
              "            await google.colab.kernel.invokeFunction('convertToInteractive',\n",
              "                                                     [key], {});\n",
              "          if (!dataTable) return;\n",
              "\n",
              "          const docLinkHtml = 'Like what you see? Visit the ' +\n",
              "            '<a target=\"_blank\" href=https://colab.research.google.com/notebooks/data_table.ipynb>data table notebook</a>'\n",
              "            + ' to learn more about interactive tables.';\n",
              "          element.innerHTML = '';\n",
              "          dataTable['output_type'] = 'display_data';\n",
              "          await google.colab.output.renderOutput(dataTable, element);\n",
              "          const docLink = document.createElement('div');\n",
              "          docLink.innerHTML = docLinkHtml;\n",
              "          element.appendChild(docLink);\n",
              "        }\n",
              "      </script>\n",
              "    </div>\n",
              "  </div>\n",
              "  "
            ]
          },
          "metadata": {},
          "execution_count": 11
        }
      ]
    },
    {
      "cell_type": "code",
      "source": [
        "df=pd.DataFrame(data,columns=[\"번호\",\"이름\",\"나이\"])\n",
        "df"
      ],
      "metadata": {
        "colab": {
          "base_uri": "https://localhost:8080/",
          "height": 175
        },
        "id": "omRfnmwj2H7Z",
        "outputId": "e1a38ccc-443b-46aa-b3bd-faa52541e742"
      },
      "execution_count": 12,
      "outputs": [
        {
          "output_type": "execute_result",
          "data": {
            "text/plain": [
              "   번호    이름  나이\n",
              "0  01   Kim  25\n",
              "1  02   Lee  24\n",
              "2  03  Park  20\n",
              "3  01  Jung  27"
            ],
            "text/html": [
              "\n",
              "  <div id=\"df-0d2de9ce-6bd7-4deb-8059-df80a84725ac\">\n",
              "    <div class=\"colab-df-container\">\n",
              "      <div>\n",
              "<style scoped>\n",
              "    .dataframe tbody tr th:only-of-type {\n",
              "        vertical-align: middle;\n",
              "    }\n",
              "\n",
              "    .dataframe tbody tr th {\n",
              "        vertical-align: top;\n",
              "    }\n",
              "\n",
              "    .dataframe thead th {\n",
              "        text-align: right;\n",
              "    }\n",
              "</style>\n",
              "<table border=\"1\" class=\"dataframe\">\n",
              "  <thead>\n",
              "    <tr style=\"text-align: right;\">\n",
              "      <th></th>\n",
              "      <th>번호</th>\n",
              "      <th>이름</th>\n",
              "      <th>나이</th>\n",
              "    </tr>\n",
              "  </thead>\n",
              "  <tbody>\n",
              "    <tr>\n",
              "      <th>0</th>\n",
              "      <td>01</td>\n",
              "      <td>Kim</td>\n",
              "      <td>25</td>\n",
              "    </tr>\n",
              "    <tr>\n",
              "      <th>1</th>\n",
              "      <td>02</td>\n",
              "      <td>Lee</td>\n",
              "      <td>24</td>\n",
              "    </tr>\n",
              "    <tr>\n",
              "      <th>2</th>\n",
              "      <td>03</td>\n",
              "      <td>Park</td>\n",
              "      <td>20</td>\n",
              "    </tr>\n",
              "    <tr>\n",
              "      <th>3</th>\n",
              "      <td>01</td>\n",
              "      <td>Jung</td>\n",
              "      <td>27</td>\n",
              "    </tr>\n",
              "  </tbody>\n",
              "</table>\n",
              "</div>\n",
              "      <button class=\"colab-df-convert\" onclick=\"convertToInteractive('df-0d2de9ce-6bd7-4deb-8059-df80a84725ac')\"\n",
              "              title=\"Convert this dataframe to an interactive table.\"\n",
              "              style=\"display:none;\">\n",
              "        \n",
              "  <svg xmlns=\"http://www.w3.org/2000/svg\" height=\"24px\"viewBox=\"0 0 24 24\"\n",
              "       width=\"24px\">\n",
              "    <path d=\"M0 0h24v24H0V0z\" fill=\"none\"/>\n",
              "    <path d=\"M18.56 5.44l.94 2.06.94-2.06 2.06-.94-2.06-.94-.94-2.06-.94 2.06-2.06.94zm-11 1L8.5 8.5l.94-2.06 2.06-.94-2.06-.94L8.5 2.5l-.94 2.06-2.06.94zm10 10l.94 2.06.94-2.06 2.06-.94-2.06-.94-.94-2.06-.94 2.06-2.06.94z\"/><path d=\"M17.41 7.96l-1.37-1.37c-.4-.4-.92-.59-1.43-.59-.52 0-1.04.2-1.43.59L10.3 9.45l-7.72 7.72c-.78.78-.78 2.05 0 2.83L4 21.41c.39.39.9.59 1.41.59.51 0 1.02-.2 1.41-.59l7.78-7.78 2.81-2.81c.8-.78.8-2.07 0-2.86zM5.41 20L4 18.59l7.72-7.72 1.47 1.35L5.41 20z\"/>\n",
              "  </svg>\n",
              "      </button>\n",
              "      \n",
              "  <style>\n",
              "    .colab-df-container {\n",
              "      display:flex;\n",
              "      flex-wrap:wrap;\n",
              "      gap: 12px;\n",
              "    }\n",
              "\n",
              "    .colab-df-convert {\n",
              "      background-color: #E8F0FE;\n",
              "      border: none;\n",
              "      border-radius: 50%;\n",
              "      cursor: pointer;\n",
              "      display: none;\n",
              "      fill: #1967D2;\n",
              "      height: 32px;\n",
              "      padding: 0 0 0 0;\n",
              "      width: 32px;\n",
              "    }\n",
              "\n",
              "    .colab-df-convert:hover {\n",
              "      background-color: #E2EBFA;\n",
              "      box-shadow: 0px 1px 2px rgba(60, 64, 67, 0.3), 0px 1px 3px 1px rgba(60, 64, 67, 0.15);\n",
              "      fill: #174EA6;\n",
              "    }\n",
              "\n",
              "    [theme=dark] .colab-df-convert {\n",
              "      background-color: #3B4455;\n",
              "      fill: #D2E3FC;\n",
              "    }\n",
              "\n",
              "    [theme=dark] .colab-df-convert:hover {\n",
              "      background-color: #434B5C;\n",
              "      box-shadow: 0px 1px 3px 1px rgba(0, 0, 0, 0.15);\n",
              "      filter: drop-shadow(0px 1px 2px rgba(0, 0, 0, 0.3));\n",
              "      fill: #FFFFFF;\n",
              "    }\n",
              "  </style>\n",
              "\n",
              "      <script>\n",
              "        const buttonEl =\n",
              "          document.querySelector('#df-0d2de9ce-6bd7-4deb-8059-df80a84725ac button.colab-df-convert');\n",
              "        buttonEl.style.display =\n",
              "          google.colab.kernel.accessAllowed ? 'block' : 'none';\n",
              "\n",
              "        async function convertToInteractive(key) {\n",
              "          const element = document.querySelector('#df-0d2de9ce-6bd7-4deb-8059-df80a84725ac');\n",
              "          const dataTable =\n",
              "            await google.colab.kernel.invokeFunction('convertToInteractive',\n",
              "                                                     [key], {});\n",
              "          if (!dataTable) return;\n",
              "\n",
              "          const docLinkHtml = 'Like what you see? Visit the ' +\n",
              "            '<a target=\"_blank\" href=https://colab.research.google.com/notebooks/data_table.ipynb>data table notebook</a>'\n",
              "            + ' to learn more about interactive tables.';\n",
              "          element.innerHTML = '';\n",
              "          dataTable['output_type'] = 'display_data';\n",
              "          await google.colab.output.renderOutput(dataTable, element);\n",
              "          const docLink = document.createElement('div');\n",
              "          docLink.innerHTML = docLinkHtml;\n",
              "          element.appendChild(docLink);\n",
              "        }\n",
              "      </script>\n",
              "    </div>\n",
              "  </div>\n",
              "  "
            ]
          },
          "metadata": {},
          "execution_count": 12
        }
      ]
    },
    {
      "cell_type": "code",
      "source": [
        "print(df)"
      ],
      "metadata": {
        "colab": {
          "base_uri": "https://localhost:8080/"
        },
        "id": "ZYkvOmkP2Rc7",
        "outputId": "48b71f8d-ee6e-4e60-8608-eee67e4b6d2d"
      },
      "execution_count": 13,
      "outputs": [
        {
          "output_type": "stream",
          "name": "stdout",
          "text": [
            "   번호    이름  나이\n",
            "0  01   Kim  25\n",
            "1  02   Lee  24\n",
            "2  03  Park  20\n",
            "3  01  Jung  27\n"
          ]
        }
      ]
    },
    {
      "cell_type": "markdown",
      "source": [
        "DataFrame 행과 열 추출\n",
        "- 열추출: \"열 이름\" 이용\n",
        "- 행추출\" loc 함수 이용"
      ],
      "metadata": {
        "id": "rZBVBrn02T0l"
      }
    },
    {
      "cell_type": "code",
      "source": [
        "#열추출\n",
        "#DataFrame 변수이름['열 이름']\n",
        "print(df['번호'])\n",
        "print(df['나이'])\n",
        "\n",
        "#한 번에 두개 이상의 열 추출도 가능 #[[]] 대괄호 2개 쓰기!!!!!\n",
        "print(df[['이름','나이']])\n",
        "print(df[['번호','이름']])"
      ],
      "metadata": {
        "colab": {
          "base_uri": "https://localhost:8080/"
        },
        "id": "wNXubC7O2SZw",
        "outputId": "38f3871b-8294-4764-ea33-9a3997ac6dd4"
      },
      "execution_count": 22,
      "outputs": [
        {
          "output_type": "stream",
          "name": "stdout",
          "text": [
            "0    01\n",
            "1    02\n",
            "2    03\n",
            "3    01\n",
            "Name: 번호, dtype: object\n",
            "0    25\n",
            "1    24\n",
            "2    20\n",
            "3    27\n",
            "Name: 나이, dtype: int64\n",
            "     이름  나이\n",
            "0   Kim  25\n",
            "1   Lee  24\n",
            "2  Park  20\n",
            "3  Jung  27\n",
            "   번호    이름\n",
            "0  01   Kim\n",
            "1  02   Lee\n",
            "2  03  Park\n",
            "3  01  Jung\n"
          ]
        }
      ]
    },
    {
      "cell_type": "code",
      "source": [
        "#행추출 - loc 함수 = index location을 의미\n",
        "#DataFrame 변수이름.loc[index번호]\n",
        "print(df.loc[0])\n",
        "print(df.loc[2])\n",
        "\n",
        "#한 번에 두개 이상의 행 추출도 가능 #[[]] 대괄호 2개 쓰기!!!!!\n",
        "print(df.loc[[0,2]])\n",
        "print(df.loc[[0,2,3]])"
      ],
      "metadata": {
        "colab": {
          "base_uri": "https://localhost:8080/"
        },
        "id": "e2iluJvj2bnR",
        "outputId": "42d5d64c-73c9-434f-e0f6-e5f172b4a433"
      },
      "execution_count": 33,
      "outputs": [
        {
          "output_type": "stream",
          "name": "stdout",
          "text": [
            "번호     01\n",
            "이름    Kim\n",
            "나이     25\n",
            "Name: 0, dtype: object\n",
            "번호      03\n",
            "이름    Park\n",
            "나이      20\n",
            "Name: 2, dtype: object\n",
            "   번호    이름  나이\n",
            "0  01   Kim  25\n",
            "2  03  Park  20\n",
            "   번호    이름  나이\n",
            "0  01   Kim  25\n",
            "2  03  Park  20\n",
            "3  01  Jung  27\n"
          ]
        }
      ]
    },
    {
      "cell_type": "markdown",
      "source": [
        "기상청 공공데이터 사용하여 데이터 살펴보기\n",
        "- 기상청은 기상자료개방포털 홈페이지를 통하여 기상관련 데이터를 무료로 제공합니다.\n",
        "- https://data.kma.go.kr/cmmn/main.do\n",
        "- 기후통계분석 > 통계분석 > 기온분석 > 자료구분: 월 > 지역/지점: 서울 > 기간: 2013년 ~ 2023년 > csv 파일 다운로드\n",
        "- csv 파일 열어서 1~7행 불필요한 데이터 제거 후 csv 저장"
      ],
      "metadata": {
        "id": "-LjFg9U430zU"
      }
    },
    {
      "cell_type": "code",
      "source": [
        "#Pandas csv 파일 처리\n",
        "#csv 파일 업로드\n",
        "from google.colab import files\n",
        "uploaded = files.upload()"
      ],
      "metadata": {
        "colab": {
          "base_uri": "https://localhost:8080/",
          "height": 76
        },
        "id": "DeQyTrT-3URN",
        "outputId": "d8f41a9e-bba7-4f4e-999e-61e170ca6ab3"
      },
      "execution_count": 37,
      "outputs": [
        {
          "output_type": "display_data",
          "data": {
            "text/plain": [
              "<IPython.core.display.HTML object>"
            ],
            "text/html": [
              "\n",
              "     <input type=\"file\" id=\"files-f532b3c7-2d59-4b7f-9363-13787062f17d\" name=\"files[]\" multiple disabled\n",
              "        style=\"border:none\" />\n",
              "     <output id=\"result-f532b3c7-2d59-4b7f-9363-13787062f17d\">\n",
              "      Upload widget is only available when the cell has been executed in the\n",
              "      current browser session. Please rerun this cell to enable.\n",
              "      </output>\n",
              "      <script>// Copyright 2017 Google LLC\n",
              "//\n",
              "// Licensed under the Apache License, Version 2.0 (the \"License\");\n",
              "// you may not use this file except in compliance with the License.\n",
              "// You may obtain a copy of the License at\n",
              "//\n",
              "//      http://www.apache.org/licenses/LICENSE-2.0\n",
              "//\n",
              "// Unless required by applicable law or agreed to in writing, software\n",
              "// distributed under the License is distributed on an \"AS IS\" BASIS,\n",
              "// WITHOUT WARRANTIES OR CONDITIONS OF ANY KIND, either express or implied.\n",
              "// See the License for the specific language governing permissions and\n",
              "// limitations under the License.\n",
              "\n",
              "/**\n",
              " * @fileoverview Helpers for google.colab Python module.\n",
              " */\n",
              "(function(scope) {\n",
              "function span(text, styleAttributes = {}) {\n",
              "  const element = document.createElement('span');\n",
              "  element.textContent = text;\n",
              "  for (const key of Object.keys(styleAttributes)) {\n",
              "    element.style[key] = styleAttributes[key];\n",
              "  }\n",
              "  return element;\n",
              "}\n",
              "\n",
              "// Max number of bytes which will be uploaded at a time.\n",
              "const MAX_PAYLOAD_SIZE = 100 * 1024;\n",
              "\n",
              "function _uploadFiles(inputId, outputId) {\n",
              "  const steps = uploadFilesStep(inputId, outputId);\n",
              "  const outputElement = document.getElementById(outputId);\n",
              "  // Cache steps on the outputElement to make it available for the next call\n",
              "  // to uploadFilesContinue from Python.\n",
              "  outputElement.steps = steps;\n",
              "\n",
              "  return _uploadFilesContinue(outputId);\n",
              "}\n",
              "\n",
              "// This is roughly an async generator (not supported in the browser yet),\n",
              "// where there are multiple asynchronous steps and the Python side is going\n",
              "// to poll for completion of each step.\n",
              "// This uses a Promise to block the python side on completion of each step,\n",
              "// then passes the result of the previous step as the input to the next step.\n",
              "function _uploadFilesContinue(outputId) {\n",
              "  const outputElement = document.getElementById(outputId);\n",
              "  const steps = outputElement.steps;\n",
              "\n",
              "  const next = steps.next(outputElement.lastPromiseValue);\n",
              "  return Promise.resolve(next.value.promise).then((value) => {\n",
              "    // Cache the last promise value to make it available to the next\n",
              "    // step of the generator.\n",
              "    outputElement.lastPromiseValue = value;\n",
              "    return next.value.response;\n",
              "  });\n",
              "}\n",
              "\n",
              "/**\n",
              " * Generator function which is called between each async step of the upload\n",
              " * process.\n",
              " * @param {string} inputId Element ID of the input file picker element.\n",
              " * @param {string} outputId Element ID of the output display.\n",
              " * @return {!Iterable<!Object>} Iterable of next steps.\n",
              " */\n",
              "function* uploadFilesStep(inputId, outputId) {\n",
              "  const inputElement = document.getElementById(inputId);\n",
              "  inputElement.disabled = false;\n",
              "\n",
              "  const outputElement = document.getElementById(outputId);\n",
              "  outputElement.innerHTML = '';\n",
              "\n",
              "  const pickedPromise = new Promise((resolve) => {\n",
              "    inputElement.addEventListener('change', (e) => {\n",
              "      resolve(e.target.files);\n",
              "    });\n",
              "  });\n",
              "\n",
              "  const cancel = document.createElement('button');\n",
              "  inputElement.parentElement.appendChild(cancel);\n",
              "  cancel.textContent = 'Cancel upload';\n",
              "  const cancelPromise = new Promise((resolve) => {\n",
              "    cancel.onclick = () => {\n",
              "      resolve(null);\n",
              "    };\n",
              "  });\n",
              "\n",
              "  // Wait for the user to pick the files.\n",
              "  const files = yield {\n",
              "    promise: Promise.race([pickedPromise, cancelPromise]),\n",
              "    response: {\n",
              "      action: 'starting',\n",
              "    }\n",
              "  };\n",
              "\n",
              "  cancel.remove();\n",
              "\n",
              "  // Disable the input element since further picks are not allowed.\n",
              "  inputElement.disabled = true;\n",
              "\n",
              "  if (!files) {\n",
              "    return {\n",
              "      response: {\n",
              "        action: 'complete',\n",
              "      }\n",
              "    };\n",
              "  }\n",
              "\n",
              "  for (const file of files) {\n",
              "    const li = document.createElement('li');\n",
              "    li.append(span(file.name, {fontWeight: 'bold'}));\n",
              "    li.append(span(\n",
              "        `(${file.type || 'n/a'}) - ${file.size} bytes, ` +\n",
              "        `last modified: ${\n",
              "            file.lastModifiedDate ? file.lastModifiedDate.toLocaleDateString() :\n",
              "                                    'n/a'} - `));\n",
              "    const percent = span('0% done');\n",
              "    li.appendChild(percent);\n",
              "\n",
              "    outputElement.appendChild(li);\n",
              "\n",
              "    const fileDataPromise = new Promise((resolve) => {\n",
              "      const reader = new FileReader();\n",
              "      reader.onload = (e) => {\n",
              "        resolve(e.target.result);\n",
              "      };\n",
              "      reader.readAsArrayBuffer(file);\n",
              "    });\n",
              "    // Wait for the data to be ready.\n",
              "    let fileData = yield {\n",
              "      promise: fileDataPromise,\n",
              "      response: {\n",
              "        action: 'continue',\n",
              "      }\n",
              "    };\n",
              "\n",
              "    // Use a chunked sending to avoid message size limits. See b/62115660.\n",
              "    let position = 0;\n",
              "    do {\n",
              "      const length = Math.min(fileData.byteLength - position, MAX_PAYLOAD_SIZE);\n",
              "      const chunk = new Uint8Array(fileData, position, length);\n",
              "      position += length;\n",
              "\n",
              "      const base64 = btoa(String.fromCharCode.apply(null, chunk));\n",
              "      yield {\n",
              "        response: {\n",
              "          action: 'append',\n",
              "          file: file.name,\n",
              "          data: base64,\n",
              "        },\n",
              "      };\n",
              "\n",
              "      let percentDone = fileData.byteLength === 0 ?\n",
              "          100 :\n",
              "          Math.round((position / fileData.byteLength) * 100);\n",
              "      percent.textContent = `${percentDone}% done`;\n",
              "\n",
              "    } while (position < fileData.byteLength);\n",
              "  }\n",
              "\n",
              "  // All done.\n",
              "  yield {\n",
              "    response: {\n",
              "      action: 'complete',\n",
              "    }\n",
              "  };\n",
              "}\n",
              "\n",
              "scope.google = scope.google || {};\n",
              "scope.google.colab = scope.google.colab || {};\n",
              "scope.google.colab._files = {\n",
              "  _uploadFiles,\n",
              "  _uploadFilesContinue,\n",
              "};\n",
              "})(self);\n",
              "</script> "
            ]
          },
          "metadata": {}
        },
        {
          "output_type": "stream",
          "name": "stdout",
          "text": [
            "Saving seoul-temp_2013-2023.csv to seoul-temp_2013-2023 (1).csv\n"
          ]
        }
      ]
    },
    {
      "cell_type": "code",
      "source": [
        "#csv 파일 읽기\n",
        "#pandas, matplotlib import 하기\n",
        "import pandas as pd\n",
        "import matplotlib.pyplot as plt\n",
        "\n",
        "#csv 파일 읽어오기, 한글 데이터가 있으므로 encoding=\"cp949\" 추가\n",
        "df=pd.read_csv(\"seoul-temp_2013-2023 (1).csv\",encoding=\"cp949\")\n",
        "print(df)"
      ],
      "metadata": {
        "colab": {
          "base_uri": "https://localhost:8080/"
        },
        "id": "4g1kKp_T5JD4",
        "outputId": "b033a7c9-02cf-46d0-caac-42d304d2a346"
      },
      "execution_count": 40,
      "outputs": [
        {
          "output_type": "stream",
          "name": "stdout",
          "text": [
            "          년월   지점  평균기온(℃)  평균최저기온(℃)  평균최고기온(℃)\n",
            "0    2013-01  108     -3.4       -6.6        0.3\n",
            "1    2013-02  108     -1.2       -4.9        2.8\n",
            "2    2013-03  108      5.1        0.7       10.8\n",
            "3    2013-04  108     10.0        5.7       15.0\n",
            "4    2013-05  108     18.2       13.7       23.6\n",
            "..       ...  ...      ...        ...        ...\n",
            "121  2023-02  108      2.3       -1.9        7.3\n",
            "122  2023-03  108      9.8        4.2       16.2\n",
            "123  2023-04  108     13.8        8.8       19.0\n",
            "124  2023-05  108     19.5       14.6       25.0\n",
            "125  2023-06  108      NaN        NaN        NaN\n",
            "\n",
            "[126 rows x 5 columns]\n"
          ]
        }
      ]
    },
    {
      "cell_type": "code",
      "source": [
        "#그래프 그리기: matplotlib 이용\n",
        "#matplotlib.pyplot과 열 추출 방법 이용\n",
        "\n",
        "#plot 그래프 그리기, 열추출방법 df[\"열 이름\"]\n",
        "plt.plot(df[\"평균기온(℃)\"])\n",
        "plt.show()"
      ],
      "metadata": {
        "colab": {
          "base_uri": "https://localhost:8080/",
          "height": 431
        },
        "id": "r_v4eHp75mZB",
        "outputId": "e3f3e4e7-80e5-4f4a-c3fb-95caf9acc1e2"
      },
      "execution_count": 43,
      "outputs": [
        {
          "output_type": "display_data",
          "data": {
            "text/plain": [
              "<Figure size 640x480 with 1 Axes>"
            ],
            "image/png": "[encoded data removed]"
          },
          "metadata": {}
        }
      ]
    },
    {
      "cell_type": "code",
      "source": [
        "#히스토그램 그리기\n",
        "plt.hist(df[\"평균기온(℃)\"])\n",
        "plt.show()"
      ],
      "metadata": {
        "colab": {
          "base_uri": "https://localhost:8080/",
          "height": 430
        },
        "id": "eH_XfvVa8FVD",
        "outputId": "096bd87d-b590-4b61-ff77-e0e2ceb5353e"
      },
      "execution_count": 44,
      "outputs": [
        {
          "output_type": "display_data",
          "data": {
            "text/plain": [
              "<Figure size 640x480 with 1 Axes>"
            ],
            "image/png": "[encoded data removed]"
          },
          "metadata": {}
        }
      ]
    },
    {
      "cell_type": "code",
      "source": [
        "#히스토그램 그리기\n",
        "plt.hist(df[\"평균기온(℃)\"], bins=30)\n",
        "plt.show()"
      ],
      "metadata": {
        "colab": {
          "base_uri": "https://localhost:8080/",
          "height": 430
        },
        "id": "jN4dS-XQ8U11",
        "outputId": "38cb83e5-72d9-4010-8954-a678edea87ef"
      },
      "execution_count": 47,
      "outputs": [
        {
          "output_type": "display_data",
          "data": {
            "text/plain": [
              "<Figure size 640x480 with 1 Axes>"
            ],
            "image/png": "[encoded data removed]"
          },
          "metadata": {}
        }
      ]
    },
    {
      "cell_type": "code",
      "source": [
        "#연습\n",
        "import pandas as pd\n",
        "import matplotlib.pyplot as plt\n",
        "\n",
        "df=pd.read_csv(\"seoul-temp_2013-2023 (1).csv\", encoding=\"cp949\")\n",
        "print(df)\n",
        "\n",
        "plt.plot(df[\"평균최저기온(℃)\"])\n",
        "plt.show()\n",
        "\n",
        "plt.hist(df[\"평균최저기온(℃)\"])\n",
        "plt.show()"
      ],
      "metadata": {
        "colab": {
          "base_uri": "https://localhost:8080/",
          "height": 1000
        },
        "id": "oWH0Am0d8X5f",
        "outputId": "58743e4f-6555-45e3-a7fa-8e7f694cfc84"
      },
      "execution_count": 55,
      "outputs": [
        {
          "output_type": "stream",
          "name": "stdout",
          "text": [
            "          년월   지점  평균기온(℃)  평균최저기온(℃)  평균최고기온(℃)\n",
            "0    2013-01  108     -3.4       -6.6        0.3\n",
            "1    2013-02  108     -1.2       -4.9        2.8\n",
            "2    2013-03  108      5.1        0.7       10.8\n",
            "3    2013-04  108     10.0        5.7       15.0\n",
            "4    2013-05  108     18.2       13.7       23.6\n",
            "..       ...  ...      ...        ...        ...\n",
            "121  2023-02  108      2.3       -1.9        7.3\n",
            "122  2023-03  108      9.8        4.2       16.2\n",
            "123  2023-04  108     13.8        8.8       19.0\n",
            "124  2023-05  108     19.5       14.6       25.0\n",
            "125  2023-06  108      NaN        NaN        NaN\n",
            "\n",
            "[126 rows x 5 columns]\n"
          ]
        },
        {
          "output_type": "display_data",
          "data": {
            "text/plain": [
              "<Figure size 640x480 with 1 Axes>"
            ],
            "image/png": "[encoded data removed]"
          },
          "metadata": {}
        },
        {
          "output_type": "display_data",
          "data": {
            "text/plain": [
              "<Figure size 640x480 with 1 Axes>"
            ],
            "image/png": "[encoded data removed]"
          },
          "metadata": {}
        }
      ]
    },
    {
      "cell_type": "markdown",
      "source": [
        "통계함수\n",
        "- 특정 열에 대한 통계값을 구할 때, 열 추출하고, 그 뒤에 통계함수를 메서드 형식으로 써줌\n",
        "- 예) df.[\"평균기온\"].sum(), df.[\"평균기온\"].mean()"
      ],
      "metadata": {
        "id": "QDkwPqfT9ozF"
      }
    },
    {
      "cell_type": "code",
      "source": [
        "#최저기온의 합계 구하기\n",
        "low_sum = df[\"평균최저기온(℃)\"].sum()\n",
        "print(low_sum)\n",
        "\n",
        "#최저기온의 평균 구하기\n",
        "low_mean = df[\"평균최저기온(℃)\"].mean()\n",
        "print(low_mean)\n",
        "\n",
        "#최저기온의 표준편차 구하기\n",
        "low_std = df[\"평균최저기온(℃)\"].std()\n",
        "print(low_std)\n",
        "\n",
        "#최저기온의 중간값 구하기\n",
        "low_med = df[\"평균최저기온(℃)\"].median()\n",
        "print(low_med)\n",
        "\n",
        "#최저기온의 최소값 구하기\n",
        "low_mn = df[\"평균최저기온(℃)\"].min()\n",
        "print(low_mn)\n",
        "\n",
        "#최저기온의 최대값 구하기\n",
        "low_mx = df[\"평균최저기온(℃)\"].max()\n",
        "print(low_mx)"
      ],
      "metadata": {
        "colab": {
          "base_uri": "https://localhost:8080/"
        },
        "id": "lhLsrWS89GAq",
        "outputId": "36ee808b-9ebc-4d0c-a680-30ceac188b2a"
      },
      "execution_count": 65,
      "outputs": [
        {
          "output_type": "stream",
          "name": "stdout",
          "text": [
            "1120.1999999999996\n",
            "8.961599999999997\n",
            "10.265788658169111\n",
            "9.4\n",
            "-7.3\n",
            "25.2\n"
          ]
        }
      ]
    },
    {
      "cell_type": "code",
      "source": [
        "#최고기온의 합계 구하기\n",
        "high_sum=df[\"평균최고기온(℃)\"].sum()\n",
        "print(high_sum)\n",
        "\n",
        "#최고기온의 평균 구하기\n",
        "high_mean=df[\"평균최고기온(℃)\"].mean()\n",
        "print(high_mean)\n",
        "\n",
        "#최고기온의 표준편차 구하기\n",
        "high_std=df[\"평균최고기온(℃)\"].std()\n",
        "print(high_std)\n",
        "\n",
        "#최고기온의 중간값 구하기\n",
        "high_med=df[\"평균최고기온(℃)\"].median()\n",
        "print(high_med)\n",
        "\n",
        "#최고기온의 최소값 구하기\n",
        "high_mn=df[\"평균최고기온(℃)\"].min()\n",
        "print(high_mn)\n",
        "\n",
        "#최고기온의 최대값 구하기\n",
        "high_mx=df[\"평균최고기온(℃)\"].max()\n",
        "print(high_mx)"
      ],
      "metadata": {
        "colab": {
          "base_uri": "https://localhost:8080/"
        },
        "id": "HpAIP4mw9bli",
        "outputId": "df3d2aee-bbbc-42ec-91e0-a4c57f752400"
      },
      "execution_count": 67,
      "outputs": [
        {
          "output_type": "stream",
          "name": "stdout",
          "text": [
            "2244.0999999999995\n",
            "17.952799999999996\n",
            "10.065732157720458\n",
            "19.6\n",
            "0.1\n",
            "33.3\n"
          ]
        }
      ]
    },
    {
      "cell_type": "markdown",
      "source": [
        "정렬함수\n",
        "- 특정 열의 값에 따른 정렬, sort 함수 사용\n",
        "- 오름차순이 기본, 내림차순의 경우 ascending=False 추가\n",
        "- 예) df.sort_values(by=\"평균기온\"), df.sort_values(by=\"평균기온\",ascending=False)"
      ],
      "metadata": {
        "id": "vx4v-Dh6_Khm"
      }
    },
    {
      "cell_type": "code",
      "source": [
        "#평균기온 오름차순 정렬\n",
        "print(df.sort_values(by=\"평균기온(℃)\"))"
      ],
      "metadata": {
        "colab": {
          "base_uri": "https://localhost:8080/"
        },
        "id": "N5hKsQym-5GT",
        "outputId": "52edc683-10a4-4126-a8b4-1a281d42650d"
      },
      "execution_count": 69,
      "outputs": [
        {
          "output_type": "stream",
          "name": "stdout",
          "text": [
            "          년월   지점  평균기온(℃)  평균최저기온(℃)  평균최고기온(℃)\n",
            "60   2018-01  108     -4.0       -7.3        0.1\n",
            "0    2013-01  108     -3.4       -6.6        0.3\n",
            "36   2016-01  108     -3.2       -6.8        1.1\n",
            "23   2014-12  108     -2.9       -6.7        1.5\n",
            "119  2022-12  108     -2.8       -6.6        1.7\n",
            "..       ...  ...      ...        ...        ...\n",
            "66   2018-07  108     27.8       24.2       32.1\n",
            "43   2016-08  108     28.0       24.5       32.6\n",
            "102  2021-07  108     28.1       24.6       32.2\n",
            "67   2018-08  108     28.8       25.2       33.3\n",
            "125  2023-06  108      NaN        NaN        NaN\n",
            "\n",
            "[126 rows x 5 columns]\n"
          ]
        }
      ]
    },
    {
      "cell_type": "code",
      "source": [
        "#평균기온 내림차순 정렬\n",
        "print(df.sort_values(by=\"평균최고기온(℃)\", ascending=False))"
      ],
      "metadata": {
        "colab": {
          "base_uri": "https://localhost:8080/"
        },
        "id": "rbnY5qeM_doK",
        "outputId": "727dce32-eaaf-442e-c775-41ae4f4e08c2"
      },
      "execution_count": 70,
      "outputs": [
        {
          "output_type": "stream",
          "name": "stdout",
          "text": [
            "          년월   지점  평균기온(℃)  평균최저기온(℃)  평균최고기온(℃)\n",
            "67   2018-08  108     28.8       25.2       33.3\n",
            "43   2016-08  108     28.0       24.5       32.6\n",
            "102  2021-07  108     28.1       24.6       32.2\n",
            "66   2018-07  108     27.8       24.2       32.1\n",
            "79   2019-08  108     27.2       23.6       31.6\n",
            "..       ...  ...      ...        ...        ...\n",
            "23   2014-12  108     -2.9       -6.7        1.5\n",
            "36   2016-01  108     -3.2       -6.8        1.1\n",
            "0    2013-01  108     -3.4       -6.6        0.3\n",
            "60   2018-01  108     -4.0       -7.3        0.1\n",
            "125  2023-06  108      NaN        NaN        NaN\n",
            "\n",
            "[126 rows x 5 columns]\n"
          ]
        }
      ]
    },
    {
      "cell_type": "code",
      "source": [],
      "metadata": {
        "id": "xaLkerl8_lzj"
      },
      "execution_count": null,
      "outputs": []
    }
  ]
}