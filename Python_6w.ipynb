{
  "nbformat": 4,
  "nbformat_minor": 0,
  "metadata": {
    "colab": {
      "provenance": []
    },
    "kernelspec": {
      "name": "python3",
      "display_name": "Python 3"
    },
    "language_info": {
      "name": "python"
    }
  },
  "cells": [
    {
      "cell_type": "markdown",
      "source": [
        "함수"
      ],
      "metadata": {
        "id": "7QfTbtdcmY8Y"
      }
    },
    {
      "cell_type": "code",
      "execution_count": 3,
      "metadata": {
        "colab": {
          "base_uri": "https://localhost:8080/"
        },
        "id": "kM7ckC_Gdzw1",
        "outputId": "3b13632c-497e-4fac-e5c5-6b7e8ebe35e1"
      },
      "outputs": [
        {
          "output_type": "stream",
          "name": "stdout",
          "text": [
            "Study Python Function\n",
            "안녕 파이썬\n",
            "즐거운 코딩시간이야\n",
            "Understand Function\n"
          ]
        }
      ],
      "source": [
        "#입력과 출력이 비어 있는 함수\n",
        "def hello():\n",
        "  print(\"안녕 파이썬\")\n",
        "  print(\"즐거운 코딩시간이야\")\n",
        "\n",
        "print(\"Study Python Function\")\n",
        "hello()\n",
        "print(\"Understand Function\")"
      ]
    },
    {
      "cell_type": "code",
      "source": [
        "def hello():\n",
        "  print(\"안녕 파이썬\")\n",
        "  print(\"즐거운 코딩시간이야\")\n",
        "\n",
        "def Goodbye():\n",
        "  print(\"다음에 또 만나요\")\n",
        "\n",
        "print(\"Study Python Function\")\n",
        "hello()\n",
        "print(\"Understand Function\")\n",
        "Goodbye()\n"
      ],
      "metadata": {
        "colab": {
          "base_uri": "https://localhost:8080/"
        },
        "id": "A0aCTN6NmrOH",
        "outputId": "f576e6a7-bf4a-4f64-cbd1-4b1addeadbd0"
      },
      "execution_count": 4,
      "outputs": [
        {
          "output_type": "stream",
          "name": "stdout",
          "text": [
            "Study Python Function\n",
            "안녕 파이썬\n",
            "즐거운 코딩시간이야\n",
            "Understand Function\n",
            "다음에 또 만나요\n"
          ]
        }
      ]
    },
    {
      "cell_type": "code",
      "source": [
        "#인사하기 함수\n",
        "def 인사하기(name,n):\n",
        "  for x in range(n):\n",
        "    print(\"안녕\",name)\n",
        "\n",
        "인사하기('홍길동',3)\n",
        "인사하기('이순신',2)"
      ],
      "metadata": {
        "colab": {
          "base_uri": "https://localhost:8080/"
        },
        "id": "OeE1SI7Bm5kc",
        "outputId": "e0fbc795-aba4-471a-df9c-9d79d15c7719"
      },
      "execution_count": 5,
      "outputs": [
        {
          "output_type": "stream",
          "name": "stdout",
          "text": [
            "안녕 홍길동\n",
            "안녕 홍길동\n",
            "안녕 홍길동\n",
            "안녕 이순신\n",
            "안녕 이순신\n"
          ]
        }
      ]
    },
    {
      "cell_type": "code",
      "source": [
        "#함수 응용하기\n",
        "def hello():\n",
        "  print(\"Hello, Python!\")\n",
        "\n",
        "def helloint():\n",
        "  print(77)\n",
        "\n",
        "print(\"처음 하는 함수 호출 hello()\")\n",
        "hello()\n",
        "print('함수 호출 hello() 이후')\n",
        "\n",
        "print(1)\n",
        "print(helloint)\n",
        "helloint()\n",
        "print(3)"
      ],
      "metadata": {
        "colab": {
          "base_uri": "https://localhost:8080/"
        },
        "id": "KoAn8_SYnC1_",
        "outputId": "2b2d7698-c5cb-4d07-b9b8-05215e262dbc"
      },
      "execution_count": 6,
      "outputs": [
        {
          "output_type": "stream",
          "name": "stdout",
          "text": [
            "처음 하는 함수 호출 hello()\n",
            "Hello, Python!\n",
            "함수 호출 hello() 이후\n",
            "1\n",
            "<function helloint at 0x7f7226ef7430>\n",
            "77\n",
            "3\n"
          ]
        }
      ]
    },
    {
      "cell_type": "code",
      "source": [
        "def hello(name):\n",
        "  print('안녕',name)\n",
        "\n",
        "hello('나희')\n",
        "sname='기수'\n",
        "hello(sname)"
      ],
      "metadata": {
        "colab": {
          "base_uri": "https://localhost:8080/"
        },
        "id": "7CT1RaMNnVIH",
        "outputId": "2ef49bec-dada-4412-98df-790c7a2a545b"
      },
      "execution_count": 7,
      "outputs": [
        {
          "output_type": "stream",
          "name": "stdout",
          "text": [
            "안녕 나희\n",
            "안녕 기수\n"
          ]
        }
      ]
    },
    {
      "cell_type": "code",
      "source": [
        "def hello(name='나희'):\n",
        "  print('안녕,',name)\n",
        "\n",
        "hello()\n",
        "hello('기수')\n"
      ],
      "metadata": {
        "colab": {
          "base_uri": "https://localhost:8080/"
        },
        "id": "XfpMRAWInijT",
        "outputId": "df838dba-f6e5-4c92-9a5a-09c92cafd6f7"
      },
      "execution_count": 10,
      "outputs": [
        {
          "output_type": "stream",
          "name": "stdout",
          "text": [
            "안녕, 나희\n",
            "안녕, 기수\n"
          ]
        }
      ]
    },
    {
      "cell_type": "code",
      "source": [
        "def f(x):\n",
        "  y=2*x+1\n",
        "  return y\n",
        "\n",
        "print('f(10)=',f(10))\n",
        "print('f(20)=',f(20))\n",
        "print('f(30)=',f(30))"
      ],
      "metadata": {
        "colab": {
          "base_uri": "https://localhost:8080/"
        },
        "id": "KmsY-NqYnv7Z",
        "outputId": "c5724d64-58c5-42b7-d96a-04fcf69f4dcc"
      },
      "execution_count": 12,
      "outputs": [
        {
          "output_type": "stream",
          "name": "stdout",
          "text": [
            "f(10)= 21\n",
            "f(20)= 41\n",
            "f(30)= 61\n"
          ]
        }
      ]
    },
    {
      "cell_type": "code",
      "source": [
        "def mysum(x,y=0):\n",
        "  return x+y\n",
        "\n",
        "hap=mysum(5)\n",
        "print(hap)\n",
        "\n",
        "hap=mysum(5,10)\n",
        "print(hap)\n",
        "\n",
        "def getprime():\n",
        "  return 2,3,4,5\n",
        "\n",
        "a,b,c,d=getprime()\n",
        "print(a,b,c,d)\n",
        "\n",
        "prime=getprime()\n",
        "print(prime)"
      ],
      "metadata": {
        "colab": {
          "base_uri": "https://localhost:8080/"
        },
        "id": "QSxATj3in9Fe",
        "outputId": "c6658856-ce58-4cfc-f8c7-71631a4dc0f5"
      },
      "execution_count": 15,
      "outputs": [
        {
          "output_type": "stream",
          "name": "stdout",
          "text": [
            "5\n",
            "15\n",
            "2 3 4 5\n",
            "(2, 3, 4, 5)\n"
          ]
        }
      ]
    },
    {
      "cell_type": "code",
      "source": [
        "#내장함수\n",
        "# abs(), pow(), round(), divmod(), min,max,sum\n",
        "print(abs(-3)) #abs 절대값\n",
        "print(pow(2,3)) #pow 2의 3승 지수 (power)\n",
        "print(round(3.1415)) #round 반올림\n",
        "print(round(3.1415,3)) #round 반올림, 몇 번째 자리까지 출력\n",
        "print(divmod(10,3)) #divmod 인자 2개의 나누기 몫과 나머지로 구성된 한 쌍의 튜플로 반환 (a//b,a%b)\n",
        "print(min(5,1,10)) #min 최소값\n",
        "print(max(5,1,10)) #max 최대값\n",
        "print(sum([5,1,10])) #sum 합, 리스트 형태로 하지 않으면 에러가 남!!!\n",
        "print(sum([5,1,10],1)) #만약 인자가 2개이면 정수인 두번째 인자를 더해 반환환\n",
        "\n"
      ],
      "metadata": {
        "colab": {
          "base_uri": "https://localhost:8080/"
        },
        "id": "eKfSa3OMo5Cx",
        "outputId": "9035909e-d289-4abd-f061-2e2b4733250b"
      },
      "execution_count": 18,
      "outputs": [
        {
          "output_type": "stream",
          "name": "stdout",
          "text": [
            "3\n",
            "8\n",
            "3\n",
            "3.142\n",
            "(3, 1)\n",
            "1\n",
            "10\n",
            "16\n",
            "17\n"
          ]
        }
      ]
    },
    {
      "cell_type": "code",
      "source": [
        "#sorted(), reversed(),all(),any()\n",
        "\n",
        "count=[20,10,80,50]\n",
        "print(sorted(count)) #sorted 숫자 정렬\n",
        "print(sorted(count,reverse=True)) #soreted 숫자 정렬, reverse=True 역순으로 정렬\n",
        "\n",
        "b=all([3>4, 'p' in 'py']) #all 모든 항목이 참이면 True\n",
        "print(b)\n",
        "print(all(\"\")) #all 항목이 비어있는 시퀀스는 True 반환\n",
        "b=any([3>4, 'p' in 'py']) #any 하나의 항목이 참이면 True\n",
        "print(b)\n",
        "print(any(\"\")) #any 항목이 비어있는 시퀀스는 False 반환"
      ],
      "metadata": {
        "colab": {
          "base_uri": "https://localhost:8080/"
        },
        "id": "EeO1LZJ6pqP6",
        "outputId": "85d7e7e1-e716-40cd-a382-71bd92b7bcb6"
      },
      "execution_count": 27,
      "outputs": [
        {
          "output_type": "stream",
          "name": "stdout",
          "text": [
            "[10, 20, 50, 80]\n",
            "[80, 50, 20, 10]\n",
            "False\n",
            "True\n",
            "True\n",
            "False\n"
          ]
        }
      ]
    },
    {
      "cell_type": "markdown",
      "source": [
        "입력값, 리턴값에 따른 함수의 형태\n",
        "- 입력값과 리턴값이 모두 있는 함수, 가장 일반적인 형태\n",
        "- 입력값이 없고, 리턴값만 있는 함수\n",
        "- 입력값이 있고, 리턴값이 없는 함수\n",
        "- 입력값과 리턴갑싱 모두 없는 함수\n"
      ],
      "metadata": {
        "id": "Oxd3zFQYrSdJ"
      }
    },
    {
      "cell_type": "code",
      "source": [
        "#입력값과 리턴값이 모두 있는 함수\n",
        "def sum(a,b):\n",
        "  c = a+b\n",
        "  return c\n",
        "\n",
        "s = sum(3,4)\n",
        "print(s)"
      ],
      "metadata": {
        "colab": {
          "base_uri": "https://localhost:8080/"
        },
        "id": "jswVAi_iqX3r",
        "outputId": "b094f7b3-998f-4ee0-f675-f83beb7cefa5"
      },
      "execution_count": 28,
      "outputs": [
        {
          "output_type": "stream",
          "name": "stdout",
          "text": [
            "7\n"
          ]
        }
      ]
    },
    {
      "cell_type": "code",
      "source": [
        "def sum(a,b):\n",
        "  c = a+b\n",
        "  print(c)\n",
        "\n",
        "s = sum(3,4)\n",
        "print(s)"
      ],
      "metadata": {
        "colab": {
          "base_uri": "https://localhost:8080/"
        },
        "id": "ffaqG0m0rlxc",
        "outputId": "6e115c43-a643-4ce9-a368-ac0f08183c34"
      },
      "execution_count": 29,
      "outputs": [
        {
          "output_type": "stream",
          "name": "stdout",
          "text": [
            "7\n",
            "None\n"
          ]
        }
      ]
    },
    {
      "cell_type": "code",
      "source": [
        "#입력값이 없고, 리턴값만 있는 함수\n",
        "def say():\n",
        "  return \"Hello world\"\n",
        "\n",
        "a=say()\n",
        "print(a)"
      ],
      "metadata": {
        "colab": {
          "base_uri": "https://localhost:8080/"
        },
        "id": "XZSVcVynrhD0",
        "outputId": "c48762ce-6836-4af6-e493-45aa1e63a44f"
      },
      "execution_count": 30,
      "outputs": [
        {
          "output_type": "stream",
          "name": "stdout",
          "text": [
            "Hello world\n"
          ]
        }
      ]
    },
    {
      "cell_type": "code",
      "source": [
        "#입력값이 있고, 리턴값이 없는 함수\n",
        "def sum(a,b):\n",
        "  print(a,b,a+b)\n",
        "\n",
        "a=sum(3,5)"
      ],
      "metadata": {
        "colab": {
          "base_uri": "https://localhost:8080/"
        },
        "id": "E7jv8EwfsA6S",
        "outputId": "59ac9a88-587a-4408-e652-87d78de86415"
      },
      "execution_count": 31,
      "outputs": [
        {
          "output_type": "stream",
          "name": "stdout",
          "text": [
            "3 5 8\n"
          ]
        }
      ]
    },
    {
      "cell_type": "code",
      "source": [
        "#입력값과 리턴값이 모두 없는 함수\n",
        "def say():\n",
        "  print(\"Hello\")\n",
        "\n",
        "say()"
      ],
      "metadata": {
        "colab": {
          "base_uri": "https://localhost:8080/"
        },
        "id": "X27Mxrs5sIgh",
        "outputId": "20d502eb-03a5-4cfe-ea19-98a815e46cf7"
      },
      "execution_count": 32,
      "outputs": [
        {
          "output_type": "stream",
          "name": "stdout",
          "text": [
            "Hello\n"
          ]
        }
      ]
    },
    {
      "cell_type": "code",
      "source": [
        "help()"
      ],
      "metadata": {
        "colab": {
          "base_uri": "https://localhost:8080/"
        },
        "id": "I5bBqGhwsOW6",
        "outputId": "e8c335f2-162e-4bb9-b91f-db218554aad5"
      },
      "execution_count": 36,
      "outputs": [
        {
          "output_type": "stream",
          "name": "stdout",
          "text": [
            "\n",
            "Welcome to Python 3.9's help utility!\n",
            "\n",
            "If this is your first time using Python, you should definitely check out\n",
            "the tutorial on the Internet at https://docs.python.org/3.9/tutorial/.\n",
            "\n",
            "Enter the name of any module, keyword, or topic to get help on writing\n",
            "Python programs and using Python modules.  To quit this help utility and\n",
            "return to the interpreter, just type \"quit\".\n",
            "\n",
            "To get a list of available modules, keywords, symbols, or topics, type\n",
            "\"modules\", \"keywords\", \"symbols\", or \"topics\".  Each module also comes\n",
            "with a one-line summary of what it does; to list the modules whose name\n",
            "or summary contain a given string such as \"spam\", type \"modules spam\".\n",
            "\n",
            "help> def\n",
            "Function definitions\n",
            "********************\n",
            "\n",
            "A function definition defines a user-defined function object (see\n",
            "section The standard type hierarchy):\n",
            "\n",
            "   funcdef                   ::= [decorators] \"def\" funcname \"(\" [parameter_list] \")\"\n",
            "               [\"->\" expression] \":\" suite\n",
            "   decorators                ::= decorator+\n",
            "   decorator                 ::= \"@\" assignment_expression NEWLINE\n",
            "   parameter_list            ::= defparameter (\",\" defparameter)* \",\" \"/\" [\",\" [parameter_list_no_posonly]]\n",
            "                        | parameter_list_no_posonly\n",
            "   parameter_list_no_posonly ::= defparameter (\",\" defparameter)* [\",\" [parameter_list_starargs]]\n",
            "                                 | parameter_list_starargs\n",
            "   parameter_list_starargs   ::= \"*\" [parameter] (\",\" defparameter)* [\",\" [\"**\" parameter [\",\"]]]\n",
            "                               | \"**\" parameter [\",\"]\n",
            "   parameter                 ::= identifier [\":\" expression]\n",
            "   defparameter              ::= parameter [\"=\" expression]\n",
            "   funcname                  ::= identifier\n",
            "\n",
            "A function definition is an executable statement.  Its execution binds\n",
            "the function name in the current local namespace to a function object\n",
            "(a wrapper around the executable code for the function).  This\n",
            "function object contains a reference to the current global namespace\n",
            "as the global namespace to be used when the function is called.\n",
            "\n",
            "The function definition does not execute the function body; this gets\n",
            "executed only when the function is called. [2]\n",
            "\n",
            "A function definition may be wrapped by one or more *decorator*\n",
            "expressions. Decorator expressions are evaluated when the function is\n",
            "defined, in the scope that contains the function definition.  The\n",
            "result must be a callable, which is invoked with the function object\n",
            "as the only argument. The returned value is bound to the function name\n",
            "instead of the function object.  Multiple decorators are applied in\n",
            "nested fashion. For example, the following code\n",
            "\n",
            "   @f1(arg)\n",
            "   @f2\n",
            "   def func(): pass\n",
            "\n",
            "is roughly equivalent to\n",
            "\n",
            "   def func(): pass\n",
            "   func = f1(arg)(f2(func))\n",
            "\n",
            "except that the original function is not temporarily bound to the name\n",
            "\"func\".\n",
            "\n",
            "Changed in version 3.9: Functions may be decorated with any valid\n",
            "\"assignment_expression\". Previously, the grammar was much more\n",
            "restrictive; see **PEP 614** for details.\n",
            "\n",
            "When one or more *parameters* have the form *parameter* \"=\"\n",
            "*expression*, the function is said to have “default parameter values.”\n",
            "For a parameter with a default value, the corresponding *argument* may\n",
            "be omitted from a call, in which case the parameter’s default value is\n",
            "substituted.  If a parameter has a default value, all following\n",
            "parameters up until the “\"*\"” must also have a default value — this is\n",
            "a syntactic restriction that is not expressed by the grammar.\n",
            "\n",
            "**Default parameter values are evaluated from left to right when the\n",
            "function definition is executed.** This means that the expression is\n",
            "evaluated once, when the function is defined, and that the same “pre-\n",
            "computed” value is used for each call.  This is especially important\n",
            "to understand when a default parameter is a mutable object, such as a\n",
            "list or a dictionary: if the function modifies the object (e.g. by\n",
            "appending an item to a list), the default value is in effect modified.\n",
            "This is generally not what was intended.  A way around this is to use\n",
            "\"None\" as the default, and explicitly test for it in the body of the\n",
            "function, e.g.:\n",
            "\n",
            "   def whats_on_the_telly(penguin=None):\n",
            "       if penguin is None:\n",
            "           penguin = []\n",
            "       penguin.append(\"property of the zoo\")\n",
            "       return penguin\n",
            "\n",
            "Function call semantics are described in more detail in section Calls.\n",
            "A function call always assigns values to all parameters mentioned in\n",
            "the parameter list, either from positional arguments, from keyword\n",
            "arguments, or from default values.  If the form “\"*identifier\"” is\n",
            "present, it is initialized to a tuple receiving any excess positional\n",
            "parameters, defaulting to the empty tuple. If the form\n",
            "“\"**identifier\"” is present, it is initialized to a new ordered\n",
            "mapping receiving any excess keyword arguments, defaulting to a new\n",
            "empty mapping of the same type.  Parameters after “\"*\"” or\n",
            "“\"*identifier\"” are keyword-only parameters and may only be passed by\n",
            "keyword arguments.  Parameters before “\"/\"” are positional-only\n",
            "parameters and may only be passed by positional arguments.\n",
            "\n",
            "Changed in version 3.8: The \"/\" function parameter syntax may be used\n",
            "to indicate positional-only parameters. See **PEP 570** for details.\n",
            "\n",
            "Parameters may have an *annotation* of the form “\": expression\"”\n",
            "following the parameter name.  Any parameter may have an annotation,\n",
            "even those of the form \"*identifier\" or \"**identifier\".  Functions may\n",
            "have “return” annotation of the form “\"-> expression\"” after the\n",
            "parameter list.  These annotations can be any valid Python expression.\n",
            "The presence of annotations does not change the semantics of a\n",
            "function.  The annotation values are available as values of a\n",
            "dictionary keyed by the parameters’ names in the \"__annotations__\"\n",
            "attribute of the function object.  If the \"annotations\" import from\n",
            "\"__future__\" is used, annotations are preserved as strings at runtime\n",
            "which enables postponed evaluation.  Otherwise, they are evaluated\n",
            "when the function definition is executed.  In this case annotations\n",
            "may be evaluated in a different order than they appear in the source\n",
            "code.\n",
            "\n",
            "It is also possible to create anonymous functions (functions not bound\n",
            "to a name), for immediate use in expressions.  This uses lambda\n",
            "expressions, described in section Lambdas.  Note that the lambda\n",
            "expression is merely a shorthand for a simplified function definition;\n",
            "a function defined in a “\"def\"” statement can be passed around or\n",
            "assigned to another name just like a function defined by a lambda\n",
            "expression.  The “\"def\"” form is actually more powerful since it\n",
            "allows the execution of multiple statements and annotations.\n",
            "\n",
            "**Programmer’s note:** Functions are first-class objects.  A “\"def\"”\n",
            "statement executed inside a function definition defines a local\n",
            "function that can be returned or passed around.  Free variables used\n",
            "in the nested function can access the local variables of the function\n",
            "containing the def.  See section Naming and binding for details.\n",
            "\n",
            "See also:\n",
            "\n",
            "  **PEP 3107** - Function Annotations\n",
            "     The original specification for function annotations.\n",
            "\n",
            "  **PEP 484** - Type Hints\n",
            "     Definition of a standard meaning for annotations: type hints.\n",
            "\n",
            "  **PEP 526** - Syntax for Variable Annotations\n",
            "     Ability to type hint variable declarations, including class\n",
            "     variables and instance variables\n",
            "\n",
            "  **PEP 563** - Postponed Evaluation of Annotations\n",
            "     Support for forward references within annotations by preserving\n",
            "     annotations in a string form at runtime instead of eager\n",
            "     evaluation.\n",
            "\n",
            "\n",
            "You are now leaving help and returning to the Python interpreter.\n",
            "If you want to ask for help on a particular object directly from the\n",
            "interpreter, you can type \"help(object)\".  Executing \"help('string')\"\n",
            "has the same effect as typing a particular string at the help> prompt.\n"
          ]
        }
      ]
    },
    {
      "cell_type": "code",
      "source": [
        "#람다함수\n",
        "lambda x:x+1\n",
        "lambda x,y:x+y\n",
        "print(lambda x:x+1)\n",
        "print(lambda x,y:x+y)\n",
        "\n",
        "(lambda x,y:x*y)(10,20) #10*20=200\n",
        "print((lambda x,y:x*y)(10,20))\n",
        "print(x) #lambda는 소멸성이므로 x 변수에 저장한 것이 아니여서 에러 발생"
      ],
      "metadata": {
        "colab": {
          "base_uri": "https://localhost:8080/",
          "height": 266
        },
        "id": "jhr11b7Wso-O",
        "outputId": "9a2f759f-a614-4f61-8728-3e7013786c2c"
      },
      "execution_count": 57,
      "outputs": [
        {
          "output_type": "stream",
          "name": "stdout",
          "text": [
            "<function <lambda> at 0x7f72163d2dc0>\n",
            "<function <lambda> at 0x7f72163d2dc0>\n",
            "200\n"
          ]
        },
        {
          "output_type": "error",
          "ename": "NameError",
          "evalue": "ignored",
          "traceback": [
            "\u001b[0;31m---------------------------------------------------------------------------\u001b[0m",
            "\u001b[0;31mNameError\u001b[0m                                 Traceback (most recent call last)",
            "\u001b[0;32m<ipython-input-57-a9a79a14014f>\u001b[0m in \u001b[0;36m<cell line: 9>\u001b[0;34m()\u001b[0m\n\u001b[1;32m      7\u001b[0m \u001b[0;34m(\u001b[0m\u001b[0;32mlambda\u001b[0m \u001b[0mx\u001b[0m\u001b[0;34m,\u001b[0m\u001b[0my\u001b[0m\u001b[0;34m:\u001b[0m\u001b[0mx\u001b[0m\u001b[0;34m*\u001b[0m\u001b[0my\u001b[0m\u001b[0;34m)\u001b[0m\u001b[0;34m(\u001b[0m\u001b[0;36m10\u001b[0m\u001b[0;34m,\u001b[0m\u001b[0;36m20\u001b[0m\u001b[0;34m)\u001b[0m \u001b[0;31m#10*20=200\u001b[0m\u001b[0;34m\u001b[0m\u001b[0;34m\u001b[0m\u001b[0m\n\u001b[1;32m      8\u001b[0m \u001b[0mprint\u001b[0m\u001b[0;34m(\u001b[0m\u001b[0;34m(\u001b[0m\u001b[0;32mlambda\u001b[0m \u001b[0mx\u001b[0m\u001b[0;34m,\u001b[0m\u001b[0my\u001b[0m\u001b[0;34m:\u001b[0m\u001b[0mx\u001b[0m\u001b[0;34m*\u001b[0m\u001b[0my\u001b[0m\u001b[0;34m)\u001b[0m\u001b[0;34m(\u001b[0m\u001b[0;36m10\u001b[0m\u001b[0;34m,\u001b[0m\u001b[0;36m20\u001b[0m\u001b[0;34m)\u001b[0m\u001b[0;34m)\u001b[0m\u001b[0;34m\u001b[0m\u001b[0;34m\u001b[0m\u001b[0m\n\u001b[0;32m----> 9\u001b[0;31m \u001b[0mprint\u001b[0m\u001b[0;34m(\u001b[0m\u001b[0mx\u001b[0m\u001b[0;34m)\u001b[0m \u001b[0;31m#lambda는 소멸성이므로 x 변수에 저장한 것이 아니여서 에러 발생\u001b[0m\u001b[0;34m\u001b[0m\u001b[0;34m\u001b[0m\u001b[0m\n\u001b[0m",
            "\u001b[0;31mNameError\u001b[0m: name 'x' is not defined"
          ]
        }
      ]
    },
    {
      "cell_type": "code",
      "source": [
        "#map함수\n",
        "#항목을 하나씩 차례로 반환환\n",
        "def addone(n):\n",
        "  return n+1\n",
        "\n",
        "lst=list(map(addone,[10,30,50,20]))\n",
        "print(lst)"
      ],
      "metadata": {
        "colab": {
          "base_uri": "https://localhost:8080/"
        },
        "id": "HF4eeol1uO-_",
        "outputId": "b5db2316-5654-4ecf-be5e-5533d4bfaa60"
      },
      "execution_count": 39,
      "outputs": [
        {
          "output_type": "stream",
          "name": "stdout",
          "text": [
            "[11, 31, 51, 21]\n"
          ]
        }
      ]
    },
    {
      "cell_type": "code",
      "source": [
        "#map 응용, lambda\n",
        "def add(x,y):\n",
        "  return x+y\n",
        "\n",
        "lst=list(map(add,[10,30,50,20],[1,3,5,2]))\n",
        "print(lst)\n",
        "\n",
        "lst2=list(map(lambda x,y:x+y,[10,30,50,20],[1,3,5,2]))\n",
        "print(lst2)"
      ],
      "metadata": {
        "colab": {
          "base_uri": "https://localhost:8080/"
        },
        "id": "Qw3ycdBgtN_F",
        "outputId": "d169a6e8-33e8-4515-90f9-75ea1c22e8e4"
      },
      "execution_count": 41,
      "outputs": [
        {
          "output_type": "stream",
          "name": "stdout",
          "text": [
            "[11, 33, 55, 22]\n",
            "[11, 33, 55, 22]\n"
          ]
        }
      ]
    },
    {
      "cell_type": "code",
      "source": [
        "#map() 원 면적 구하기\n",
        "circle=[3,5,7,10]\n",
        "\n",
        "area=list(map(lambda r:r*r*3.14,circle))\n",
        "\n",
        "for c,a in zip(circle,area):\n",
        "  print('반지름',c,'원면적',a)"
      ],
      "metadata": {
        "colab": {
          "base_uri": "https://localhost:8080/"
        },
        "id": "zxiJqSSou0Ft",
        "outputId": "3cc2b749-8220-465b-97fa-225dc5d18d18"
      },
      "execution_count": 45,
      "outputs": [
        {
          "output_type": "stream",
          "name": "stdout",
          "text": [
            "반지름 3 원면적 28.26\n",
            "반지름 5 원면적 78.5\n",
            "반지름 7 원면적 153.86\n",
            "반지름 10 원면적 314.0\n"
          ]
        }
      ]
    },
    {
      "cell_type": "code",
      "source": [
        "dir()\n"
      ],
      "metadata": {
        "colab": {
          "base_uri": "https://localhost:8080/"
        },
        "id": "AaiJ6wCdwEPO",
        "outputId": "399b2979-4a41-4f92-f40e-ecb248612567"
      },
      "execution_count": 47,
      "outputs": [
        {
          "output_type": "execute_result",
          "data": {
            "text/plain": [
              "['Goodbye',\n",
              " 'In',\n",
              " 'Out',\n",
              " '_',\n",
              " '_46',\n",
              " '__',\n",
              " '___',\n",
              " '__builtin__',\n",
              " '__builtins__',\n",
              " '__doc__',\n",
              " '__loader__',\n",
              " '__name__',\n",
              " '__package__',\n",
              " '__spec__',\n",
              " '_dh',\n",
              " '_i',\n",
              " '_i1',\n",
              " '_i10',\n",
              " '_i11',\n",
              " '_i12',\n",
              " '_i13',\n",
              " '_i14',\n",
              " '_i15',\n",
              " '_i16',\n",
              " '_i17',\n",
              " '_i18',\n",
              " '_i19',\n",
              " '_i2',\n",
              " '_i20',\n",
              " '_i21',\n",
              " '_i22',\n",
              " '_i23',\n",
              " '_i24',\n",
              " '_i25',\n",
              " '_i26',\n",
              " '_i27',\n",
              " '_i28',\n",
              " '_i29',\n",
              " '_i3',\n",
              " '_i30',\n",
              " '_i31',\n",
              " '_i32',\n",
              " '_i33',\n",
              " '_i34',\n",
              " '_i35',\n",
              " '_i36',\n",
              " '_i37',\n",
              " '_i38',\n",
              " '_i39',\n",
              " '_i4',\n",
              " '_i40',\n",
              " '_i41',\n",
              " '_i42',\n",
              " '_i43',\n",
              " '_i44',\n",
              " '_i45',\n",
              " '_i46',\n",
              " '_i47',\n",
              " '_i5',\n",
              " '_i6',\n",
              " '_i7',\n",
              " '_i8',\n",
              " '_i9',\n",
              " '_ih',\n",
              " '_ii',\n",
              " '_iii',\n",
              " '_oh',\n",
              " 'a',\n",
              " 'add',\n",
              " 'addone',\n",
              " 'area',\n",
              " 'b',\n",
              " 'c',\n",
              " 'circle',\n",
              " 'count',\n",
              " 'd',\n",
              " 'exit',\n",
              " 'f',\n",
              " 'get_ipython',\n",
              " 'getprime',\n",
              " 'hap',\n",
              " 'hello',\n",
              " 'helloint',\n",
              " 'lst',\n",
              " 'lst2',\n",
              " 'mysum',\n",
              " 'prime',\n",
              " 'quit',\n",
              " 's',\n",
              " 'say',\n",
              " 'sname',\n",
              " 'sum',\n",
              " '인사하기']"
            ]
          },
          "metadata": {},
          "execution_count": 47
        }
      ]
    },
    {
      "cell_type": "code",
      "source": [
        "dir(__builtins__)"
      ],
      "metadata": {
        "colab": {
          "base_uri": "https://localhost:8080/"
        },
        "id": "1TkZsw0ywG2v",
        "outputId": "72f03560-c6bf-4cb5-81f6-d1bb0c35151d"
      },
      "execution_count": 48,
      "outputs": [
        {
          "output_type": "execute_result",
          "data": {
            "text/plain": [
              "['ArithmeticError',\n",
              " 'AssertionError',\n",
              " 'AttributeError',\n",
              " 'BaseException',\n",
              " 'BlockingIOError',\n",
              " 'BrokenPipeError',\n",
              " 'BufferError',\n",
              " 'BytesWarning',\n",
              " 'ChildProcessError',\n",
              " 'ConnectionAbortedError',\n",
              " 'ConnectionError',\n",
              " 'ConnectionRefusedError',\n",
              " 'ConnectionResetError',\n",
              " 'DeprecationWarning',\n",
              " 'EOFError',\n",
              " 'Ellipsis',\n",
              " 'EnvironmentError',\n",
              " 'Exception',\n",
              " 'False',\n",
              " 'FileExistsError',\n",
              " 'FileNotFoundError',\n",
              " 'FloatingPointError',\n",
              " 'FutureWarning',\n",
              " 'GeneratorExit',\n",
              " 'IOError',\n",
              " 'ImportError',\n",
              " 'ImportWarning',\n",
              " 'IndentationError',\n",
              " 'IndexError',\n",
              " 'InterruptedError',\n",
              " 'IsADirectoryError',\n",
              " 'KeyError',\n",
              " 'KeyboardInterrupt',\n",
              " 'LookupError',\n",
              " 'MemoryError',\n",
              " 'ModuleNotFoundError',\n",
              " 'NameError',\n",
              " 'None',\n",
              " 'NotADirectoryError',\n",
              " 'NotImplemented',\n",
              " 'NotImplementedError',\n",
              " 'OSError',\n",
              " 'OverflowError',\n",
              " 'PendingDeprecationWarning',\n",
              " 'PermissionError',\n",
              " 'ProcessLookupError',\n",
              " 'RecursionError',\n",
              " 'ReferenceError',\n",
              " 'ResourceWarning',\n",
              " 'RuntimeError',\n",
              " 'RuntimeWarning',\n",
              " 'StopAsyncIteration',\n",
              " 'StopIteration',\n",
              " 'SyntaxError',\n",
              " 'SyntaxWarning',\n",
              " 'SystemError',\n",
              " 'SystemExit',\n",
              " 'TabError',\n",
              " 'TimeoutError',\n",
              " 'True',\n",
              " 'TypeError',\n",
              " 'UnboundLocalError',\n",
              " 'UnicodeDecodeError',\n",
              " 'UnicodeEncodeError',\n",
              " 'UnicodeError',\n",
              " 'UnicodeTranslateError',\n",
              " 'UnicodeWarning',\n",
              " 'UserWarning',\n",
              " 'ValueError',\n",
              " 'Warning',\n",
              " 'ZeroDivisionError',\n",
              " '__IPYTHON__',\n",
              " '__build_class__',\n",
              " '__debug__',\n",
              " '__doc__',\n",
              " '__import__',\n",
              " '__loader__',\n",
              " '__name__',\n",
              " '__package__',\n",
              " '__spec__',\n",
              " 'abs',\n",
              " 'all',\n",
              " 'any',\n",
              " 'ascii',\n",
              " 'bin',\n",
              " 'bool',\n",
              " 'breakpoint',\n",
              " 'bytearray',\n",
              " 'bytes',\n",
              " 'callable',\n",
              " 'chr',\n",
              " 'classmethod',\n",
              " 'compile',\n",
              " 'complex',\n",
              " 'copyright',\n",
              " 'credits',\n",
              " 'delattr',\n",
              " 'dict',\n",
              " 'dir',\n",
              " 'display',\n",
              " 'divmod',\n",
              " 'enumerate',\n",
              " 'eval',\n",
              " 'exec',\n",
              " 'execfile',\n",
              " 'filter',\n",
              " 'float',\n",
              " 'format',\n",
              " 'frozenset',\n",
              " 'get_ipython',\n",
              " 'getattr',\n",
              " 'globals',\n",
              " 'hasattr',\n",
              " 'hash',\n",
              " 'help',\n",
              " 'hex',\n",
              " 'id',\n",
              " 'input',\n",
              " 'int',\n",
              " 'isinstance',\n",
              " 'issubclass',\n",
              " 'iter',\n",
              " 'len',\n",
              " 'license',\n",
              " 'list',\n",
              " 'locals',\n",
              " 'map',\n",
              " 'max',\n",
              " 'memoryview',\n",
              " 'min',\n",
              " 'next',\n",
              " 'object',\n",
              " 'oct',\n",
              " 'open',\n",
              " 'ord',\n",
              " 'pow',\n",
              " 'print',\n",
              " 'property',\n",
              " 'range',\n",
              " 'repr',\n",
              " 'reversed',\n",
              " 'round',\n",
              " 'runfile',\n",
              " 'set',\n",
              " 'setattr',\n",
              " 'slice',\n",
              " 'sorted',\n",
              " 'staticmethod',\n",
              " 'str',\n",
              " 'sum',\n",
              " 'super',\n",
              " 'tuple',\n",
              " 'type',\n",
              " 'vars',\n",
              " 'zip']"
            ]
          },
          "metadata": {},
          "execution_count": 48
        }
      ]
    },
    {
      "cell_type": "code",
      "source": [
        "#실습\n",
        "def f1(x):\n",
        "  a=3\n",
        "  b=5\n",
        "  y=a*x+b\n",
        "  return y\n",
        "\n",
        "c=f1(10)\n",
        "print(c)"
      ],
      "metadata": {
        "colab": {
          "base_uri": "https://localhost:8080/"
        },
        "id": "poD-HZlyxPY2",
        "outputId": "d2d64a90-c367-42da-b0fd-50fa22cb9b77"
      },
      "execution_count": 49,
      "outputs": [
        {
          "output_type": "stream",
          "name": "stdout",
          "text": [
            "35\n"
          ]
        }
      ]
    },
    {
      "cell_type": "code",
      "source": [
        "def f1(x):\n",
        "  a=3\n",
        "  b=5\n",
        "  y=a*x+b\n",
        "  print(y)\n",
        "\n",
        "d=f1(10)\n",
        "print(d) #def 함수에 print를 써도 상관없는데 함수 호출을 했을 때 호출되지 않음음\n",
        "f1(10)"
      ],
      "metadata": {
        "colab": {
          "base_uri": "https://localhost:8080/"
        },
        "id": "4x5-ycz6xZ4m",
        "outputId": "22652db1-5233-419d-93bb-3aca1a2420e4"
      },
      "execution_count": 51,
      "outputs": [
        {
          "output_type": "stream",
          "name": "stdout",
          "text": [
            "35\n",
            "None\n",
            "35\n"
          ]
        }
      ]
    },
    {
      "cell_type": "markdown",
      "source": [
        "딕셔너리"
      ],
      "metadata": {
        "id": "N0S-DynMzEpu"
      }
    },
    {
      "cell_type": "code",
      "source": [
        "thisdict = {\n",
        "    \"brand\" : \"Ford\",\n",
        "    \"model\" : \"Mustang\",\n",
        "    \"year\" : 1964\n",
        "}\n",
        "print(thisdict)\n",
        "print(thisdict[\"brand\"])\n",
        "print(len(thisdict))\n",
        "print(type(thisdict))"
      ],
      "metadata": {
        "colab": {
          "base_uri": "https://localhost:8080/"
        },
        "id": "gfopgbhAzHmL",
        "outputId": "ca312d9b-136f-4888-d2ef-7a6cd9a8604d"
      },
      "execution_count": 58,
      "outputs": [
        {
          "output_type": "stream",
          "name": "stdout",
          "text": [
            "{'brand': 'Ford', 'model': 'Mustang', 'year': 1964}\n",
            "Ford\n",
            "3\n",
            "<class 'dict'>\n"
          ]
        }
      ]
    },
    {
      "cell_type": "code",
      "source": [
        "#update\n",
        "thisdict = {\n",
        "    \"brand\" : \"Ford\",\n",
        "    \"model\" : \"Mustang\",\n",
        "    \"year\" : 1964\n",
        "}\n",
        "\n",
        "thisdict[\"year\"]=2018 #데이터 변경\n",
        "print(thisdict)\n",
        "\n",
        "thisdict.update({\"year\":2020}) #update method 활용 {}\n",
        "print(thisdict)"
      ],
      "metadata": {
        "colab": {
          "base_uri": "https://localhost:8080/"
        },
        "id": "LKHKVCn3zVvL",
        "outputId": "49887e34-e894-455b-d1fc-64d0f4a52964"
      },
      "execution_count": 60,
      "outputs": [
        {
          "output_type": "stream",
          "name": "stdout",
          "text": [
            "{'brand': 'Ford', 'model': 'Mustang', 'year': 2018}\n",
            "{'brand': 'Ford', 'model': 'Mustang', 'year': 2020}\n"
          ]
        }
      ]
    },
    {
      "cell_type": "code",
      "source": [
        "#keys()\n",
        "thisdict = {\n",
        "    \"brand\" : \"Ford\",\n",
        "    \"model\" : \"Mustang\",\n",
        "    \"year\" : 1964\n",
        "}\n",
        "\n",
        "x=thisdict.keys()\n",
        "print(x) #before the change\n",
        "\n",
        "thisdict[\"color\"] = \"white\"\n",
        "print(thisdict)\n",
        "print(x) #after the change"
      ],
      "metadata": {
        "colab": {
          "base_uri": "https://localhost:8080/"
        },
        "id": "lv9LINYszpwc",
        "outputId": "03a712ee-fa80-4ba5-867b-9639c58606f1"
      },
      "execution_count": 74,
      "outputs": [
        {
          "output_type": "stream",
          "name": "stdout",
          "text": [
            "dict_keys(['brand', 'model', 'year'])\n",
            "{'brand': 'Ford', 'model': 'Mustang', 'year': 1964, 'color': 'white'}\n",
            "dict_keys(['brand', 'model', 'year', 'color'])\n"
          ]
        }
      ]
    },
    {
      "cell_type": "code",
      "source": [
        "#values()\n",
        "car = {\n",
        "    \"brand\" : \"Ford\",\n",
        "    \"model\" : \"Mustang\",\n",
        "    \"year\" : 1964\n",
        "}\n",
        "\n",
        "x=car.values()\n",
        "print(x) #before the change\n",
        "\n",
        "car['year'] = 2000\n",
        "print(thisdict)\n",
        "print(x) #after the change"
      ],
      "metadata": {
        "colab": {
          "base_uri": "https://localhost:8080/"
        },
        "id": "ag3X4xkEz_v9",
        "outputId": "a6c4923f-87b1-4dc4-86dd-0da194813344"
      },
      "execution_count": 75,
      "outputs": [
        {
          "output_type": "stream",
          "name": "stdout",
          "text": [
            "dict_values(['Ford', 'Mustang', 1964])\n",
            "{'brand': 'Ford', 'model': 'Mustang', 'year': 1964, 'color': 'white'}\n",
            "dict_values(['Ford', 'Mustang', 2000])\n"
          ]
        }
      ]
    },
    {
      "cell_type": "code",
      "source": [
        "#get()\n",
        "thisdict = {\n",
        "    \"brand\" : \"Ford\",\n",
        "    \"electric\" : False,\n",
        "    \"year\" : 1964,\n",
        "    \"colors\" : [\"red\",\"white\",\"blue\"]\n",
        "}\n",
        "print(thisdict)\n",
        "\n",
        "#get the value of the 'model' key\n",
        "\n",
        "x=thisdict.get(\"model\") #get 하는 원소가 딕셔너리에 없어도 에러가 나지 않음!!\n",
        "print(x)"
      ],
      "metadata": {
        "colab": {
          "base_uri": "https://localhost:8080/"
        },
        "id": "HeE73BWS0Qan",
        "outputId": "e2ede995-0cfe-4b49-f9a2-4487ef613435"
      },
      "execution_count": 76,
      "outputs": [
        {
          "output_type": "stream",
          "name": "stdout",
          "text": [
            "{'brand': 'Ford', 'electric': False, 'year': 1964, 'colors': ['red', 'white', 'blue']}\n",
            "None\n"
          ]
        }
      ]
    },
    {
      "cell_type": "code",
      "source": [
        "#items()\n",
        "car = {\n",
        "    \"brand\" : \"Ford\",\n",
        "    \"model\" : \"Mustang\",\n",
        "    \"year\" : 1964\n",
        "}\n",
        "x=car.items()\n",
        "print(x) #before the change\n",
        "\n",
        "car[\"year\"]=2020\n",
        "print(x) #after the change"
      ],
      "metadata": {
        "colab": {
          "base_uri": "https://localhost:8080/"
        },
        "id": "x4HO4lhp0w2s",
        "outputId": "7ab7c29a-e2e9-4641-d535-afbf831a5332"
      },
      "execution_count": 67,
      "outputs": [
        {
          "output_type": "stream",
          "name": "stdout",
          "text": [
            "dict_items([('brand', 'Ford'), ('model', 'Mustang'), ('year', 1964)])\n",
            "dict_items([('brand', 'Ford'), ('model', 'Mustang'), ('year', 2020)])\n"
          ]
        }
      ]
    },
    {
      "cell_type": "code",
      "source": [
        "#삭제기능 #pop 특정 원소 삭제\n",
        "thisdict = {\n",
        "    \"brand\" : \"Ford\",\n",
        "    \"model\" : \"Mustang\",\n",
        "    \"year\" : 1964\n",
        "}\n",
        "\n",
        "thisdict.pop(\"model\") #pop 특정 원소 삭제\n",
        "print(thisdict)"
      ],
      "metadata": {
        "colab": {
          "base_uri": "https://localhost:8080/"
        },
        "id": "xYs7oQAU07U8",
        "outputId": "a97f0874-854c-4152-9540-537231b8a453"
      },
      "execution_count": 71,
      "outputs": [
        {
          "output_type": "stream",
          "name": "stdout",
          "text": [
            "{'brand': 'Ford', 'year': 1964}\n"
          ]
        }
      ]
    },
    {
      "cell_type": "code",
      "source": [
        "#삭제기능 #popitem 마지막 아이템 삭제\n",
        "thisdict = {\n",
        "    \"brand\" : \"Ford\",\n",
        "    \"model\" : \"Mustang\",\n",
        "    \"year\" : 1964\n",
        "}\n",
        "\n",
        "thisdict.popitem() #popitem 마지막 아이템 삭제\n",
        "print(thisdict)"
      ],
      "metadata": {
        "colab": {
          "base_uri": "https://localhost:8080/"
        },
        "id": "UDLtzpYc1U3Q",
        "outputId": "3e0e4264-69c3-4b12-96db-ee8dca55af5d"
      },
      "execution_count": 70,
      "outputs": [
        {
          "output_type": "stream",
          "name": "stdout",
          "text": [
            "{'brand': 'Ford', 'model': 'Mustang'}\n"
          ]
        }
      ]
    },
    {
      "cell_type": "code",
      "source": [
        "#삭제기능 #del 지정된 키 이름을 가진 항목 삭제\n",
        "thisdict = {\n",
        "    \"brand\" : \"Ford\",\n",
        "    \"model\" : \"Mustang\",\n",
        "    \"year\" : 1964\n",
        "}\n",
        "\n",
        "del thisdict[\"model\"] #del 지정된 키 이름을 가진 항목 삭제\n",
        "print(thisdict)"
      ],
      "metadata": {
        "colab": {
          "base_uri": "https://localhost:8080/"
        },
        "id": "ZPcJvMEm1ihs",
        "outputId": "97ad9002-8b08-4b56-e6a8-ea601c1fb2d6"
      },
      "execution_count": 72,
      "outputs": [
        {
          "output_type": "stream",
          "name": "stdout",
          "text": [
            "{'brand': 'Ford', 'year': 1964}\n"
          ]
        }
      ]
    },
    {
      "cell_type": "code",
      "source": [
        "#삭제기능 #딕셔너리 비우기\n",
        "thisdict = {\n",
        "    \"brand\" : \"Ford\",\n",
        "    \"model\" : \"Mustang\",\n",
        "    \"year\" : 1964\n",
        "}\n",
        "\n",
        "thisdict.clear() #딕셔너리 비우기\n",
        "print(thisdict)"
      ],
      "metadata": {
        "colab": {
          "base_uri": "https://localhost:8080/"
        },
        "id": "0ig4oP5l1qEG",
        "outputId": "e4c240a1-d848-4d2b-819c-040bd33d0333"
      },
      "execution_count": 73,
      "outputs": [
        {
          "output_type": "stream",
          "name": "stdout",
          "text": [
            "{}\n"
          ]
        }
      ]
    },
    {
      "cell_type": "markdown",
      "source": [
        "실습-영어사전 등록 프로그램 만들기\n"
      ],
      "metadata": {
        "id": "OoV21EKv3i9s"
      }
    },
    {
      "cell_type": "code",
      "source": [
        "from google.colab import files\n",
        "load=files.upload()"
      ],
      "metadata": {
        "colab": {
          "base_uri": "https://localhost:8080/",
          "height": 77
        },
        "id": "vnz4C5Pe3jef",
        "outputId": "0c414b8f-1aac-447e-bbd7-2ccab2278ccb"
      },
      "execution_count": 84,
      "outputs": [
        {
          "output_type": "display_data",
          "data": {
            "text/plain": [
              "<IPython.core.display.HTML object>"
            ],
            "text/html": [
              "\n",
              "     <input type=\"file\" id=\"files-6f5fe42f-aad6-4e5c-8caf-dbcbacef839d\" name=\"files[]\" multiple disabled\n",
              "        style=\"border:none\" />\n",
              "     <output id=\"result-6f5fe42f-aad6-4e5c-8caf-dbcbacef839d\">\n",
              "      Upload widget is only available when the cell has been executed in the\n",
              "      current browser session. Please rerun this cell to enable.\n",
              "      </output>\n",
              "      <script>// Copyright 2017 Google LLC\n",
              "//\n",
              "// Licensed under the Apache License, Version 2.0 (the \"License\");\n",
              "// you may not use this file except in compliance with the License.\n",
              "// You may obtain a copy of the License at\n",
              "//\n",
              "//      http://www.apache.org/licenses/LICENSE-2.0\n",
              "//\n",
              "// Unless required by applicable law or agreed to in writing, software\n",
              "// distributed under the License is distributed on an \"AS IS\" BASIS,\n",
              "// WITHOUT WARRANTIES OR CONDITIONS OF ANY KIND, either express or implied.\n",
              "// See the License for the specific language governing permissions and\n",
              "// limitations under the License.\n",
              "\n",
              "/**\n",
              " * @fileoverview Helpers for google.colab Python module.\n",
              " */\n",
              "(function(scope) {\n",
              "function span(text, styleAttributes = {}) {\n",
              "  const element = document.createElement('span');\n",
              "  element.textContent = text;\n",
              "  for (const key of Object.keys(styleAttributes)) {\n",
              "    element.style[key] = styleAttributes[key];\n",
              "  }\n",
              "  return element;\n",
              "}\n",
              "\n",
              "// Max number of bytes which will be uploaded at a time.\n",
              "const MAX_PAYLOAD_SIZE = 100 * 1024;\n",
              "\n",
              "function _uploadFiles(inputId, outputId) {\n",
              "  const steps = uploadFilesStep(inputId, outputId);\n",
              "  const outputElement = document.getElementById(outputId);\n",
              "  // Cache steps on the outputElement to make it available for the next call\n",
              "  // to uploadFilesContinue from Python.\n",
              "  outputElement.steps = steps;\n",
              "\n",
              "  return _uploadFilesContinue(outputId);\n",
              "}\n",
              "\n",
              "// This is roughly an async generator (not supported in the browser yet),\n",
              "// where there are multiple asynchronous steps and the Python side is going\n",
              "// to poll for completion of each step.\n",
              "// This uses a Promise to block the python side on completion of each step,\n",
              "// then passes the result of the previous step as the input to the next step.\n",
              "function _uploadFilesContinue(outputId) {\n",
              "  const outputElement = document.getElementById(outputId);\n",
              "  const steps = outputElement.steps;\n",
              "\n",
              "  const next = steps.next(outputElement.lastPromiseValue);\n",
              "  return Promise.resolve(next.value.promise).then((value) => {\n",
              "    // Cache the last promise value to make it available to the next\n",
              "    // step of the generator.\n",
              "    outputElement.lastPromiseValue = value;\n",
              "    return next.value.response;\n",
              "  });\n",
              "}\n",
              "\n",
              "/**\n",
              " * Generator function which is called between each async step of the upload\n",
              " * process.\n",
              " * @param {string} inputId Element ID of the input file picker element.\n",
              " * @param {string} outputId Element ID of the output display.\n",
              " * @return {!Iterable<!Object>} Iterable of next steps.\n",
              " */\n",
              "function* uploadFilesStep(inputId, outputId) {\n",
              "  const inputElement = document.getElementById(inputId);\n",
              "  inputElement.disabled = false;\n",
              "\n",
              "  const outputElement = document.getElementById(outputId);\n",
              "  outputElement.innerHTML = '';\n",
              "\n",
              "  const pickedPromise = new Promise((resolve) => {\n",
              "    inputElement.addEventListener('change', (e) => {\n",
              "      resolve(e.target.files);\n",
              "    });\n",
              "  });\n",
              "\n",
              "  const cancel = document.createElement('button');\n",
              "  inputElement.parentElement.appendChild(cancel);\n",
              "  cancel.textContent = 'Cancel upload';\n",
              "  const cancelPromise = new Promise((resolve) => {\n",
              "    cancel.onclick = () => {\n",
              "      resolve(null);\n",
              "    };\n",
              "  });\n",
              "\n",
              "  // Wait for the user to pick the files.\n",
              "  const files = yield {\n",
              "    promise: Promise.race([pickedPromise, cancelPromise]),\n",
              "    response: {\n",
              "      action: 'starting',\n",
              "    }\n",
              "  };\n",
              "\n",
              "  cancel.remove();\n",
              "\n",
              "  // Disable the input element since further picks are not allowed.\n",
              "  inputElement.disabled = true;\n",
              "\n",
              "  if (!files) {\n",
              "    return {\n",
              "      response: {\n",
              "        action: 'complete',\n",
              "      }\n",
              "    };\n",
              "  }\n",
              "\n",
              "  for (const file of files) {\n",
              "    const li = document.createElement('li');\n",
              "    li.append(span(file.name, {fontWeight: 'bold'}));\n",
              "    li.append(span(\n",
              "        `(${file.type || 'n/a'}) - ${file.size} bytes, ` +\n",
              "        `last modified: ${\n",
              "            file.lastModifiedDate ? file.lastModifiedDate.toLocaleDateString() :\n",
              "                                    'n/a'} - `));\n",
              "    const percent = span('0% done');\n",
              "    li.appendChild(percent);\n",
              "\n",
              "    outputElement.appendChild(li);\n",
              "\n",
              "    const fileDataPromise = new Promise((resolve) => {\n",
              "      const reader = new FileReader();\n",
              "      reader.onload = (e) => {\n",
              "        resolve(e.target.result);\n",
              "      };\n",
              "      reader.readAsArrayBuffer(file);\n",
              "    });\n",
              "    // Wait for the data to be ready.\n",
              "    let fileData = yield {\n",
              "      promise: fileDataPromise,\n",
              "      response: {\n",
              "        action: 'continue',\n",
              "      }\n",
              "    };\n",
              "\n",
              "    // Use a chunked sending to avoid message size limits. See b/62115660.\n",
              "    let position = 0;\n",
              "    do {\n",
              "      const length = Math.min(fileData.byteLength - position, MAX_PAYLOAD_SIZE);\n",
              "      const chunk = new Uint8Array(fileData, position, length);\n",
              "      position += length;\n",
              "\n",
              "      const base64 = btoa(String.fromCharCode.apply(null, chunk));\n",
              "      yield {\n",
              "        response: {\n",
              "          action: 'append',\n",
              "          file: file.name,\n",
              "          data: base64,\n",
              "        },\n",
              "      };\n",
              "\n",
              "      let percentDone = fileData.byteLength === 0 ?\n",
              "          100 :\n",
              "          Math.round((position / fileData.byteLength) * 100);\n",
              "      percent.textContent = `${percentDone}% done`;\n",
              "\n",
              "    } while (position < fileData.byteLength);\n",
              "  }\n",
              "\n",
              "  // All done.\n",
              "  yield {\n",
              "    response: {\n",
              "      action: 'complete',\n",
              "    }\n",
              "  };\n",
              "}\n",
              "\n",
              "scope.google = scope.google || {};\n",
              "scope.google.colab = scope.google.colab || {};\n",
              "scope.google.colab._files = {\n",
              "  _uploadFiles,\n",
              "  _uploadFilesContinue,\n",
              "};\n",
              "})(self);\n",
              "</script> "
            ]
          },
          "metadata": {}
        },
        {
          "output_type": "stream",
          "name": "stdout",
          "text": [
            "Saving animal_eng.txt to animal_eng (1).txt\n"
          ]
        }
      ]
    },
    {
      "cell_type": "code",
      "source": [
        "import pandas as pd\n",
        "\n",
        "dic = {}\n",
        "fp=open('animal_eng (1).txt','r') #파일 읽기 r:read\n",
        "for line in fp.readlines(): #행을 목록형으로 변환\n",
        "  x=line.split(',')\n",
        "  dic[x[0]]=x[1].replace(\"\\n\",\"\") #치환\n",
        "fp.close()\n",
        "print(dic)\n",
        "print(line) #for문 가장 끝의 line 출력\n",
        "\n",
        "while 1: #무한반복 while True\n",
        "  query=input(\"동물이름을 적으시오(한글)\")\n",
        "  key=query.lower() #소문자\n",
        "  if key in dic:\n",
        "    eng=dic.get(key)\n",
        "    print(\"{}는 영어로는 {}입니다.\".format(query,eng)) #오타주의\n",
        "  else:\n",
        "    print(\"***등록되지 않은 언어입니다\")"
      ],
      "metadata": {
        "colab": {
          "base_uri": "https://localhost:8080/",
          "height": 620
        },
        "id": "VxLLIbR54rVe",
        "outputId": "6b3a74b7-bd16-456f-c66d-8ae178a7212c"
      },
      "execution_count": 88,
      "outputs": [
        {
          "output_type": "stream",
          "name": "stdout",
          "text": [
            "{'강아지': 'dog', '고양이': 'cat', '새': 'bird', '코끼리': 'elephant'}\n",
            "코끼리,elephant\n",
            "동물이름을 적으시오(한글)강아지\n",
            "강아지는 영어로는 dog입니다.\n",
            "동물이름을 적으시오(한글)개\n",
            "***등록되지 않은 언어입니다\n",
            "동물이름을 적으시오(한글)dog\n",
            "***등록되지 않은 언어입니다\n",
            "동물이름을 적으시오(한글)새\n",
            "새는 영어로는 bird입니다.\n",
            "동물이름을 적으시오(한글)코끼리\n",
            "코끼리는 영어로는 elephant입니다.\n"
          ]
        },
        {
          "output_type": "error",
          "ename": "KeyboardInterrupt",
          "evalue": "ignored",
          "traceback": [
            "\u001b[0;31m---------------------------------------------------------------------------\u001b[0m",
            "\u001b[0;31mKeyboardInterrupt\u001b[0m                         Traceback (most recent call last)",
            "\u001b[0;32m<ipython-input-88-01b68b344124>\u001b[0m in \u001b[0;36m<cell line: 13>\u001b[0;34m()\u001b[0m\n\u001b[1;32m     11\u001b[0m \u001b[0;34m\u001b[0m\u001b[0m\n\u001b[1;32m     12\u001b[0m \u001b[0;32mwhile\u001b[0m \u001b[0;36m1\u001b[0m\u001b[0;34m:\u001b[0m \u001b[0;31m#무한반복 while True\u001b[0m\u001b[0;34m\u001b[0m\u001b[0;34m\u001b[0m\u001b[0m\n\u001b[0;32m---> 13\u001b[0;31m   \u001b[0mquery\u001b[0m\u001b[0;34m=\u001b[0m\u001b[0minput\u001b[0m\u001b[0;34m(\u001b[0m\u001b[0;34m\"동물이름을 적으시오(한글)\"\u001b[0m\u001b[0;34m)\u001b[0m\u001b[0;34m\u001b[0m\u001b[0;34m\u001b[0m\u001b[0m\n\u001b[0m\u001b[1;32m     14\u001b[0m   \u001b[0mkey\u001b[0m\u001b[0;34m=\u001b[0m\u001b[0mquery\u001b[0m\u001b[0;34m.\u001b[0m\u001b[0mlower\u001b[0m\u001b[0;34m(\u001b[0m\u001b[0;34m)\u001b[0m \u001b[0;31m#소문자\u001b[0m\u001b[0;34m\u001b[0m\u001b[0;34m\u001b[0m\u001b[0m\n\u001b[1;32m     15\u001b[0m   \u001b[0;32mif\u001b[0m \u001b[0mkey\u001b[0m \u001b[0;32min\u001b[0m \u001b[0mdic\u001b[0m\u001b[0;34m:\u001b[0m\u001b[0;34m\u001b[0m\u001b[0;34m\u001b[0m\u001b[0m\n",
            "\u001b[0;32m/usr/local/lib/python3.9/dist-packages/ipykernel/kernelbase.py\u001b[0m in \u001b[0;36mraw_input\u001b[0;34m(self, prompt)\u001b[0m\n\u001b[1;32m    849\u001b[0m                 \u001b[0;34m\"raw_input was called, but this frontend does not support input requests.\"\u001b[0m\u001b[0;34m\u001b[0m\u001b[0;34m\u001b[0m\u001b[0m\n\u001b[1;32m    850\u001b[0m             )\n\u001b[0;32m--> 851\u001b[0;31m         return self._input_request(str(prompt),\n\u001b[0m\u001b[1;32m    852\u001b[0m             \u001b[0mself\u001b[0m\u001b[0;34m.\u001b[0m\u001b[0m_parent_ident\u001b[0m\u001b[0;34m,\u001b[0m\u001b[0;34m\u001b[0m\u001b[0;34m\u001b[0m\u001b[0m\n\u001b[1;32m    853\u001b[0m             \u001b[0mself\u001b[0m\u001b[0;34m.\u001b[0m\u001b[0m_parent_header\u001b[0m\u001b[0;34m,\u001b[0m\u001b[0;34m\u001b[0m\u001b[0;34m\u001b[0m\u001b[0m\n",
            "\u001b[0;32m/usr/local/lib/python3.9/dist-packages/ipykernel/kernelbase.py\u001b[0m in \u001b[0;36m_input_request\u001b[0;34m(self, prompt, ident, parent, password)\u001b[0m\n\u001b[1;32m    893\u001b[0m             \u001b[0;32mexcept\u001b[0m \u001b[0mKeyboardInterrupt\u001b[0m\u001b[0;34m:\u001b[0m\u001b[0;34m\u001b[0m\u001b[0;34m\u001b[0m\u001b[0m\n\u001b[1;32m    894\u001b[0m                 \u001b[0;31m# re-raise KeyboardInterrupt, to truncate traceback\u001b[0m\u001b[0;34m\u001b[0m\u001b[0;34m\u001b[0m\u001b[0m\n\u001b[0;32m--> 895\u001b[0;31m                 \u001b[0;32mraise\u001b[0m \u001b[0mKeyboardInterrupt\u001b[0m\u001b[0;34m(\u001b[0m\u001b[0;34m\"Interrupted by user\"\u001b[0m\u001b[0;34m)\u001b[0m \u001b[0;32mfrom\u001b[0m \u001b[0;32mNone\u001b[0m\u001b[0;34m\u001b[0m\u001b[0;34m\u001b[0m\u001b[0m\n\u001b[0m\u001b[1;32m    896\u001b[0m             \u001b[0;32mexcept\u001b[0m \u001b[0mException\u001b[0m \u001b[0;32mas\u001b[0m \u001b[0me\u001b[0m\u001b[0;34m:\u001b[0m\u001b[0;34m\u001b[0m\u001b[0;34m\u001b[0m\u001b[0m\n\u001b[1;32m    897\u001b[0m                 \u001b[0mself\u001b[0m\u001b[0;34m.\u001b[0m\u001b[0mlog\u001b[0m\u001b[0;34m.\u001b[0m\u001b[0mwarning\u001b[0m\u001b[0;34m(\u001b[0m\u001b[0;34m\"Invalid Message:\"\u001b[0m\u001b[0;34m,\u001b[0m \u001b[0mexc_info\u001b[0m\u001b[0;34m=\u001b[0m\u001b[0;32mTrue\u001b[0m\u001b[0;34m)\u001b[0m\u001b[0;34m\u001b[0m\u001b[0;34m\u001b[0m\u001b[0m\n",
            "\u001b[0;31mKeyboardInterrupt\u001b[0m: Interrupted by user"
          ]
        }
      ]
    }
  ]
}