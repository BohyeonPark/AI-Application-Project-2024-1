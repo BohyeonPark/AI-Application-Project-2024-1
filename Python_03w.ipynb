{
  "nbformat": 4,
  "nbformat_minor": 0,
  "metadata": {
    "colab": {
      "provenance": []
    },
    "kernelspec": {
      "name": "python3",
      "display_name": "Python 3"
    },
    "language_info": {
      "name": "python"
    }
  },
  "cells": [
    {
      "cell_type": "code",
      "execution_count": 5,
      "metadata": {
        "colab": {
          "base_uri": "https://localhost:8080/"
        },
        "id": "Ar3mZer0XieF",
        "outputId": "755c5a43-609e-431c-b453-b14ea04a5b8b"
      },
      "outputs": [
        {
          "output_type": "stream",
          "name": "stdout",
          "text": [
            "이름을 입력하세요:보현\n",
            "Hello 보현\n",
            "Hello보현\n",
            "전공을 입력하세요:인공지능응용\n",
            "출생년도를 입력하세요:1997\n",
            "안녕~ 만나서 반가워\n",
            "지금부터 내 소개를 시작할게~\n",
            "내 이름은 보현이야\n",
            "나는 인공지능응용전공이야\n",
            "내 나이는 27이야\n"
          ]
        }
      ],
      "source": [
        "#2주차 복습\n",
        "name=input(\"이름을 입력하세요:\")\n",
        "print(\"Hello\",name)\n",
        "print(\"Hello\"+name)\n",
        "\n",
        "major=input(\"전공을 입력하세요:\")\n",
        "year=int(input(\"출생년도를 입력하세요:\"))\n",
        "age=2023-year+1\n",
        "\n",
        "print(\"안녕~ 만나서 반가워\")\n",
        "print(\"지금부터 내 소개를 시작할게~\")\n",
        "print(\"내 이름은 %s이야\" %name)\n",
        "print(\"나는 %s전공이야\" %major)\n",
        "print(\"내 나이는 %d이야\"%age)"
      ]
    },
    {
      "cell_type": "code",
      "source": [
        "#If문\n",
        "a=33\n",
        "b=200\n",
        "if b>a:\n",
        "  print(\"b가 b보다 크다\")\n",
        "\n",
        "c=33\n",
        "d=33\n",
        "if c>d:\n",
        "  print(\"d가 c보다 크다\")\n",
        "elif c==d:\n",
        "  print(\"c와 d는 같다\")\n",
        "\n",
        "print(\"감사합니다\")\n",
        "\n",
        "#논리연산자\n",
        "e=200\n",
        "f=33\n",
        "g=500\n",
        "if e>f and g>e:\n",
        "  print(\"논리연산자 and\")"
      ],
      "metadata": {
        "colab": {
          "base_uri": "https://localhost:8080/"
        },
        "id": "swhAlgIjYcev",
        "outputId": "ece99a75-ab18-46f2-ded8-3dba14a20c89"
      },
      "execution_count": 10,
      "outputs": [
        {
          "output_type": "stream",
          "name": "stdout",
          "text": [
            "b가 b보다 크다\n",
            "c와 d는 같다\n",
            "감사합니다\n",
            "논리연산자 and\n"
          ]
        }
      ]
    },
    {
      "cell_type": "code",
      "source": [
        "#주석처리 ''' '''\n",
        "'''\n",
        "a=33\n",
        "b=200\n",
        "if b>a:\n",
        "  print(\"b가 b보다 크다\")\n",
        "'''\n",
        "print(\"주석\")"
      ],
      "metadata": {
        "colab": {
          "base_uri": "https://localhost:8080/"
        },
        "id": "iY6WjZBRYifh",
        "outputId": "cc09db7b-fd01-4874-ce67-60bf8b97a393"
      },
      "execution_count": 7,
      "outputs": [
        {
          "output_type": "stream",
          "name": "stdout",
          "text": [
            "주석\n"
          ]
        }
      ]
    },
    {
      "cell_type": "code",
      "source": [
        "#turtle 모듈 사용하기 (colab 실행X)\n",
        "#모듈 종류는 turtle, random, time, calender, numpy, pandas 등등 매우 많음\n",
        "import turtle\n",
        "\n",
        "turtle.shape(\"turtle\")\n",
        "\n",
        "#삼각형\n",
        "turtle.forward(200)\n",
        "turtle.left(120) #왼쪽 120도\n",
        "turtle.forward(200)\n",
        "turtle.left(120) #왼쪽 120도\n",
        "turtle.forward(200)\n",
        "turtle.left(120) #왼쪽 120도\n",
        "\n",
        "#사각형\n",
        "turtle.forward(200)\n",
        "turtle.right(90)\n",
        "turtle.forward(200)\n",
        "turtle.right(90)\n",
        "turtle.forward(200)\n",
        "turtle.right(90)\n",
        "turtle.forward(200)\n",
        "turtle.right(90)\n",
        "\n",
        "#별\n",
        "#별을 그릴 때는 360도를 2번 도는 것임\n",
        "#720도/5개 꼭지점 = 144\n",
        "turtle.forward(200)\n",
        "turtle.right(144)\n",
        "turtle.forward(200)\n",
        "turtle.right(144)\n",
        "turtle.forward(200)\n",
        "turtle.right(144)\n",
        "turtle.forward(200)\n",
        "turtle.right(144)\n",
        "turtle.forward(200)\n",
        "turtle.right(144)\n",
        "\n",
        "\n",
        "#module 간소화 사용하기\n",
        "import turtle as t\n",
        "\n",
        "t.shape(\"turtle\")\n",
        "\n",
        "#삼각형\n",
        "t.forward(200)\n",
        "t.left(120) #왼쪽 120도\n",
        "t.forward(200)\n",
        "t.left(120) #왼쪽 120도\n",
        "t.forward(200)\n",
        "t.left(120) #왼쪽 120도\n"
      ],
      "metadata": {
        "colab": {
          "base_uri": "https://localhost:8080/",
          "height": 401
        },
        "id": "gkwdhYetYilR",
        "outputId": "8c3e1a4a-a888-4a38-a712-dea2394c2272"
      },
      "execution_count": 12,
      "outputs": [
        {
          "output_type": "error",
          "ename": "TclError",
          "evalue": "ignored",
          "traceback": [
            "\u001b[0;31m---------------------------------------------------------------------------\u001b[0m",
            "\u001b[0;31mTclError\u001b[0m                                  Traceback (most recent call last)",
            "\u001b[0;32m<ipython-input-12-9d47a5959660>\u001b[0m in \u001b[0;36m<module>\u001b[0;34m\u001b[0m\n\u001b[1;32m      3\u001b[0m \u001b[0;32mimport\u001b[0m \u001b[0mturtle\u001b[0m\u001b[0;34m\u001b[0m\u001b[0;34m\u001b[0m\u001b[0m\n\u001b[1;32m      4\u001b[0m \u001b[0;34m\u001b[0m\u001b[0m\n\u001b[0;32m----> 5\u001b[0;31m \u001b[0mturtle\u001b[0m\u001b[0;34m.\u001b[0m\u001b[0mshape\u001b[0m\u001b[0;34m(\u001b[0m\u001b[0;34m\"turtle\"\u001b[0m\u001b[0;34m)\u001b[0m\u001b[0;34m\u001b[0m\u001b[0;34m\u001b[0m\u001b[0m\n\u001b[0m\u001b[1;32m      6\u001b[0m \u001b[0;34m\u001b[0m\u001b[0m\n\u001b[1;32m      7\u001b[0m \u001b[0;31m#삼각형\u001b[0m\u001b[0;34m\u001b[0m\u001b[0;34m\u001b[0m\u001b[0m\n",
            "\u001b[0;32m/usr/lib/python3.9/turtle.py\u001b[0m in \u001b[0;36mshape\u001b[0;34m(name)\u001b[0m\n",
            "\u001b[0;32m/usr/lib/python3.9/turtle.py\u001b[0m in \u001b[0;36m__init__\u001b[0;34m(self, shape, undobuffersize, visible)\u001b[0m\n\u001b[1;32m   3812\u001b[0m                  visible=_CFG[\"visible\"]):\n\u001b[1;32m   3813\u001b[0m         \u001b[0;32mif\u001b[0m \u001b[0mTurtle\u001b[0m\u001b[0;34m.\u001b[0m\u001b[0m_screen\u001b[0m \u001b[0;32mis\u001b[0m \u001b[0;32mNone\u001b[0m\u001b[0;34m:\u001b[0m\u001b[0;34m\u001b[0m\u001b[0;34m\u001b[0m\u001b[0m\n\u001b[0;32m-> 3814\u001b[0;31m             \u001b[0mTurtle\u001b[0m\u001b[0;34m.\u001b[0m\u001b[0m_screen\u001b[0m \u001b[0;34m=\u001b[0m \u001b[0mScreen\u001b[0m\u001b[0;34m(\u001b[0m\u001b[0;34m)\u001b[0m\u001b[0;34m\u001b[0m\u001b[0;34m\u001b[0m\u001b[0m\n\u001b[0m\u001b[1;32m   3815\u001b[0m         RawTurtle.__init__(self, Turtle._screen,\n\u001b[1;32m   3816\u001b[0m                            \u001b[0mshape\u001b[0m\u001b[0;34m=\u001b[0m\u001b[0mshape\u001b[0m\u001b[0;34m,\u001b[0m\u001b[0;34m\u001b[0m\u001b[0;34m\u001b[0m\u001b[0m\n",
            "\u001b[0;32m/usr/lib/python3.9/turtle.py\u001b[0m in \u001b[0;36mScreen\u001b[0;34m()\u001b[0m\n\u001b[1;32m   3662\u001b[0m     else return the existing one.\"\"\"\n\u001b[1;32m   3663\u001b[0m     \u001b[0;32mif\u001b[0m \u001b[0mTurtle\u001b[0m\u001b[0;34m.\u001b[0m\u001b[0m_screen\u001b[0m \u001b[0;32mis\u001b[0m \u001b[0;32mNone\u001b[0m\u001b[0;34m:\u001b[0m\u001b[0;34m\u001b[0m\u001b[0;34m\u001b[0m\u001b[0m\n\u001b[0;32m-> 3664\u001b[0;31m         \u001b[0mTurtle\u001b[0m\u001b[0;34m.\u001b[0m\u001b[0m_screen\u001b[0m \u001b[0;34m=\u001b[0m \u001b[0m_Screen\u001b[0m\u001b[0;34m(\u001b[0m\u001b[0;34m)\u001b[0m\u001b[0;34m\u001b[0m\u001b[0;34m\u001b[0m\u001b[0m\n\u001b[0m\u001b[1;32m   3665\u001b[0m     \u001b[0;32mreturn\u001b[0m \u001b[0mTurtle\u001b[0m\u001b[0;34m.\u001b[0m\u001b[0m_screen\u001b[0m\u001b[0;34m\u001b[0m\u001b[0;34m\u001b[0m\u001b[0m\n\u001b[1;32m   3666\u001b[0m \u001b[0;34m\u001b[0m\u001b[0m\n",
            "\u001b[0;32m/usr/lib/python3.9/turtle.py\u001b[0m in \u001b[0;36m__init__\u001b[0;34m(self)\u001b[0m\n\u001b[1;32m   3678\u001b[0m         \u001b[0;31m# preserved (perhaps by passing it as an optional parameter)\u001b[0m\u001b[0;34m\u001b[0m\u001b[0;34m\u001b[0m\u001b[0m\n\u001b[1;32m   3679\u001b[0m         \u001b[0;32mif\u001b[0m \u001b[0m_Screen\u001b[0m\u001b[0;34m.\u001b[0m\u001b[0m_root\u001b[0m \u001b[0;32mis\u001b[0m \u001b[0;32mNone\u001b[0m\u001b[0;34m:\u001b[0m\u001b[0;34m\u001b[0m\u001b[0;34m\u001b[0m\u001b[0m\n\u001b[0;32m-> 3680\u001b[0;31m             \u001b[0m_Screen\u001b[0m\u001b[0;34m.\u001b[0m\u001b[0m_root\u001b[0m \u001b[0;34m=\u001b[0m \u001b[0mself\u001b[0m\u001b[0;34m.\u001b[0m\u001b[0m_root\u001b[0m \u001b[0;34m=\u001b[0m \u001b[0m_Root\u001b[0m\u001b[0;34m(\u001b[0m\u001b[0;34m)\u001b[0m\u001b[0;34m\u001b[0m\u001b[0;34m\u001b[0m\u001b[0m\n\u001b[0m\u001b[1;32m   3681\u001b[0m             \u001b[0mself\u001b[0m\u001b[0;34m.\u001b[0m\u001b[0m_root\u001b[0m\u001b[0;34m.\u001b[0m\u001b[0mtitle\u001b[0m\u001b[0;34m(\u001b[0m\u001b[0m_Screen\u001b[0m\u001b[0;34m.\u001b[0m\u001b[0m_title\u001b[0m\u001b[0;34m)\u001b[0m\u001b[0;34m\u001b[0m\u001b[0;34m\u001b[0m\u001b[0m\n\u001b[1;32m   3682\u001b[0m             \u001b[0mself\u001b[0m\u001b[0;34m.\u001b[0m\u001b[0m_root\u001b[0m\u001b[0;34m.\u001b[0m\u001b[0mondestroy\u001b[0m\u001b[0;34m(\u001b[0m\u001b[0mself\u001b[0m\u001b[0;34m.\u001b[0m\u001b[0m_destroy\u001b[0m\u001b[0;34m)\u001b[0m\u001b[0;34m\u001b[0m\u001b[0;34m\u001b[0m\u001b[0m\n",
            "\u001b[0;32m/usr/lib/python3.9/turtle.py\u001b[0m in \u001b[0;36m__init__\u001b[0;34m(self)\u001b[0m\n\u001b[1;32m    433\u001b[0m     \u001b[0;34m\"\"\"Root class for Screen based on Tkinter.\"\"\"\u001b[0m\u001b[0;34m\u001b[0m\u001b[0;34m\u001b[0m\u001b[0m\n\u001b[1;32m    434\u001b[0m     \u001b[0;32mdef\u001b[0m \u001b[0m__init__\u001b[0m\u001b[0;34m(\u001b[0m\u001b[0mself\u001b[0m\u001b[0;34m)\u001b[0m\u001b[0;34m:\u001b[0m\u001b[0;34m\u001b[0m\u001b[0;34m\u001b[0m\u001b[0m\n\u001b[0;32m--> 435\u001b[0;31m         \u001b[0mTK\u001b[0m\u001b[0;34m.\u001b[0m\u001b[0mTk\u001b[0m\u001b[0;34m.\u001b[0m\u001b[0m__init__\u001b[0m\u001b[0;34m(\u001b[0m\u001b[0mself\u001b[0m\u001b[0;34m)\u001b[0m\u001b[0;34m\u001b[0m\u001b[0;34m\u001b[0m\u001b[0m\n\u001b[0m\u001b[1;32m    436\u001b[0m \u001b[0;34m\u001b[0m\u001b[0m\n\u001b[1;32m    437\u001b[0m     \u001b[0;32mdef\u001b[0m \u001b[0msetupcanvas\u001b[0m\u001b[0;34m(\u001b[0m\u001b[0mself\u001b[0m\u001b[0;34m,\u001b[0m \u001b[0mwidth\u001b[0m\u001b[0;34m,\u001b[0m \u001b[0mheight\u001b[0m\u001b[0;34m,\u001b[0m \u001b[0mcwidth\u001b[0m\u001b[0;34m,\u001b[0m \u001b[0mcheight\u001b[0m\u001b[0;34m)\u001b[0m\u001b[0;34m:\u001b[0m\u001b[0;34m\u001b[0m\u001b[0;34m\u001b[0m\u001b[0m\n",
            "\u001b[0;32m/usr/lib/python3.9/tkinter/__init__.py\u001b[0m in \u001b[0;36m__init__\u001b[0;34m(self, screenName, baseName, className, useTk, sync, use)\u001b[0m\n\u001b[1;32m   2268\u001b[0m                 \u001b[0mbaseName\u001b[0m \u001b[0;34m=\u001b[0m \u001b[0mbaseName\u001b[0m \u001b[0;34m+\u001b[0m \u001b[0mext\u001b[0m\u001b[0;34m\u001b[0m\u001b[0;34m\u001b[0m\u001b[0m\n\u001b[1;32m   2269\u001b[0m         \u001b[0minteractive\u001b[0m \u001b[0;34m=\u001b[0m \u001b[0;32mFalse\u001b[0m\u001b[0;34m\u001b[0m\u001b[0;34m\u001b[0m\u001b[0m\n\u001b[0;32m-> 2270\u001b[0;31m         \u001b[0mself\u001b[0m\u001b[0;34m.\u001b[0m\u001b[0mtk\u001b[0m \u001b[0;34m=\u001b[0m \u001b[0m_tkinter\u001b[0m\u001b[0;34m.\u001b[0m\u001b[0mcreate\u001b[0m\u001b[0;34m(\u001b[0m\u001b[0mscreenName\u001b[0m\u001b[0;34m,\u001b[0m \u001b[0mbaseName\u001b[0m\u001b[0;34m,\u001b[0m \u001b[0mclassName\u001b[0m\u001b[0;34m,\u001b[0m \u001b[0minteractive\u001b[0m\u001b[0;34m,\u001b[0m \u001b[0mwantobjects\u001b[0m\u001b[0;34m,\u001b[0m \u001b[0museTk\u001b[0m\u001b[0;34m,\u001b[0m \u001b[0msync\u001b[0m\u001b[0;34m,\u001b[0m \u001b[0muse\u001b[0m\u001b[0;34m)\u001b[0m\u001b[0;34m\u001b[0m\u001b[0;34m\u001b[0m\u001b[0m\n\u001b[0m\u001b[1;32m   2271\u001b[0m         \u001b[0;32mif\u001b[0m \u001b[0museTk\u001b[0m\u001b[0;34m:\u001b[0m\u001b[0;34m\u001b[0m\u001b[0;34m\u001b[0m\u001b[0m\n\u001b[1;32m   2272\u001b[0m             \u001b[0mself\u001b[0m\u001b[0;34m.\u001b[0m\u001b[0m_loadtk\u001b[0m\u001b[0;34m(\u001b[0m\u001b[0;34m)\u001b[0m\u001b[0;34m\u001b[0m\u001b[0;34m\u001b[0m\u001b[0m\n",
            "\u001b[0;31mTclError\u001b[0m: no display name and no $DISPLAY environment variable"
          ]
        }
      ]
    },
    {
      "cell_type": "markdown",
      "source": [
        "."
      ],
      "metadata": {
        "id": "so_jgApIbvjB"
      }
    },
    {
      "cell_type": "markdown",
      "source": [
        "If문 예제"
      ],
      "metadata": {
        "id": "1oziRqzCbrt5"
      }
    },
    {
      "cell_type": "code",
      "source": [
        "Check = True\n",
        "if Check:\n",
        "  print('-'*13)\n",
        "  print('check is true')\n",
        "  print('-------------')"
      ],
      "metadata": {
        "colab": {
          "base_uri": "https://localhost:8080/"
        },
        "id": "wm41v8chbmzF",
        "outputId": "3f2cf602-2181-4a28-ec39-987e605087d1"
      },
      "execution_count": 16,
      "outputs": [
        {
          "output_type": "stream",
          "name": "stdout",
          "text": [
            "-------------\n",
            "check is true\n",
            "-------------\n"
          ]
        }
      ]
    },
    {
      "cell_type": "markdown",
      "source": [
        "다음을 참고로 월(month)을 표준 입력으로 입력 받아 계절을 출력하는 프로그램을 작성하시오.\n",
        "1. 봄: 4,5월, 여름: 6,7,8월, 가을: 9,10월, 겨울: 11,12,1,2,3월"
      ],
      "metadata": {
        "id": "B2Ceh2zvcJLr"
      }
    },
    {
      "cell_type": "code",
      "source": [
        "month=int(input(\"월을 입력하세요: \"))\n",
        "\n",
        "if 11<=month<=12 or 1<=month<=3:\n",
        "  print(\"%d월 겨울입니다.\"%month)\n",
        "elif 4<=month<=5:\n",
        "  print(\"%d월 봄입니다.\"%month)\n",
        "elif 6<=month<=8:\n",
        "  print(\"%d월 여름입니다.\"%month)\n",
        "elif 9<=month<=10:\n",
        "  print(\"%d월 가을입니다.\"%month)\n",
        "else:\n",
        "  print(\"%d월 잘못 입력하셨습니다.\"%month)\n"
      ],
      "metadata": {
        "colab": {
          "base_uri": "https://localhost:8080/"
        },
        "id": "RSTHIrQCbm5f",
        "outputId": "97450505-0c2e-4a4b-8495-07bfe18c5b00"
      },
      "execution_count": 28,
      "outputs": [
        {
          "output_type": "stream",
          "name": "stdout",
          "text": [
            "월을 입력하세요: 4\n",
            "4월 봄입니다.\n"
          ]
        }
      ]
    },
    {
      "cell_type": "markdown",
      "source": [
        "근로 시급이 12,000원이며, 일주일에 40시간 이상 근무하면 시급의 1.5배의 급여를 준다고 한다. 일주일 근로 시간을 35~50시간 사이에서 임의의 난수로 정하고, 주급을 계산해 출력하는 프로그램을 작성하시오. - 반복으로 5회의 근로시간에 대해 출력"
      ],
      "metadata": {
        "id": "1y7cWA2idVrw"
      }
    },
    {
      "cell_type": "code",
      "source": [
        "from random import randint\n",
        "\n",
        "pay=12000\n",
        "\n",
        "for i in range(5):\n",
        "  hour=randint(35,50) #35부터 50사이의 랜덤한 숫자 나옴\n",
        "  if hour>40:\n",
        "    gross=40*pay+(hour-40)*pay*1.5\n",
        "  else:\n",
        "    gross=40*pay\n",
        "  print(\"근로시간 : %d시간, 주급 : %d원\"%(hour,gross)) #if문 print는 들여쓰기 잘 맞추기\n",
        "\n"
      ],
      "metadata": {
        "colab": {
          "base_uri": "https://localhost:8080/"
        },
        "id": "XPU2hhFtbm-e",
        "outputId": "806661e1-e9c3-4dc0-ad63-c1166efcd2c1"
      },
      "execution_count": 32,
      "outputs": [
        {
          "output_type": "stream",
          "name": "stdout",
          "text": [
            "근로시간 : 43시간, 주급 : 534000원\n",
            "근로시간 : 46시간, 주급 : 588000원\n",
            "근로시간 : 41시간, 주급 : 498000원\n",
            "근로시간 : 37시간, 주급 : 480000원\n",
            "근로시간 : 48시간, 주급 : 624000원\n"
          ]
        }
      ]
    },
    {
      "cell_type": "markdown",
      "source": [
        "문자열"
      ],
      "metadata": {
        "id": "TAMqVQZGfDf3"
      }
    },
    {
      "cell_type": "code",
      "source": [
        "#문자열 len()\n",
        "\n",
        "str=\"Hello python!\" #13개 단어\n",
        "n=len(str)\n",
        "print(\"문자열\",str,\"길이\",n,\"개\")"
      ],
      "metadata": {
        "colab": {
          "base_uri": "https://localhost:8080/"
        },
        "id": "dFYNeoGkdfYw",
        "outputId": "e718b27e-c337-4bf1-839d-fc18f0490b26"
      },
      "execution_count": 35,
      "outputs": [
        {
          "output_type": "stream",
          "name": "stdout",
          "text": [
            "문자열 Hello python! 길이 13 개\n"
          ]
        }
      ]
    },
    {
      "cell_type": "code",
      "source": [
        "#min() max()\n",
        "print(min('ipython'))\n",
        "print(max('ipython'))\n",
        "\n",
        "print(min('123456'))\n",
        "print(max('123456'))\n",
        "\n",
        "print(min(3.95,3.13))\n",
        "print(max(3.95,3.13))\n",
        "\n",
        "print(min(\"ipython\",'java'))\n",
        "print(max(\"python\",'java','zoo'))"
      ],
      "metadata": {
        "colab": {
          "base_uri": "https://localhost:8080/"
        },
        "id": "67OVeJlxfVf0",
        "outputId": "575dcaa5-9976-4e67-a07a-d031e6056266"
      },
      "execution_count": 43,
      "outputs": [
        {
          "output_type": "stream",
          "name": "stdout",
          "text": [
            "h\n",
            "y\n",
            "1\n",
            "6\n",
            "3.13\n",
            "3.95\n",
            "ipython\n",
            "zoo\n"
          ]
        }
      ]
    },
    {
      "cell_type": "code",
      "source": [
        "#replace()\n",
        "#str.replace(a,b)\n",
        "#str.replace(old,new,count)\n",
        "str=\"자바는 인기 있는 언어 중에 하나다.\"\n",
        "print(str.replace(\"자바는\",\"파이썬은\"))\n",
        "print(str.replace(' ',''))\n",
        "\n",
        "str1=\"파이썬 파이썬 파이썬\"\n",
        "print(str1.replace(\"파이썬\",\"Python\",2)) #지정한 횟부만큼 바꿈\n",
        "print(str1.replace(\"파이썬\",\"Python\",3))\n",
        "print(str1.replace(\"파이썬\",\"Python\",4)) #문장이 3개여서 4를 넣어도 반응 X"
      ],
      "metadata": {
        "colab": {
          "base_uri": "https://localhost:8080/"
        },
        "id": "wN37kLZSfVkA",
        "outputId": "1be04792-7f62-4ad6-86de-bf42dd6f01e8"
      },
      "execution_count": 53,
      "outputs": [
        {
          "output_type": "stream",
          "name": "stdout",
          "text": [
            "파이썬은 인기 있는 언어 중에 하나다.\n",
            "자바는인기있는언어중에하나다.\n",
            "Python Python 파이썬\n",
            "Python Python Python\n",
            "Python Python Python\n"
          ]
        }
      ]
    },
    {
      "cell_type": "code",
      "source": [
        "#실수의 모든 자리수 더하기\n",
        "value=input(\"실수를 하나 입력하세요(예시: 345.78)>>\")\n",
        "num=value.replace(\".\",\"\")\n",
        "print(num)\n",
        "\n",
        "sum=0\n",
        "sum+=int(num[0])\n",
        "sum+=int(num[1])\n",
        "sum+=int(num[2])\n",
        "sum+=int(num[3])\n",
        "sum+=int(num[4])\n",
        "print(\"입력값:\",value)\n",
        "print(\"모든 자리수 합:\", sum)"
      ],
      "metadata": {
        "colab": {
          "base_uri": "https://localhost:8080/"
        },
        "id": "YrvrpLZofVnw",
        "outputId": "c515f5cb-08c4-431e-e5f5-22a90f16a6d7"
      },
      "execution_count": 56,
      "outputs": [
        {
          "output_type": "stream",
          "name": "stdout",
          "text": [
            "실수를 하나 입력하세요(예시: 345.78)>>345.78\n",
            "34578\n",
            "입력값: 345.78\n",
            "모든 자리수 합: 27\n"
          ]
        }
      ]
    },
    {
      "cell_type": "code",
      "source": [
        "#count() join()\n",
        "#count() 문자열 출현 횟수 반환\n",
        "#join() 문자열의 문자와 문자 사이에 원하는 문자열 삽입\n",
        "\n",
        "str=\"Hello python\"\n",
        "print(str.count(\"l\"))\n",
        "print(str.count(\"o\"))\n",
        "\n",
        "num=\"12345\"\n",
        "print(\"->\".join(num))\n",
        "print(\"->>\".join(num))\n",
        "print(\"/\".join(num))"
      ],
      "metadata": {
        "colab": {
          "base_uri": "https://localhost:8080/"
        },
        "id": "X1Zi2EQYfVqx",
        "outputId": "a1524596-fcd9-4b6d-f067-5e6e6c397d06"
      },
      "execution_count": 65,
      "outputs": [
        {
          "output_type": "stream",
          "name": "stdout",
          "text": [
            "2\n",
            "2\n",
            "1->2->3->4->5\n",
            "1->>2->>3->>4->>5\n",
            "1/2/3/4/5\n"
          ]
        }
      ]
    },
    {
      "cell_type": "code",
      "source": [
        "#find() index() 문자열 찾기\n",
        "#클래스 str에서 부분 문자열 sub가 맨 처음에 위치한 첨자를 반환\n",
        "\n",
        "#메소드 str.find() 찾고자 하는 것이 없으면 -1 반환\n",
        "#메소드 str.index() 찾고자 하는 것이 없으면 ValueError 발생\n",
        "\n",
        "print(str.find(\"c++\"))\n",
        "\n",
        "str=\"자바 C 파이썬\"\n",
        "print(str.find(\"자바\")) #해당 위치의 indexing 자리 반환\n",
        "print(str.find(\"C\"))\n",
        "print(str.find(\"파이썬\"))\n",
        "print(str.index(\"C\"))\n",
        "\n",
        "print(str.find(\"A\"))\n",
        "#print(str.index(\"A\"))\n",
        "\n",
        "#rfind() rindex() 역순으로 검색, 지정 문자열에서 마지막 위치 찾기\n",
        "english=\"abcdefccft\"\n",
        "print(english.rfind(\"c\"))"
      ],
      "metadata": {
        "colab": {
          "base_uri": "https://localhost:8080/"
        },
        "id": "xPuOKAtnfVsu",
        "outputId": "5a60bfec-63c2-4307-d5cf-b1b97ca14a40"
      },
      "execution_count": 80,
      "outputs": [
        {
          "output_type": "stream",
          "name": "stdout",
          "text": [
            "-1\n",
            "0\n",
            "3\n",
            "5\n",
            "3\n",
            "-1\n",
            "7\n"
          ]
        }
      ]
    },
    {
      "cell_type": "code",
      "source": [
        "#split() 문자열 분리\n",
        "print(\"사과, 배, 복숭아, 딸기, 포도\".split())\n",
        "print(\"사과, 배, 복숭아, 딸기, 포도\".split(','))"
      ],
      "metadata": {
        "colab": {
          "base_uri": "https://localhost:8080/"
        },
        "id": "yID3A_DvfVvN",
        "outputId": "96402bab-ca99-470a-dff1-962a67abc533"
      },
      "execution_count": 82,
      "outputs": [
        {
          "output_type": "stream",
          "name": "stdout",
          "text": [
            "['사과,', '배,', '복숭아,', '딸기,', '포도']\n",
            "['사과', ' 배', ' 복숭아', ' 딸기', ' 포도']\n"
          ]
        }
      ]
    },
    {
      "cell_type": "code",
      "source": [
        "#center() strip()\n",
        "#center() 폭을 지정하고 중앙에 문자열 배치하는 메소드\n",
        "#strip() 문자열 앞뒤의 특정 문자들을 제거하는 메소드 lstrip() rstrip() strip(\"\")\n",
        "\n",
        "print(\"파이썬 강의\".center(50,\"*\"))\n",
        "print(\"파이썬 강의\".center(30,\"*\"))\n",
        "\n",
        "print(\"            파이썬  \".strip())\n",
        "print(\"            파이썬  \".rstrip())\n",
        "print(\"            파이썬  \".lstrip())\n",
        "print(\"***파이썬--\".strip(\"-\"))\n",
        "print(\"***파이썬--\".strip(\"* -\"))"
      ],
      "metadata": {
        "colab": {
          "base_uri": "https://localhost:8080/"
        },
        "id": "sbLVd9D_fVxg",
        "outputId": "aa62abb2-c638-4b47-eec0-70918b852b85"
      },
      "execution_count": 90,
      "outputs": [
        {
          "output_type": "stream",
          "name": "stdout",
          "text": [
            "**********************파이썬 강의**********************\n",
            "************파이썬 강의************\n",
            "파이썬\n",
            "            파이썬\n",
            "파이썬  \n",
            "***파이썬\n",
            "파이썬\n"
          ]
        }
      ]
    },
    {
      "cell_type": "code",
      "source": [
        "#format() 간결한 출력 처리\n",
        "#문자열 중간 중간에 변수가 상수를 함께 출력\n",
        "\n",
        "print('3+4=7')\n",
        "\n",
        "str='{}+{}={}'.format(3,4,3+4)\n",
        "print(str)\n"
      ],
      "metadata": {
        "colab": {
          "base_uri": "https://localhost:8080/"
        },
        "id": "3c83YqtrkxU7",
        "outputId": "f51767d2-680d-46cd-f8b2-b8ae4f4998ce"
      },
      "execution_count": 94,
      "outputs": [
        {
          "output_type": "stream",
          "name": "stdout",
          "text": [
            "3+4=7\n",
            "3+4=7\n"
          ]
        }
      ]
    }
  ]
}