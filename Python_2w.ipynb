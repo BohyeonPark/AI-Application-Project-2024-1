{
  "nbformat": 4,
  "nbformat_minor": 0,
  "metadata": {
    "colab": {
      "provenance": []
    },
    "kernelspec": {
      "name": "python3",
      "display_name": "Python 3"
    },
    "language_info": {
      "name": "python"
    }
  },
  "cells": [
    {
      "cell_type": "code",
      "source": [
        "#파이썬 관계 연산자"
      ],
      "metadata": {
        "id": "g-ZM85miNWTO"
      },
      "execution_count": null,
      "outputs": []
    },
    {
      "cell_type": "code",
      "execution_count": 4,
      "metadata": {
        "colab": {
          "base_uri": "https://localhost:8080/"
        },
        "id": "lsDUWGxuM5RV",
        "outputId": "509a778f-7eff-4b38-bcf1-b5091cda2d73"
      },
      "outputs": [
        {
          "output_type": "stream",
          "name": "stdout",
          "text": [
            "False\n"
          ]
        }
      ],
      "source": [
        "print('cat'>'dog')"
      ]
    },
    {
      "cell_type": "code",
      "source": [
        "print(3.5<=3.56)"
      ],
      "metadata": {
        "colab": {
          "base_uri": "https://localhost:8080/"
        },
        "id": "-EDyhQbaNV-P",
        "outputId": "6b9acae1-c726-4cb8-9fc4-b351340e68ad"
      },
      "execution_count": 2,
      "outputs": [
        {
          "output_type": "stream",
          "name": "stdout",
          "text": [
            "True\n"
          ]
        }
      ]
    },
    {
      "cell_type": "code",
      "source": [
        "speed = 60\n",
        "print(50>speed)\n",
        "print(50<speed and speed<=80)"
      ],
      "metadata": {
        "colab": {
          "base_uri": "https://localhost:8080/"
        },
        "id": "DRdhXlIYNhVx",
        "outputId": "a63116cf-7f72-4ea1-e757-55a22c7da70e"
      },
      "execution_count": 5,
      "outputs": [
        {
          "output_type": "stream",
          "name": "stdout",
          "text": [
            "False\n",
            "True\n"
          ]
        }
      ]
    },
    {
      "cell_type": "code",
      "source": [
        "#파이썬 논리 연산자"
      ],
      "metadata": {
        "id": "oD0kl-HdN1sI"
      },
      "execution_count": null,
      "outputs": []
    },
    {
      "cell_type": "code",
      "source": [
        "True & True, True and True #논리곱\n",
        "True | True, True or True #논리합"
      ],
      "metadata": {
        "colab": {
          "base_uri": "https://localhost:8080/"
        },
        "id": "VqyDYDFRN4_c",
        "outputId": "0e737e8d-b9ae-4913-d588-4cdf25f26c53"
      },
      "execution_count": 7,
      "outputs": [
        {
          "output_type": "execute_result",
          "data": {
            "text/plain": [
              "(True, True)"
            ]
          },
          "metadata": {},
          "execution_count": 7
        }
      ]
    },
    {
      "cell_type": "code",
      "source": [
        "True ^ True #베타적 논리합 (반대)"
      ],
      "metadata": {
        "colab": {
          "base_uri": "https://localhost:8080/"
        },
        "id": "RHmkvyp5N4Ma",
        "outputId": "ef657c36-e432-44cf-acf1-d21de45f07f0"
      },
      "execution_count": 9,
      "outputs": [
        {
          "output_type": "execute_result",
          "data": {
            "text/plain": [
              "False"
            ]
          },
          "metadata": {},
          "execution_count": 9
        }
      ]
    },
    {
      "cell_type": "code",
      "source": [
        "not True"
      ],
      "metadata": {
        "colab": {
          "base_uri": "https://localhost:8080/"
        },
        "id": "JAI76RMDNlcq",
        "outputId": "495e2fb9-a233-4cc5-9b85-057be0d9cebb"
      },
      "execution_count": 10,
      "outputs": [
        {
          "output_type": "execute_result",
          "data": {
            "text/plain": [
              "False"
            ]
          },
          "metadata": {},
          "execution_count": 10
        }
      ]
    },
    {
      "cell_type": "code",
      "source": [
        "40*True, 30*False #1, 0 산술연산에 활용"
      ],
      "metadata": {
        "colab": {
          "base_uri": "https://localhost:8080/"
        },
        "id": "tJBKAWFXOKll",
        "outputId": "f1d89e7a-b5df-44ad-9f5e-89eac116b8d3"
      },
      "execution_count": 11,
      "outputs": [
        {
          "output_type": "execute_result",
          "data": {
            "text/plain": [
              "(40, 0)"
            ]
          },
          "metadata": {},
          "execution_count": 11
        }
      ]
    },
    {
      "cell_type": "code",
      "source": [
        "usage = float(input(\"가정의 전기 사용량을 입력하세요\"))\n",
        "less200 = usage<=200\n",
        "less400=200<usage<=400\n",
        "greater400=400<usage\n",
        "\n",
        "base=730*less200 + 1250*less400 + 6060*greater400\n",
        "print(\"전기사용량 : %d, 기본요금(원) : %d\" % (usage, base))"
      ],
      "metadata": {
        "colab": {
          "base_uri": "https://localhost:8080/"
        },
        "id": "CubkHp3oOUyo",
        "outputId": "70060315-5437-43ab-a9f7-b6af8b8a37d1"
      },
      "execution_count": 15,
      "outputs": [
        {
          "output_type": "stream",
          "name": "stdout",
          "text": [
            "가정의 전기 사용량을 입력하세요300\n",
            "전기사용량 : 300, 기본요금(원) : 1250\n"
          ]
        }
      ]
    },
    {
      "cell_type": "code",
      "source": [
        "#파이썬 자료형실습"
      ],
      "metadata": {
        "id": "44TUNykhPR-R"
      },
      "execution_count": null,
      "outputs": []
    },
    {
      "cell_type": "code",
      "source": [
        "#산술연산\n",
        "print(10+3)\n",
        "print(10-3)\n",
        "print(10*3)\n",
        "print(10/3) #나누기\n",
        "print(10//3) #나누기의 몫\n",
        "print(10%3) #나누기의 나머지\n",
        "print(10**3) #거듭곱"
      ],
      "metadata": {
        "colab": {
          "base_uri": "https://localhost:8080/"
        },
        "id": "d1mfPb3EPSHh",
        "outputId": "418b3b23-68cc-40ec-8d11-0695c547bf05"
      },
      "execution_count": 19,
      "outputs": [
        {
          "output_type": "stream",
          "name": "stdout",
          "text": [
            "13\n",
            "7\n",
            "30\n",
            "3.3333333333333335\n",
            "3\n",
            "1\n",
            "1000\n"
          ]
        }
      ]
    },
    {
      "cell_type": "code",
      "source": [
        "#변수\n",
        "a=10\n",
        "b=3\n",
        "print(a/b)\n",
        "print(a//b)\n",
        "print(a%b)\n",
        "\n",
        "#변수 type\n",
        "print(type(3)) #int\n",
        "print(type(3.3)) #float\n",
        "print(type(a))\n",
        "print(type(b))\n",
        "print(type('python')) #str\n",
        "print(type(True)) #bool"
      ],
      "metadata": {
        "colab": {
          "base_uri": "https://localhost:8080/"
        },
        "id": "blh8BntpPSNm",
        "outputId": "9514ddb3-6404-48bc-e145-7276f07a460f"
      },
      "execution_count": 27,
      "outputs": [
        {
          "output_type": "stream",
          "name": "stdout",
          "text": [
            "3.3333333333333335\n",
            "3\n",
            "1\n",
            "<class 'int'>\n",
            "<class 'float'>\n",
            "<class 'int'>\n",
            "<class 'int'>\n",
            "<class 'str'>\n",
            "<class 'bool'>\n"
          ]
        }
      ]
    },
    {
      "cell_type": "code",
      "source": [
        "type(3+4j) #complex 복소수"
      ],
      "metadata": {
        "colab": {
          "base_uri": "https://localhost:8080/"
        },
        "id": "z31KxLh1PnT4",
        "outputId": "fbf550a7-b1c2-4cf3-ee2a-b52bf29ae6d4"
      },
      "execution_count": 29,
      "outputs": [
        {
          "output_type": "execute_result",
          "data": {
            "text/plain": [
              "complex"
            ]
          },
          "metadata": {},
          "execution_count": 29
        }
      ]
    },
    {
      "cell_type": "code",
      "source": [
        "unit=3\n",
        "unit"
      ],
      "metadata": {
        "colab": {
          "base_uri": "https://localhost:8080/"
        },
        "id": "e7twZCe_PndH",
        "outputId": "2df93755-fdd4-4a37-b25a-7ec7ae04d3a5"
      },
      "execution_count": 35,
      "outputs": [
        {
          "output_type": "execute_result",
          "data": {
            "text/plain": [
              "3"
            ]
          },
          "metadata": {},
          "execution_count": 35
        }
      ]
    },
    {
      "cell_type": "code",
      "source": [
        "5==2+3 #5==5"
      ],
      "metadata": {
        "colab": {
          "base_uri": "https://localhost:8080/"
        },
        "id": "rTVsN-hLQKB5",
        "outputId": "2c178b23-ed4d-4196-9c69-b98e242989b0"
      },
      "execution_count": 34,
      "outputs": [
        {
          "output_type": "execute_result",
          "data": {
            "text/plain": [
              "True"
            ]
          },
          "metadata": {},
          "execution_count": 34
        }
      ]
    },
    {
      "cell_type": "code",
      "source": [
        "#keyword 예약어\n",
        "import keyword\n",
        "print(keyword.kwlist)"
      ],
      "metadata": {
        "colab": {
          "base_uri": "https://localhost:8080/"
        },
        "id": "AqXuZ9kHQKc2",
        "outputId": "7934f86a-86bb-4923-ad83-850719c82372"
      },
      "execution_count": 36,
      "outputs": [
        {
          "output_type": "stream",
          "name": "stdout",
          "text": [
            "['False', 'None', 'True', '__peg_parser__', 'and', 'as', 'assert', 'async', 'await', 'break', 'class', 'continue', 'def', 'del', 'elif', 'else', 'except', 'finally', 'for', 'from', 'global', 'if', 'import', 'in', 'is', 'lambda', 'nonlocal', 'not', 'or', 'pass', 'raise', 'return', 'try', 'while', 'with', 'yield']\n"
          ]
        }
      ]
    },
    {
      "cell_type": "code",
      "source": [
        "name=\"보현\"\n",
        "age=26\n",
        "print(\"안녕~ 만나서 반가워\")\n",
        "print(\"내 이름은\",name)\n",
        "print(\"나는\",age,\"살이야\")\n",
        "print(\"나는 인공지능응용 전공이야\")"
      ],
      "metadata": {
        "colab": {
          "base_uri": "https://localhost:8080/"
        },
        "id": "L-YICNqiQKmG",
        "outputId": "c45ff883-a31f-4b7c-f764-0ddb9231bfaa"
      },
      "execution_count": 43,
      "outputs": [
        {
          "output_type": "stream",
          "name": "stdout",
          "text": [
            "안녕~ 만나서 반가워\n",
            "내 이름은 보현\n",
            "나는 26 살이야\n",
            "나는 인공지능응용 전공이야\n"
          ]
        }
      ]
    },
    {
      "cell_type": "code",
      "source": [
        "#양식문자 %s %d\n",
        "name=\"보현\"\n",
        "age=26\n",
        "print(\"안녕~ 만나서 반가워\")\n",
        "print(\"내 이름은 %s\" %name)\n",
        "print(\"나는 %d살이야\" %age)\n",
        "print(\"나는 인공지능응용 전공이야\")"
      ],
      "metadata": {
        "colab": {
          "base_uri": "https://localhost:8080/"
        },
        "id": "DdKG9i46RG0J",
        "outputId": "c1eea3a0-2146-4cfa-fe4d-60131bdc0e21"
      },
      "execution_count": 44,
      "outputs": [
        {
          "output_type": "stream",
          "name": "stdout",
          "text": [
            "안녕~ 만나서 반가워\n",
            "내 이름은 보현\n",
            "나는 26살이야\n",
            "나는 인공지능응용 전공이야\n"
          ]
        }
      ]
    },
    {
      "cell_type": "code",
      "source": [
        "#양식문자 %s %d\n",
        "#input 받기2\n",
        "name=input(\"이름을 입려하세요:\")\n",
        "age=int(input(\"나이를 입력하세요:\")) #숫자는 int 정수형으로 형변환\n",
        "print(\"안녕~ 만나서 반가워\")\n",
        "print(\"내 이름은 %s\" %name)\n",
        "print(\"나는 %d살이야\" %age)\n",
        "print(\"나는 인공지능응용 전공이야\")\n",
        "print(\"실제 나이는\", int(age)+1)"
      ],
      "metadata": {
        "colab": {
          "base_uri": "https://localhost:8080/"
        },
        "id": "pyoTCWnBRG8N",
        "outputId": "037f59d3-4c6b-4937-9105-7cb921531b1d"
      },
      "execution_count": 50,
      "outputs": [
        {
          "output_type": "stream",
          "name": "stdout",
          "text": [
            "이름을 입려하세요:보현\n",
            "나이를 입력하세요:26\n",
            "안녕~ 만나서 반가워\n",
            "내 이름은 보현\n",
            "나는 26살이야\n",
            "나는 인공지능응용 전공이야\n",
            "실제 나이는 27\n"
          ]
        }
      ]
    },
    {
      "cell_type": "code",
      "source": [
        "print(\"안녕하세요\")\n",
        "print(\"%d\"%100)\n",
        "print(100)\n",
        "\n",
        "print(\"%d\"%(100+100))\n",
        "print(\"%d%d\"%(100,100))\n",
        "print(\"%d%d%d\"%(100,100,100))"
      ],
      "metadata": {
        "colab": {
          "base_uri": "https://localhost:8080/"
        },
        "id": "nj7lkvteRHB4",
        "outputId": "ba9dc2ba-81cf-42c4-c8b2-9f1321846838"
      },
      "execution_count": 57,
      "outputs": [
        {
          "output_type": "stream",
          "name": "stdout",
          "text": [
            "안녕하세요\n",
            "100\n",
            "100\n",
            "200\n",
            "100100\n",
            "100100100\n"
          ]
        }
      ]
    },
    {
      "cell_type": "code",
      "source": [
        "#자리수 지정하기 \n",
        "#숫자는 오른쪽 정렬, 문자는 왼쪽 정렬이 되어 있음\n",
        "print(\"%d\"%123)\n",
        "print(\"%5d\"%123) #5자리\n",
        "print(\"%10d\"%123) #10자리\n",
        "\n",
        "print(\"%f\"%123.45)\n",
        "print(\"%5f\"%123.45)\n",
        "print(\"%5.1f\"%123.45) #소수점 첫째자리\n",
        "print(\"%5.2f\"%123.45) #소수점 둘째자리\n",
        "print(\"%8.2f\"%123.45) #소수점 둘째자리\n",
        "\n",
        "print(\"%s\"%\"Hello\")\n",
        "print(\"%7s\"%\"Hello\")\n",
        "print(\"%6s\"%\"Hello\")\n",
        "print(\"%6.1s\"%\"Hello\")\n",
        "print(\"%6.2s\"%\"Hello\")"
      ],
      "metadata": {
        "colab": {
          "base_uri": "https://localhost:8080/"
        },
        "id": "JSOHSJqESQJQ",
        "outputId": "e78f0a5d-3231-4abb-d58b-28846a009562"
      },
      "execution_count": 72,
      "outputs": [
        {
          "output_type": "stream",
          "name": "stdout",
          "text": [
            "123\n",
            "  123\n",
            "       123\n",
            "123.450000\n",
            "123.450000\n",
            "123.5\n",
            "123.45\n",
            "  123.45\n",
            "Hello\n",
            "  Hello\n",
            " Hello\n",
            "     H\n",
            "    He\n"
          ]
        }
      ]
    },
    {
      "cell_type": "code",
      "source": [],
      "metadata": {
        "id": "69EG4dwoSQTg"
      },
      "execution_count": null,
      "outputs": []
    }
  ]
}