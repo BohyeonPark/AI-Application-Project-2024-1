{
  "nbformat": 4,
  "nbformat_minor": 0,
  "metadata": {
    "colab": {
      "provenance": []
    },
    "kernelspec": {
      "name": "python3",
      "display_name": "Python 3"
    },
    "language_info": {
      "name": "python"
    }
  },
  "cells": [
    {
      "cell_type": "markdown",
      "source": [
        "함수 응용 실습"
      ],
      "metadata": {
        "id": "VImAauFobEHZ"
      }
    },
    {
      "cell_type": "code",
      "execution_count": 2,
      "metadata": {
        "colab": {
          "base_uri": "https://localhost:8080/"
        },
        "id": "ysHa5llAaxzE",
        "outputId": "1756ea94-0592-408a-d5f7-612cc31fab9e"
      },
      "outputs": [
        {
          "output_type": "stream",
          "name": "stdout",
          "text": [
            "정수를 입력하시오: 5\n",
            "True\n"
          ]
        }
      ],
      "source": [
        "#소수 판별 함수 (2이상의 자연수에 대하여)\n",
        "#함수 is_prime()\n",
        "\n",
        "def is_prime(n): #인수, argument\n",
        "  for i in range(2,n):\n",
        "    if (n%i==0):\n",
        "      return False\n",
        "  return True\n",
        "\n",
        "n=int(input(\"정수를 입력하시오: \"))\n",
        "print(is_prime(n))\n"
      ]
    },
    {
      "cell_type": "code",
      "source": [
        "#패스워드 생성기\n",
        "import random\n",
        "def genPass():\n",
        "  a=\"abcdefghijklmnopqrstuvwxyz0123456789\"\n",
        "  password=\"\"\n",
        "  for i in range(6):\n",
        "    index=random.randrange(len(a))\n",
        "    password=password+a[index]\n",
        "    #print(len(a)) ==36개\n",
        "  return password\n",
        "\n",
        "print(genPass())\n",
        "print(genPass())\n",
        "print(genPass())"
      ],
      "metadata": {
        "colab": {
          "base_uri": "https://localhost:8080/"
        },
        "id": "8JbKmd14fB7j",
        "outputId": "3c78fa71-2ac8-44e1-801c-4bff6d25e075"
      },
      "execution_count": 6,
      "outputs": [
        {
          "output_type": "stream",
          "name": "stdout",
          "text": [
            "4ery8f\n",
            "5nog3v\n",
            "5dltx3\n"
          ]
        }
      ]
    },
    {
      "cell_type": "code",
      "source": [
        "#디폴트 인수(default argument)\n",
        "def greet(name, msg=\"별일없죠?\"):\n",
        "  print(\"안녕\",name+','+msg)\n",
        "greet(\"소희\")"
      ],
      "metadata": {
        "colab": {
          "base_uri": "https://localhost:8080/"
        },
        "id": "AjENter1gS0Q",
        "outputId": "6979ba1f-5d6c-4ca4-a042-c8b174bdf70e"
      },
      "execution_count": 7,
      "outputs": [
        {
          "output_type": "stream",
          "name": "stdout",
          "text": [
            "안녕 소희,별일없죠?\n"
          ]
        }
      ]
    },
    {
      "cell_type": "code",
      "source": [
        "#계산기 사칙연산\n",
        "def add(a,b):\n",
        "  return a+b\n",
        "\n",
        "def sub(a,b):\n",
        "  return a-b\n",
        "\n",
        "def mul(a,b):\n",
        "  return a*b\n",
        "\n",
        "def div(a,b):\n",
        "  return a/b\n",
        "\n",
        "r1=mul(a=20, b=30)\n",
        "r2=add(a=10,b=r1)  #10+(20*30)\n",
        "print(r2)"
      ],
      "metadata": {
        "colab": {
          "base_uri": "https://localhost:8080/"
        },
        "id": "A-yQP5qsglee",
        "outputId": "86bf64e5-f8c7-4976-d0b0-6e00d8bc3ebe"
      },
      "execution_count": 8,
      "outputs": [
        {
          "output_type": "stream",
          "name": "stdout",
          "text": [
            "610\n"
          ]
        }
      ]
    },
    {
      "cell_type": "code",
      "source": [
        "#리스트 예제 (문자열) - while문\n",
        "#강아지들의 이름을 저장하였다가 출력하는 프로그램을 작성해보자\n",
        "dogNames=[]\n",
        "while True:\n",
        "  name=input(\"강아지의 이름을 입력하시오(종료시에는 엔터키)\")\n",
        "  if name=='':\n",
        "    break\n",
        "  dogNames.append(name)\n",
        "\n",
        "print('강아지들의 이름: ')\n",
        "for name in dogNames:\n",
        "  print(name, end=' ')"
      ],
      "metadata": {
        "colab": {
          "base_uri": "https://localhost:8080/"
        },
        "id": "eTkicNmVg5Cj",
        "outputId": "e88bfb0f-5345-4c12-a7b5-2b9e44fffd9a"
      },
      "execution_count": 9,
      "outputs": [
        {
          "output_type": "stream",
          "name": "stdout",
          "text": [
            "강아지의 이름을 입력하시오(종료시에는 엔터키)박하\n",
            "강아지의 이름을 입력하시오(종료시에는 엔터키)사탕\n",
            "강아지의 이름을 입력하시오(종료시에는 엔터키)\n",
            "강아지들의 이름: \n",
            "박하 사탕 "
          ]
        }
      ]
    },
    {
      "cell_type": "code",
      "source": [
        "#리스트 예제 (문자열) - while문\n",
        "#강아지들의 이름을 저장하였다가 출력하는 프로그램을 작성해보자\n",
        "dogNames=[]\n",
        "while True:\n",
        "  name=input(\"강아지의 이름을 입력하시오(종료시에는 엔터키)\")\n",
        "  if name=='':\n",
        "    break\n",
        "  dogNames.append(name)\n",
        "\n",
        "print('강아지들의 이름: ')\n",
        "for name in dogNames:\n",
        "  print(name, end=',')"
      ],
      "metadata": {
        "colab": {
          "base_uri": "https://localhost:8080/"
        },
        "id": "X_5Po_EWiYeX",
        "outputId": "39666d36-77af-4ea5-8c14-f98305cb4829"
      },
      "execution_count": 11,
      "outputs": [
        {
          "output_type": "stream",
          "name": "stdout",
          "text": [
            "강아지의 이름을 입력하시오(종료시에는 엔터키)박하\n",
            "강아지의 이름을 입력하시오(종료시에는 엔터키)사탕\n",
            "강아지의 이름을 입력하시오(종료시에는 엔터키)깜별\n",
            "강아지의 이름을 입력하시오(종료시에는 엔터키)귤\n",
            "강아지의 이름을 입력하시오(종료시에는 엔터키)새별\n",
            "강아지의 이름을 입력하시오(종료시에는 엔터키)\n",
            "강아지들의 이름: \n",
            "박하,사탕,깜별,귤,새별,"
          ]
        }
      ]
    },
    {
      "cell_type": "code",
      "source": [
        "#리스트 예제 (문자열) - while문\n",
        "#강아지들의 이름을 저장하였다가 출력하는 프로그램을 작성해보자\n",
        "dogNames=[\"박하\",\"사탕\",\"깜별\"]\n",
        "'''\n",
        "while True:\n",
        "  name=input(\"강아지의 이름을 입력하시오(종료시에는 엔터키)\")\n",
        "  if name=='':\n",
        "    break\n",
        "  dogNames.append(name)\n",
        "'''\n",
        "print('강아지들의 이름: ')\n",
        "for name in dogNames:\n",
        "  print(name, end=',')"
      ],
      "metadata": {
        "colab": {
          "base_uri": "https://localhost:8080/"
        },
        "id": "InkDK1K0ilWi",
        "outputId": "3b9ac0a6-5297-4e8e-8330-c9e25545f92a"
      },
      "execution_count": 12,
      "outputs": [
        {
          "output_type": "stream",
          "name": "stdout",
          "text": [
            "강아지들의 이름: \n",
            "박하,사탕,깜별,"
          ]
        }
      ]
    },
    {
      "cell_type": "code",
      "source": [
        "#리스트 예제 성적 처리 프로그램\n",
        "#성적의 평균을 구하고 80점 이상 성적을 받은 학생의 숫자를 계산하여 출력해보자\n",
        "\n",
        "STUDENTS=5\n",
        "scores=[]\n",
        "scoreSum=0\n",
        "for i in range(STUDENTS):\n",
        "  value=int(input(\"성적을 입력하시요: \"))\n",
        "  scores.append(value)\n",
        "  scoreSum+=value\n",
        "\n",
        "scoreAvg=scoreSum/len(scores)\n",
        "\n",
        "highScoreStudents=0\n",
        "for i in range(len(scores)):\n",
        "  if scores[i]>=80:\n",
        "    highScoreStudents+=1\n",
        "\n",
        "print(\"성적 평균은 %d 입니다\" %scoreAvg)\n",
        "print(\"80점 이상 성적을 받은 학생은 %d 명입니다.\" %highScoreStudents)\n"
      ],
      "metadata": {
        "colab": {
          "base_uri": "https://localhost:8080/"
        },
        "id": "wow9GXbQhUc4",
        "outputId": "53d045e4-3a77-40cc-d28c-d3620ad94798"
      },
      "execution_count": 10,
      "outputs": [
        {
          "output_type": "stream",
          "name": "stdout",
          "text": [
            "성적을 입력하시요: 80\n",
            "성적을 입력하시요: 90\n",
            "성적을 입력하시요: 50\n",
            "성적을 입력하시요: 0\n",
            "성적을 입력하시요: 100\n",
            "성적 평균은 64 입니다\n",
            "80점 이상 성적을 받은 학생은 3 명입니다.\n"
          ]
        }
      ]
    },
    {
      "cell_type": "code",
      "source": [
        "#추가 문자열, 튜플 사용하기\n",
        "#리스트 정렬하기\n",
        "\n",
        "#리스트 객체의 sort() 메소드를 사용하는 방법\n",
        "\n",
        "a=[3,2,1,5,4]\n",
        "a.sort()\n",
        "print(a)"
      ],
      "metadata": {
        "colab": {
          "base_uri": "https://localhost:8080/"
        },
        "id": "2Ak6t2OTi15j",
        "outputId": "7f8983d3-1bf6-4aa4-c8d0-95d6a8e9a3d1"
      },
      "execution_count": 14,
      "outputs": [
        {
          "output_type": "stream",
          "name": "stdout",
          "text": [
            "[1, 2, 3, 4, 5]\n"
          ]
        }
      ]
    },
    {
      "cell_type": "code",
      "source": [
        "#문자열\n",
        "#문자열은 문자들의 시퀀스로 정의된다. 글자들이 실(string)로 묶여있는 것이 문자열이라고 생각하면 된다.\n",
        "#in 연산자와 not in 연산자, 단어 분리 split()\n",
        "\n",
        "word='abcdef'\n",
        "print(word[0])\n",
        "print(word[5])\n",
        "\n",
        "s='Love will find a way.'\n",
        "print(\"Love\" in s)\n",
        "print(\"love\" in s)\n",
        "\n",
        "p='   I love you'\n",
        "print(p.split())"
      ],
      "metadata": {
        "colab": {
          "base_uri": "https://localhost:8080/"
        },
        "id": "1Vgkb5wojD5d",
        "outputId": "2395ac44-0e33-4350-def6-b28e2e339005"
      },
      "execution_count": 15,
      "outputs": [
        {
          "output_type": "stream",
          "name": "stdout",
          "text": [
            "a\n",
            "f\n",
            "True\n",
            "False\n",
            "['I', 'love', 'you']\n"
          ]
        }
      ]
    },
    {
      "cell_type": "code",
      "source": [
        "#튜플\n",
        "#튜플(tuple)은 변경될 수 없는 리스트\n",
        "\n",
        "#튜플은 리스트보다 접근 속도가 빠르다\n",
        "#한번 만들어지면 내용을 변경할 수 없다\n",
        "#생성하려면 소괄호(...) 안에 요소들을 넣으면 된다\n",
        "\n",
        "numbers=(1,2,3,4,5)\n",
        "colors=(\"red\",\"green\",\"blue\")\n",
        "t=numbers+colors\n",
        "print(t)"
      ],
      "metadata": {
        "colab": {
          "base_uri": "https://localhost:8080/"
        },
        "id": "7mNgFZ2VjbA7",
        "outputId": "05b531ff-6b83-482c-c29d-a2858e4e8c96"
      },
      "execution_count": 16,
      "outputs": [
        {
          "output_type": "stream",
          "name": "stdout",
          "text": [
            "(1, 2, 3, 4, 5, 'red', 'green', 'blue')\n"
          ]
        }
      ]
    },
    {
      "cell_type": "code",
      "source": [
        "#함수의 튜플 반환 예제\n",
        "#원의 넓이와 둘레를 동시에 반환하는 함수를 작성\n",
        "\n",
        "import math\n",
        "def calCircle(r): #반지름이 r인 원의 넓이와 둘레를 동시에 반환하는 함수 (area, circum)\n",
        "  area=math.pi*r*r\n",
        "  circum=2*math.pi*r\n",
        "  return (area,circum)\n",
        "\n",
        "radius=float(input(\"원의 반지름을 입력하시오: \"))\n",
        "(a,c)=calCircle(radius)\n",
        "print(\"원의 넓이는 \", str(a)+\"이고 원의 둘레는 \"+str(c)+\"이다.\")"
      ],
      "metadata": {
        "colab": {
          "base_uri": "https://localhost:8080/"
        },
        "id": "ScphtwHjjse7",
        "outputId": "75ffaf51-d401-4d92-ba0b-290072c6695d"
      },
      "execution_count": 19,
      "outputs": [
        {
          "output_type": "stream",
          "name": "stdout",
          "text": [
            "원의 반지름을 입력하시오: 10\n",
            "원의 넓이는  314.1592653589793이고 원의 둘레는 62.83185307179586이다.\n"
          ]
        }
      ]
    }
  ]
}