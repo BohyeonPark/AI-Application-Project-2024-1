{
  "nbformat": 4,
  "nbformat_minor": 0,
  "metadata": {
    "colab": {
      "provenance": []
    },
    "kernelspec": {
      "name": "python3",
      "display_name": "Python 3"
    },
    "language_info": {
      "name": "python"
    }
  },
  "cells": [
    {
      "cell_type": "markdown",
      "source": [
        "리스트"
      ],
      "metadata": {
        "id": "GLj7V_qFX67l"
      }
    },
    {
      "cell_type": "code",
      "execution_count": 1,
      "metadata": {
        "colab": {
          "base_uri": "https://localhost:8080/"
        },
        "id": "LBmaYkIXVw_B",
        "outputId": "8d511c02-0363-4f57-cf2c-81b32f0a80f4"
      },
      "outputs": [
        {
          "output_type": "stream",
          "name": "stdout",
          "text": [
            "1\n",
            "2\n",
            "3\n",
            "4\n",
            "5\n"
          ]
        }
      ],
      "source": [
        "a = [1,2,3,4,5]\n",
        "print(a[0])\n",
        "print(a[1])\n",
        "print(a[2])\n",
        "print(a[3])\n",
        "print(a[4])"
      ]
    },
    {
      "cell_type": "code",
      "source": [
        "a = [1,2,3,4,5]\n",
        "for item in a:\n",
        "  print(item)"
      ],
      "metadata": {
        "colab": {
          "base_uri": "https://localhost:8080/"
        },
        "id": "nkw5C339V6Bf",
        "outputId": "73b4957b-6eef-4144-d5cc-ae1c3ec37443"
      },
      "execution_count": 2,
      "outputs": [
        {
          "output_type": "stream",
          "name": "stdout",
          "text": [
            "1\n",
            "2\n",
            "3\n",
            "4\n",
            "5\n"
          ]
        }
      ]
    },
    {
      "cell_type": "code",
      "source": [
        "a = [10,20,30]\n",
        "\n",
        "print(a[0])\n",
        "print(a[3]) #indexing 오류 발생"
      ],
      "metadata": {
        "colab": {
          "base_uri": "https://localhost:8080/",
          "height": 227
        },
        "id": "384bnG28WU85",
        "outputId": "cb7a45a5-cb87-4eb2-a235-8cfccbc5cfc0"
      },
      "execution_count": 3,
      "outputs": [
        {
          "output_type": "stream",
          "name": "stdout",
          "text": [
            "10\n"
          ]
        },
        {
          "output_type": "error",
          "ename": "IndexError",
          "evalue": "ignored",
          "traceback": [
            "\u001b[0;31m---------------------------------------------------------------------------\u001b[0m",
            "\u001b[0;31mIndexError\u001b[0m                                Traceback (most recent call last)",
            "\u001b[0;32m<ipython-input-3-8613f947f249>\u001b[0m in \u001b[0;36m<cell line: 4>\u001b[0;34m()\u001b[0m\n\u001b[1;32m      2\u001b[0m \u001b[0;34m\u001b[0m\u001b[0m\n\u001b[1;32m      3\u001b[0m \u001b[0mprint\u001b[0m\u001b[0;34m(\u001b[0m\u001b[0ma\u001b[0m\u001b[0;34m[\u001b[0m\u001b[0;36m0\u001b[0m\u001b[0;34m]\u001b[0m\u001b[0;34m)\u001b[0m\u001b[0;34m\u001b[0m\u001b[0;34m\u001b[0m\u001b[0m\n\u001b[0;32m----> 4\u001b[0;31m \u001b[0mprint\u001b[0m\u001b[0;34m(\u001b[0m\u001b[0ma\u001b[0m\u001b[0;34m[\u001b[0m\u001b[0;36m3\u001b[0m\u001b[0;34m]\u001b[0m\u001b[0;34m)\u001b[0m\u001b[0;34m\u001b[0m\u001b[0;34m\u001b[0m\u001b[0m\n\u001b[0m",
            "\u001b[0;31mIndexError\u001b[0m: list index out of range"
          ]
        }
      ]
    },
    {
      "cell_type": "code",
      "source": [
        "a=[10,20,30,40,50]\n",
        "\n",
        "print(a[0])\n",
        "print(a[0:1])\n",
        "print(a[0:2])\n",
        "print(a[0:3])\n",
        "print(a[0:4])\n",
        "print(a[0:5])\n",
        "print(a[0:6])\n",
        "print(a[-1])"
      ],
      "metadata": {
        "colab": {
          "base_uri": "https://localhost:8080/"
        },
        "id": "xqVuIRfDWalJ",
        "outputId": "a1e210c5-75a3-4b1b-fa56-dae62dd766cc"
      },
      "execution_count": 4,
      "outputs": [
        {
          "output_type": "stream",
          "name": "stdout",
          "text": [
            "10\n",
            "[10]\n",
            "[10, 20]\n",
            "[10, 20, 30]\n",
            "[10, 20, 30, 40]\n",
            "[10, 20, 30, 40, 50]\n",
            "[10, 20, 30, 40, 50]\n",
            "50\n"
          ]
        }
      ]
    },
    {
      "cell_type": "code",
      "source": [
        "#리스트의 연산\n",
        "#덧셈\n",
        "a=[1,2,3]\n",
        "b=[4,5,6,7]\n",
        "print(a+b)"
      ],
      "metadata": {
        "colab": {
          "base_uri": "https://localhost:8080/"
        },
        "id": "N145wfV2W7Gt",
        "outputId": "de91f2b7-b0b7-4ea1-ca82-1a2c0dcb549b"
      },
      "execution_count": 19,
      "outputs": [
        {
          "output_type": "stream",
          "name": "stdout",
          "text": [
            "[1, 2, 3, 4, 5, 6, 7]\n"
          ]
        }
      ]
    },
    {
      "cell_type": "code",
      "source": [
        "#반복\n",
        "a=[1,2,3]\n",
        "a*3"
      ],
      "metadata": {
        "colab": {
          "base_uri": "https://localhost:8080/"
        },
        "id": "etoUuz2GXOxB",
        "outputId": "a7ab36f5-2643-4b4a-a8ca-bb4172b5e841"
      },
      "execution_count": 6,
      "outputs": [
        {
          "output_type": "execute_result",
          "data": {
            "text/plain": [
              "[1, 2, 3, 1, 2, 3, 1, 2, 3]"
            ]
          },
          "metadata": {},
          "execution_count": 6
        }
      ]
    },
    {
      "cell_type": "code",
      "source": [
        "#길이 계산\n",
        "a=[1,2,3,4,5]\n",
        "len(a)"
      ],
      "metadata": {
        "colab": {
          "base_uri": "https://localhost:8080/"
        },
        "id": "w8NLLi1iXQ6Z",
        "outputId": "d392ccc1-ea80-4551-c24f-3b11ea365223"
      },
      "execution_count": 7,
      "outputs": [
        {
          "output_type": "execute_result",
          "data": {
            "text/plain": [
              "5"
            ]
          },
          "metadata": {},
          "execution_count": 7
        }
      ]
    },
    {
      "cell_type": "code",
      "source": [
        "#수정\n",
        "a=[1,2,3]\n",
        "a[1]=10\n",
        "a"
      ],
      "metadata": {
        "colab": {
          "base_uri": "https://localhost:8080/"
        },
        "id": "mxn0M_CdXV55",
        "outputId": "670a657e-413b-47dd-dcfd-c9f0c2979e68"
      },
      "execution_count": 8,
      "outputs": [
        {
          "output_type": "execute_result",
          "data": {
            "text/plain": [
              "[1, 10, 3]"
            ]
          },
          "metadata": {},
          "execution_count": 8
        }
      ]
    },
    {
      "cell_type": "code",
      "source": [
        "#삭제\n",
        "a=[1,2,3]\n",
        "del a[-1]\n",
        "a"
      ],
      "metadata": {
        "colab": {
          "base_uri": "https://localhost:8080/"
        },
        "id": "Hu5Yi8V9Xhoo",
        "outputId": "cee54ce0-0cb1-419d-d990-f34e55b44551"
      },
      "execution_count": 9,
      "outputs": [
        {
          "output_type": "execute_result",
          "data": {
            "text/plain": [
              "[1, 2]"
            ]
          },
          "metadata": {},
          "execution_count": 9
        }
      ]
    },
    {
      "cell_type": "code",
      "source": [
        "#리스트 함수\n",
        "#append: 요소 하나 추가\n",
        "#insert: 특정 인덱스에 요소 추가\n",
        "#extend: 리스트를 연결하여 확장\n",
        "\n",
        "c=[10,20,30]\n",
        "c.append(40)\n",
        "print(c)\n",
        "c.append(50)\n",
        "print(c)\n",
        "\n",
        "c.insert(1,10)\n",
        "print(c)\n",
        "\n",
        "d=[100,200,300]\n",
        "c.extend(d)\n",
        "print(c)"
      ],
      "metadata": {
        "colab": {
          "base_uri": "https://localhost:8080/"
        },
        "id": "S1FU5aDrXnM9",
        "outputId": "b6ac2020-bc85-4a3c-85da-006420b64fc6"
      },
      "execution_count": 12,
      "outputs": [
        {
          "output_type": "stream",
          "name": "stdout",
          "text": [
            "[10, 20, 30, 40]\n",
            "[10, 20, 30, 40, 50]\n",
            "[10, 10, 20, 30, 40, 50]\n",
            "[10, 10, 20, 30, 40, 50, 100, 200, 300]\n"
          ]
        }
      ]
    },
    {
      "cell_type": "markdown",
      "source": [
        "강의 실습"
      ],
      "metadata": {
        "id": "-Vquabh_Zdn9"
      }
    },
    {
      "cell_type": "code",
      "source": [
        "a=[10,20,30,40,50]\n",
        "for item in a:\n",
        "  print(item)\n",
        "  print(\"hello\")"
      ],
      "metadata": {
        "colab": {
          "base_uri": "https://localhost:8080/"
        },
        "id": "Yya5gJORZRQx",
        "outputId": "47ccd6c5-6693-46df-b85d-893d90440594"
      },
      "execution_count": 13,
      "outputs": [
        {
          "output_type": "stream",
          "name": "stdout",
          "text": [
            "10\n",
            "hello\n",
            "20\n",
            "hello\n",
            "30\n",
            "hello\n",
            "40\n",
            "hello\n",
            "50\n",
            "hello\n"
          ]
        }
      ]
    },
    {
      "cell_type": "code",
      "source": [
        "a=[10,20,30,40,50]\n",
        "print(a[0])\n",
        "print(a[0:1]) #a[0]"
      ],
      "metadata": {
        "colab": {
          "base_uri": "https://localhost:8080/"
        },
        "id": "SCBakV_qZe78",
        "outputId": "cb13627c-3fe3-484f-9ef8-28cb974ac866"
      },
      "execution_count": 15,
      "outputs": [
        {
          "output_type": "stream",
          "name": "stdout",
          "text": [
            "10\n",
            "[10]\n"
          ]
        }
      ]
    },
    {
      "cell_type": "code",
      "source": [
        "a=[1,2,3]\n",
        "b=[4,5,6,7]\n",
        "print(a+b)\n",
        "print(b+a)\n",
        "print(a*3)\n",
        "print(b*2)\n",
        "print(len(a))\n",
        "print(len(b))"
      ],
      "metadata": {
        "colab": {
          "base_uri": "https://localhost:8080/"
        },
        "id": "DXBpWZtVZqJ1",
        "outputId": "25961f2d-e858-4fdd-c361-1c578376e516"
      },
      "execution_count": 21,
      "outputs": [
        {
          "output_type": "stream",
          "name": "stdout",
          "text": [
            "[1, 2, 3, 4, 5, 6, 7]\n",
            "[4, 5, 6, 7, 1, 2, 3]\n",
            "[1, 2, 3, 1, 2, 3, 1, 2, 3]\n",
            "[4, 5, 6, 7, 4, 5, 6, 7]\n",
            "3\n",
            "4\n"
          ]
        }
      ]
    },
    {
      "cell_type": "code",
      "source": [
        "c=[10,20,30]\n",
        "c.append(40)\n",
        "print(c)\n",
        "c.append(50)\n",
        "print(c)\n",
        "\n",
        "c.insert(1,10)\n",
        "print(c)\n",
        "c.insert(2,'hello')\n",
        "print(c)\n",
        "\n",
        "d=[100,200,300]\n",
        "c.extend(d)\n",
        "print(c)"
      ],
      "metadata": {
        "colab": {
          "base_uri": "https://localhost:8080/"
        },
        "id": "r7VJqThtaH2h",
        "outputId": "cd53e4a5-3268-49ec-8603-91e2097f073b"
      },
      "execution_count": 26,
      "outputs": [
        {
          "output_type": "stream",
          "name": "stdout",
          "text": [
            "[10, 20, 30, 40]\n",
            "[10, 20, 30, 40, 50]\n",
            "[10, 10, 20, 30, 40, 50]\n",
            "[10, 10, 'hello', 20, 30, 40, 50]\n",
            "[10, 10, 'hello', 20, 30, 40, 50, 100, 200, 300]\n"
          ]
        }
      ]
    },
    {
      "cell_type": "code",
      "source": [
        "p1=[] #빈리스트\n",
        "print(p1)"
      ],
      "metadata": {
        "colab": {
          "base_uri": "https://localhost:8080/"
        },
        "id": "7NflwR40ax04",
        "outputId": "3dc17f5c-e5a1-43f6-e237-3d23c371b47e"
      },
      "execution_count": 27,
      "outputs": [
        {
          "output_type": "stream",
          "name": "stdout",
          "text": [
            "[]\n"
          ]
        }
      ]
    },
    {
      "cell_type": "markdown",
      "source": [
        "리스트 응용 강의 실습"
      ],
      "metadata": {
        "id": "T6vtY7Vha75w"
      }
    },
    {
      "cell_type": "code",
      "source": [
        "animal=[['사자','코끼리','호랑이'],'조류','어류']\n",
        "print(animal)\n",
        "print(animal[0])\n",
        "print(animal[1])\n",
        "print(animal[2])\n",
        "\n",
        "print(animal[0][1])\n",
        "print(animal[0][2])\n",
        "print(animal[0:1])"
      ],
      "metadata": {
        "colab": {
          "base_uri": "https://localhost:8080/"
        },
        "id": "ayBIFz84a7kQ",
        "outputId": "eb74b4cd-08c1-41c8-9d0c-50af63480788"
      },
      "execution_count": 33,
      "outputs": [
        {
          "output_type": "stream",
          "name": "stdout",
          "text": [
            "[['사자', '코끼리', '호랑이'], '조류', '어류']\n",
            "['사자', '코끼리', '호랑이']\n",
            "조류\n",
            "어류\n",
            "코끼리\n",
            "호랑이\n",
            "[['사자', '코끼리', '호랑이']]\n"
          ]
        }
      ]
    },
    {
      "cell_type": "code",
      "source": [
        "#구입할 품목 리스트\n",
        "goods=[]\n",
        "for i in range(3):\n",
        "  item=input(\"구입할 품목은? \")\n",
        "  goods.append(item)\n",
        "  print(goods)"
      ],
      "metadata": {
        "colab": {
          "base_uri": "https://localhost:8080/"
        },
        "id": "shSwzb_cbWa1",
        "outputId": "818ec3e6-e818-477c-de72-e18e8734c1ae"
      },
      "execution_count": 34,
      "outputs": [
        {
          "output_type": "stream",
          "name": "stdout",
          "text": [
            "구입할 품목은? 커피\n",
            "['커피']\n",
            "구입할 품목은? 물\n",
            "['커피', '물']\n",
            "구입할 품목은? 약\n",
            "['커피', '물', '약']\n"
          ]
        }
      ]
    },
    {
      "cell_type": "code",
      "source": [
        "#프로그래밍 언어 출력 리스트\n",
        "pl=['C','C++','Python','Java'] #4개 데이터\n",
        "print(pl[0])\n",
        "print(pl[1])\n",
        "print()\n",
        "\n",
        "for i in range(len(pl)):\n",
        "  print(pl[i])"
      ],
      "metadata": {
        "colab": {
          "base_uri": "https://localhost:8080/"
        },
        "id": "MkAfH852bmZI",
        "outputId": "cfba260d-0c1e-414a-cae3-2cc129334e65"
      },
      "execution_count": 37,
      "outputs": [
        {
          "output_type": "stream",
          "name": "stdout",
          "text": [
            "C\n",
            "C++\n",
            "\n",
            "C\n",
            "C++\n",
            "Python\n",
            "Java\n"
          ]
        }
      ]
    },
    {
      "cell_type": "code",
      "source": [
        "#가위바위보 리스트\n",
        "rsp=['가위','바위','보']\n",
        "for i in range(len(rsp)):\n",
        "  print(rsp[i], end=' ')\n",
        "print()\n",
        "\n",
        "from random import choice\n",
        "print(\"컴퓨터의 가위바위보 5개\")\n",
        "for i in range(5):\n",
        "  print(choice(rsp),i)"
      ],
      "metadata": {
        "colab": {
          "base_uri": "https://localhost:8080/"
        },
        "id": "7rjxi8ZMcA2G",
        "outputId": "79be3051-7aaf-4c1a-c197-626670080803"
      },
      "execution_count": 44,
      "outputs": [
        {
          "output_type": "stream",
          "name": "stdout",
          "text": [
            "가위 바위 보 \n",
            "컴퓨터의 가위바위보 5개\n",
            "가위 0\n",
            "보 1\n",
            "보 2\n",
            "보 3\n",
            "가위 4\n"
          ]
        }
      ]
    },
    {
      "cell_type": "code",
      "source": [
        "#가위바위보 리스트\n",
        "rsp=['가위','바위','보']\n",
        "for i in range(len(rsp)):\n",
        "  print(rsp[i], end=' ')\n",
        "#print() #\\n 당겨올 수 있음\n",
        "\n",
        "from random import choice\n",
        "print(\"컴퓨터의 가위바위보 5개\")\n",
        "for i in range(5):\n",
        "  print(choice(rsp),i)"
      ],
      "metadata": {
        "colab": {
          "base_uri": "https://localhost:8080/"
        },
        "id": "55qXdHt3cpvZ",
        "outputId": "f551f6b3-c232-4cfa-fbb6-8747af5d93b2"
      },
      "execution_count": 45,
      "outputs": [
        {
          "output_type": "stream",
          "name": "stdout",
          "text": [
            "가위 바위 보 컴퓨터의 가위바위보 5개\n",
            "보 0\n",
            "바위 1\n",
            "가위 2\n",
            "보 3\n",
            "보 4\n"
          ]
        }
      ]
    },
    {
      "cell_type": "code",
      "source": [
        "#append 기능 들어간 음식 주문하기 리스트\n",
        "food=['자장면','짬뽕','우동','울면']\n",
        "print(food)\n",
        "food.append('탕수육') #원소 추가\n",
        "print(food)\n",
        "food[1]='굴짬뽕' #원소 변경\n",
        "print(food)\n",
        "food[food.index('우동')]='물만두' #index list에서 항목이 처음 발견되는 위치 – 없으면 에러(start, stop은 찾을 위치 시작과 끝, 생략가능)\n",
        "print(food)"
      ],
      "metadata": {
        "colab": {
          "base_uri": "https://localhost:8080/"
        },
        "id": "-Lx9c0b9cuRI",
        "outputId": "12e4b17a-a01a-43a0-86ba-ac39931d62f9"
      },
      "execution_count": 49,
      "outputs": [
        {
          "output_type": "stream",
          "name": "stdout",
          "text": [
            "['자장면', '짬뽕', '우동', '울면']\n",
            "['자장면', '짬뽕', '우동', '울면', '탕수육']\n",
            "['자장면', '굴짬뽕', '우동', '울면', '탕수육']\n",
            "['자장면', '굴짬뽕', '물만두', '울면', '탕수육']\n"
          ]
        }
      ]
    }
  ]
}