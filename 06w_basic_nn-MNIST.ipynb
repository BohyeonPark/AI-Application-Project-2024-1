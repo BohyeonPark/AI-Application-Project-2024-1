{
  "nbformat": 4,
  "nbformat_minor": 0,
  "metadata": {
    "colab": {
      "provenance": [],
      "gpuType": "T4"
    },
    "kernelspec": {
      "name": "python3",
      "display_name": "Python 3"
    },
    "language_info": {
      "name": "python"
    },
    "accelerator": "GPU"
  },
  "cells": [
    {
      "cell_type": "markdown",
      "source": [
        "**손글씨 이미지를 입력받아 어떤 숫자인지 예측하기 : 다중분류**\n",
        "\n",
        "- 알고리즘: MLP\n",
        "- 데이터셋 파일명: MNIST\n",
        "- 0부터 9까지 10개의 수에 대한 손글씨 이미지를 모아놓은 데이터 분류 유형"
      ],
      "metadata": {
        "id": "0HGm7amb4fPx"
      }
    },
    {
      "cell_type": "markdown",
      "source": [
        "* 렐루 함수 : 0보다 작은 값은 0으로, 0보다 크거나 같은 값은 입력값을 그대로 출력\n",
        " - ReLU 함수는 정류 선형 유닛(영어: Rectified Linear Unit 렉티파이드 리니어\n",
        "유닛[*])에 대한 함수. ReLU는 입력값이 0보다 작으면 0으로 출력, 0보다\n",
        "크면 입력값 그대로 출력하는 유닛 (출처:위키백과)\n",
        " - nn.ReLU()\n",
        "- 시그모이드 함수 : 0과1 상이로 제한하는 함수\n",
        " - nn.Sigmoid()\n",
        "- 소프트맥스(벡터 함수므로 그림으로 나타낼 수 없음) : k개의 숫자를\n",
        "입력받아 k개의 요소를 갖는 활률 분포 변환하는 함수. 여러 클래스에\n",
        "속할 확률을 타나내므로 다중분류에 사용.\n",
        " - nn.Softmax()\n"
      ],
      "metadata": {
        "id": "xVP4DZT65CEs"
      }
    },
    {
      "cell_type": "markdown",
      "source": [
        "- nn.ReLU(): ReLU(Rectified Linear Unit) 활성화 함수(activation function)를 적용합니다. 이 함수는 입력값이 0보다 작을 경우 0을 출력하고, 0보다 큰 경우 입력값을 그대로 출력합니다.\n",
        "- nn.Sequential: 여러 개의 layer를 차례로 쌓아서 신경망 모델을 만들기 위한 함수로, Sequential 안에 들어가는 layer는 순서대로 연결됨.\n",
        "- nn.Linear(784,64)\n",
        " - MNIST 숫자 분류 문제가 있습니다. MNIST 데이터셋은 28x28 픽셀 크기의 흑백 이미지로 이루어져 있습니다 각 이미지는 784(=28x28)개의 특성을 가진다.\n",
        "- Adam(optimizer)은 파이토치(PyTorch)에서 제공하는 최적화 알고리즘 중 하나\n",
        " - Adam은 딥 러닝에서 가장 많이 사용되는 optimizer 중 하나입니다.\n",
        "- optim=Adam(model.parameters(), lr=lr)\n",
        "- 옵티마이저(Optimizer)\n",
        "- 최적화는 각 학습 단계에서 모델의 오류를 줄이기 위해 모델, 매개변수를 조정하는 과정\n",
        "- PyTorch에는 ADAM이나 RMSProp과 같은 다른 종류의 모델과 데이터에서 더 잘 동작하는 다양한 옵티마이저가 있습니다.\n",
        "\n",
        "- torch.reshape(data, (-1, 784))는 입력 데이터(data)를 (-1, 784) 크기의 2차원 텐서로 변환하는 코드입니다. 이 코드에서 -1은 입력 데이터의 첫 번째 차원은 자동으로 조정되고, 두 번째 차원은 784로 고정됩니다.\n",
        " - -1 : 개수를 상관하지 않음.\n",
        "- Batch 32 이므로 32 x 28,28 = 32 x 784 = (-1,784) = (32,784) > 모든 배치크기,784 모든 픽셀이 다음과 같이 묶여서 데이터가 변경된다. 이것을 우리 모델의 입력으로 넣는다.\n",
        "- MLP\n",
        "- 확률 분포의 차이\n",
        "- 예측분포, 실제의 데이터의 확률분포의 차이를 나타낸다.\n"
      ],
      "metadata": {
        "id": "azkYu51t5CJc"
      }
    },
    {
      "cell_type": "markdown",
      "source": [
        "- 파이토치(PyTorch) MLP(Multi-Layer Perceptron)은 인공신경망의 가장 기본적인 형태로, 여러 개의 선형 계층(linear layer)과 활성화 함수(activation function)를 쌓아올린 모델\n",
        "- MLP는 일반적으로 입력층(input layer), 은닉층(hidden layer), 출력층(output layer)으로 구성되며, 각 층은 서로 다른 수의 노드를 가질 수 있다\n",
        "- MLP는 가중치(weight)와 편향(bias)을 사용하여 연산을 수행하고, 입력층과 은닉층의 각 노드는 (linear layer)로 구성되며, 출력층의 노드는 (activation function)를 통해 최종 출력값을 생성.\n",
        "- MLP에서는 일반적으로 ReLU(Rectified Linear Unit) 활성화 함수를 사용한다.\n",
        "- 파이토치에서는 MLP를 구현할 때 nn.Module 클래스를 상속받아 모델을 정의하고, nn.Linear 클래스와 nn.ReLU 클래스를 사용하여 각각의 선형 계층과 활성화 함수를 구성합니다. 또한 optimizer(최적화 알고리즘)과 loss function(손실 함수)을 설정하여 학습을 수행한다.\n",
        "\n",
        "- 하이퍼파라미터(Hyperparameter)\n",
        "- 하이퍼파라미터(Hyperparameter)는 모델 최적화 과정을 제어할 수 있는 조절 가능한 매개변수입니다. 서로 다른 하이퍼파라미터 값은 모델 학습과 수렴율(convergence rate)에 영향을 미칠 수 있습니다. (하이퍼파라미터 튜닝(tuning)에 대해 더 알아보기)\n",
        "- 학습 시에는 다음과 같은 하이퍼파라미터를 정의합니다:\n",
        "- 에폭(epoch) 수 - 데이터셋을 반복하는 횟수\n",
        "- 배치 크기(batch size) - 매개변수가 갱신되기 전 신경망을 통해 전파된 데이터 샘플의 수\n",
        "- 학습률(learning rate) - 각 배치/에폭에서 모델의 매개변수를 조절하는 비율. 값이 작을수록 학습 속도가 느려지고, 값이 크면 학습 중 예측할 수 없는 동작이 발생할 수 있습니다.\n"
      ],
      "metadata": {
        "id": "BPtU6brD5_qN"
      }
    },
    {
      "cell_type": "code",
      "execution_count": 1,
      "metadata": {
        "id": "YTJgM6-F4cbK",
        "colab": {
          "base_uri": "https://localhost:8080/"
        },
        "outputId": "838e548d-b71d-481e-e51a-7ef3d8003c68"
      },
      "outputs": [
        {
          "output_type": "stream",
          "name": "stdout",
          "text": [
            "Downloading http://yann.lecun.com/exdb/mnist/train-images-idx3-ubyte.gz\n",
            "Downloading http://yann.lecun.com/exdb/mnist/train-images-idx3-ubyte.gz to ./MNIST/raw/train-images-idx3-ubyte.gz\n"
          ]
        },
        {
          "output_type": "stream",
          "name": "stderr",
          "text": [
            "100%|██████████| 9912422/9912422 [00:00<00:00, 151143183.66it/s]\n"
          ]
        },
        {
          "output_type": "stream",
          "name": "stdout",
          "text": [
            "Extracting ./MNIST/raw/train-images-idx3-ubyte.gz to ./MNIST/raw\n",
            "\n",
            "Downloading http://yann.lecun.com/exdb/mnist/train-labels-idx1-ubyte.gz\n",
            "Downloading http://yann.lecun.com/exdb/mnist/train-labels-idx1-ubyte.gz to ./MNIST/raw/train-labels-idx1-ubyte.gz\n"
          ]
        },
        {
          "output_type": "stream",
          "name": "stderr",
          "text": [
            "100%|██████████| 28881/28881 [00:00<00:00, 94489620.77it/s]\n"
          ]
        },
        {
          "output_type": "stream",
          "name": "stdout",
          "text": [
            "Extracting ./MNIST/raw/train-labels-idx1-ubyte.gz to ./MNIST/raw\n",
            "\n",
            "Downloading http://yann.lecun.com/exdb/mnist/t10k-images-idx3-ubyte.gz\n",
            "Downloading http://yann.lecun.com/exdb/mnist/t10k-images-idx3-ubyte.gz to ./MNIST/raw/t10k-images-idx3-ubyte.gz\n"
          ]
        },
        {
          "output_type": "stream",
          "name": "stderr",
          "text": [
            "100%|██████████| 1648877/1648877 [00:00<00:00, 50373960.40it/s]\n"
          ]
        },
        {
          "output_type": "stream",
          "name": "stdout",
          "text": [
            "Extracting ./MNIST/raw/t10k-images-idx3-ubyte.gz to ./MNIST/raw\n",
            "\n",
            "Downloading http://yann.lecun.com/exdb/mnist/t10k-labels-idx1-ubyte.gz\n",
            "Downloading http://yann.lecun.com/exdb/mnist/t10k-labels-idx1-ubyte.gz to ./MNIST/raw/t10k-labels-idx1-ubyte.gz\n"
          ]
        },
        {
          "output_type": "stream",
          "name": "stderr",
          "text": [
            "100%|██████████| 4542/4542 [00:00<00:00, 20095494.48it/s]\n"
          ]
        },
        {
          "output_type": "stream",
          "name": "stdout",
          "text": [
            "Extracting ./MNIST/raw/t10k-labels-idx1-ubyte.gz to ./MNIST/raw\n",
            "\n",
            "60000\n",
            "10000\n"
          ]
        }
      ],
      "source": [
        "import matplotlib.pyplot as plt\n",
        "\n",
        "from torchvision.datasets.mnist import MNIST\n",
        "from torchvision.transforms import ToTensor # 이미지 변환 함수\n",
        "\n",
        "training_data=MNIST(root='./', train=True, download=True, transform=ToTensor())\n",
        "test_data=MNIST(root='./', train=False, download=True, transform=ToTensor())\n",
        "\n",
        "print(len(training_data))\n",
        "print(len(test_data))"
      ]
    },
    {
      "cell_type": "code",
      "source": [
        "# MNIST 이미지 시각화\n",
        "for i in range(9):\n",
        "  plt.subplot(3,3,i+1) #3행 3열 그래프 생성\n",
        "  plt.imshow(training_data.data[i])\n",
        "plt.show()"
      ],
      "metadata": {
        "colab": {
          "base_uri": "https://localhost:8080/",
          "height": 433
        },
        "id": "pVWRZ5e4TRD3",
        "outputId": "4250fad5-c09c-4444-941d-e1dc6bbe3fe4"
      },
      "execution_count": 2,
      "outputs": [
        {
          "output_type": "display_data",
          "data": {
            "text/plain": [
              "<Figure size 640x480 with 9 Axes>"
            ],
            "image/png": "[encoded data removed]"
          },
          "metadata": {}
        }
      ]
    },
    {
      "cell_type": "code",
      "source": [
        "from torch.utils.data.dataloader import DataLoader # DataLoader 실제 데이터셋 불러오기\n",
        "\n",
        "train_loader=DataLoader(training_data, batch_size=32, shuffle=True) #shuffle 데이터 섞기\n",
        "test_loader=DataLoader(test_data, batch_size=32, shuffle=False) #test 데이터는 가중치가 없어서 섞을 필요가 없음\n",
        "\n",
        "print(len(train_loader))\n",
        "print(len(test_loader))"
      ],
      "metadata": {
        "colab": {
          "base_uri": "https://localhost:8080/"
        },
        "id": "wG6_ix09Ti1x",
        "outputId": "91cb6c31-6f04-4679-fc09-9b68a97a05c7"
      },
      "execution_count": 3,
      "outputs": [
        {
          "output_type": "stream",
          "name": "stdout",
          "text": [
            "1875\n",
            "313\n"
          ]
        }
      ]
    },
    {
      "cell_type": "code",
      "source": [
        "import torch\n",
        "import torch.nn as nn\n",
        "from torch.optim.adam import Adam\n",
        "\n",
        "device='cuda' if torch.cuda.is_available() else 'cpu'\n",
        "\n",
        "model=nn.Sequential(\n",
        "    nn.Linear(784,64), #28*28*1(흑백모드)=784 - 784개의 픽셀과 1개의 흑밸모드를 64 출력으로 내보내기\n",
        "    nn.ReLU(),\n",
        "    nn.Linear(64,64),\n",
        "    nn.ReLU(),\n",
        "    nn.Linear(64,10) #10개 출력 내보내기\n",
        ")\n",
        "model.to(device)"
      ],
      "metadata": {
        "colab": {
          "base_uri": "https://localhost:8080/"
        },
        "id": "e9l080_jTi40",
        "outputId": "c63221c3-349e-4608-8f6b-decb9b8a7678"
      },
      "execution_count": 6,
      "outputs": [
        {
          "output_type": "execute_result",
          "data": {
            "text/plain": [
              "Sequential(\n",
              "  (0): Linear(in_features=784, out_features=64, bias=True)\n",
              "  (1): ReLU()\n",
              "  (2): Linear(in_features=64, out_features=64, bias=True)\n",
              "  (3): ReLU()\n",
              "  (4): Linear(in_features=64, out_features=10, bias=True)\n",
              ")"
            ]
          },
          "metadata": {},
          "execution_count": 6
        }
      ]
    },
    {
      "cell_type": "code",
      "source": [
        "lr=1e-3 #학습률 10의 -3승\n",
        "optim=Adam(model.parameters(), lr=lr)\n",
        "\n",
        "for epoch in range(20): #최적화를 위한 eppch 20번\n",
        "  for data, label in train_loader: #label 정답값\n",
        "    optim.zero_grad() #옵티마이저 기울기를 0으로 초기화\n",
        "    data=torch.reshape(data,(-1,784)).to(device) #입력 데이터 -1은 개수를 상관하지 않음 #reshape으로 2차원 이미지를 1차원 벡터로 변환\n",
        "    preds=model(data) #32*28*28=32*784 = (-1,784) = 32,784 #preds 예측값\n",
        "\n",
        "    loss=nn.CrossEntropyLoss()(preds,label.to(device)) #손실함수 CE - 예측분포와 실제 확률분포 차이를 표현\n",
        "    loss.backward() #오차 역전파 진행\n",
        "    optim.step() #옵티마이저 최적화\n",
        "  print(f\"epoch{epoch+1} loss:{loss.item()}\") #epoch에 대한 손실함수 출력\n",
        "\n",
        "torch.save(model.state_dict(), \"MNIST.pth\") #딕셔너리 state_dict() - 모델 가중치를 토치 딕셔너리 형태로 저장, MNIST.pth 파일로 저장"
      ],
      "metadata": {
        "colab": {
          "base_uri": "https://localhost:8080/"
        },
        "id": "sXi0cof9Ti7c",
        "outputId": "b2c3ba7b-7b70-494f-a5d8-6edde367b257"
      },
      "execution_count": 8,
      "outputs": [
        {
          "output_type": "stream",
          "name": "stdout",
          "text": [
            "epoch1 loss:0.0017531996127218008\n",
            "epoch2 loss:2.206968201790005e-05\n",
            "epoch3 loss:0.00804156344383955\n",
            "epoch4 loss:0.00019512798462528735\n",
            "epoch5 loss:0.0274701789021492\n",
            "epoch6 loss:0.0038995100185275078\n",
            "epoch7 loss:0.0011961503187194467\n",
            "epoch8 loss:0.0002688461390789598\n",
            "epoch9 loss:0.0001805315405363217\n",
            "epoch10 loss:0.03365888446569443\n",
            "epoch11 loss:0.09770176559686661\n",
            "epoch12 loss:6.838954868726432e-05\n",
            "epoch13 loss:0.02311892621219158\n",
            "epoch14 loss:0.008043194189667702\n",
            "epoch15 loss:0.00011420573719078675\n",
            "epoch16 loss:0.0011133719235658646\n",
            "epoch17 loss:0.0030297415796667337\n",
            "epoch18 loss:0.0001474795280955732\n",
            "epoch19 loss:2.2913389329914935e-05\n",
            "epoch20 loss:0.0049377367831766605\n"
          ]
        }
      ]
    },
    {
      "cell_type": "code",
      "source": [
        "#모델 성능 평가\n",
        "model.load_state_dict(torch.load(\"MNIST.pth\", map_location=device)) #모델 불러오기\n",
        "\n",
        "num_corr=0\n",
        "\n",
        "with torch.no_grad(): #기울기 계산하지 않음 no_grad()\n",
        "  for data, label in test_loader:\n",
        "    data=torch.reshape(data,(-1,784)).to(device)\n",
        "\n",
        "    output=model(data.to(device))\n",
        "    preds=output.data.max(1)[1] #모델의 예측값 구하기 #max(1)은 1차원. [1] 첫번째 열 데이터 가지고 오기\n",
        "\n",
        "    corr=preds.eq(label.to(device).data).sum().item() #올바른 개수 구하기 eq=equal 같으면 1 틀리면 0 반환. #정답을 맞춘 개수를 모두 더해줌. 1로 반환된 데이터를 찾아서 총 일치하는 개수를 구하는 것\n",
        "    num_corr+=corr #전체 정답을 맞은 개수\n",
        "\n",
        "  print(f\"Accuracy:{num_corr/len(test_data)}\") #모델의 분류 성능 평가 정확도 계산"
      ],
      "metadata": {
        "colab": {
          "base_uri": "https://localhost:8080/"
        },
        "id": "Lv8-k4-TV9S3",
        "outputId": "8f74a29b-ed21-466d-c0a3-813f7a9324fa"
      },
      "execution_count": 12,
      "outputs": [
        {
          "output_type": "stream",
          "name": "stdout",
          "text": [
            "Accuracy:0.9786\n"
          ]
        }
      ]
    },
    {
      "cell_type": "markdown",
      "source": [
        "이상적인 분류 정확도는 95~98%\n",
        " - Accuracy:0.9786 은 높은 정확도 인 것임"
      ],
      "metadata": {
        "id": "7NNDcnp7aZQd"
      }
    },
    {
      "cell_type": "code",
      "source": [],
      "metadata": {
        "id": "O0KswtjCV9YT"
      },
      "execution_count": null,
      "outputs": []
    }
  ]
}