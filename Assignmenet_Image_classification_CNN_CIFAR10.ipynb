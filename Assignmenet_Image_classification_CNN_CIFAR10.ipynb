{
  "nbformat": 4,
  "nbformat_minor": 0,
  "metadata": {
    "colab": {
      "provenance": [],
      "gpuType": "T4"
    },
    "kernelspec": {
      "name": "python3",
      "display_name": "Python 3"
    },
    "language_info": {
      "name": "python"
    },
    "accelerator": "GPU"
  },
  "cells": [
    {
      "cell_type": "markdown",
      "source": [
        "**박보현**"
      ],
      "metadata": {
        "id": "67o64--jx-_x"
      }
    },
    {
      "cell_type": "markdown",
      "source": [
        "***Image Classification ***\n",
        "\n",
        "- Cifar10 데이터셋에 CNN 적용\n"
      ],
      "metadata": {
        "id": "MEj8iuHxxxYR"
      }
    },
    {
      "cell_type": "markdown",
      "source": [
        "CIFAR-10 Dataset\n",
        "- Tr: 60,000 / Ts: 10,000\n",
        "- 각 샘플은 32x32 컬러 이미지\n",
        "- 클래스: 10개"
      ],
      "metadata": {
        "id": "J-AkeYpqyhmA"
      }
    },
    {
      "cell_type": "code",
      "execution_count": null,
      "metadata": {
        "id": "xzhlogrsxK5G"
      },
      "outputs": [],
      "source": [
        "import torch\n",
        "from torch import nn\n",
        "from torch.utils.data import DataLoader\n",
        "\n",
        "from torchvision import datasets, transforms\n",
        "import matplotlib.pyplot as plt\n",
        "import numpy as np"
      ]
    },
    {
      "cell_type": "code",
      "source": [
        "device = 'cuda' if torch.cuda.is_available() else 'cpu'"
      ],
      "metadata": {
        "id": "gnJ_V-iDxceu"
      },
      "execution_count": null,
      "outputs": []
    },
    {
      "cell_type": "code",
      "source": [
        "# parameters\n",
        "learning_rate = 0.001\n",
        "epochs = 100\n",
        "batch_size = 100\n",
        "drop_out = 0.3"
      ],
      "metadata": {
        "id": "u8_Lp1X1xdO9"
      },
      "execution_count": null,
      "outputs": []
    },
    {
      "cell_type": "markdown",
      "source": [
        "**데이터 준비**"
      ],
      "metadata": {
        "id": "ZgIwCV-Wxfet"
      }
    },
    {
      "cell_type": "code",
      "source": [
        "# CIFAR-10 dataset\n",
        "training_data = datasets.CIFAR10(root='./data',\n",
        "                          train=True,\n",
        "                          transform=transforms.ToTensor(),\n",
        "                          download=True)\n",
        "\n",
        "test_data = datasets.CIFAR10(root='./data',\n",
        "                         train=False,\n",
        "                         transform=transforms.ToTensor(),\n",
        "                         download=True)"
      ],
      "metadata": {
        "colab": {
          "base_uri": "https://localhost:8080/"
        },
        "id": "_6oF2E-xxeCN",
        "outputId": "7943c90b-2adb-4f0c-a0e8-a1691f04d357"
      },
      "execution_count": null,
      "outputs": [
        {
          "output_type": "stream",
          "name": "stdout",
          "text": [
            "Files already downloaded and verified\n",
            "Files already downloaded and verified\n"
          ]
        }
      ]
    },
    {
      "cell_type": "code",
      "source": [
        "print(training_data)\n",
        "print(test_data)"
      ],
      "metadata": {
        "colab": {
          "base_uri": "https://localhost:8080/"
        },
        "id": "x6BFvgKW9cTL",
        "outputId": "d42a5265-19c8-48b6-8df7-bd4b7007ba68"
      },
      "execution_count": null,
      "outputs": [
        {
          "output_type": "stream",
          "name": "stdout",
          "text": [
            "Dataset CIFAR10\n",
            "    Number of datapoints: 50000\n",
            "    Root location: ./data\n",
            "    Split: Train\n",
            "    StandardTransform\n",
            "Transform: ToTensor()\n",
            "Dataset CIFAR10\n",
            "    Number of datapoints: 10000\n",
            "    Root location: ./data\n",
            "    Split: Test\n",
            "    StandardTransform\n",
            "Transform: ToTensor()\n"
          ]
        }
      ]
    },
    {
      "cell_type": "code",
      "source": [
        "train_dataloader = DataLoader(training_data, batch_size=batch_size, shuffle=True)\n",
        "test_dataloader = DataLoader(test_data, batch_size=batch_size, shuffle=True)"
      ],
      "metadata": {
        "id": "el177hUkxiF-"
      },
      "execution_count": null,
      "outputs": []
    },
    {
      "cell_type": "markdown",
      "source": [
        "**신경망 구성**"
      ],
      "metadata": {
        "id": "PYF6bFq0xkWd"
      }
    },
    {
      "cell_type": "code",
      "source": [
        "class CNN(nn.Module):\n",
        "\n",
        "  def __init__(self):\n",
        "    super(CNN, self).__init__()\n",
        "    #첫번째 layer 생성\n",
        "    self.layer1 = nn.Sequential(\n",
        "        nn.Conv2d(3, 32, kernel_size=3, stride=1, padding=1), #CIFAR-10 dataset은 RGB 이미지로 구성되어 있으므로 입력 이미지의 채널 수는 3\n",
        "        nn.ReLU(),\n",
        "        nn.MaxPool2d(kernel_size=2, stride=2)) #최초 32x32 -> max pooling 16x16\n",
        "\n",
        "    #두번째 layer 생성\n",
        "    self.layer2 = nn.Sequential(\n",
        "        nn.Conv2d(32, 64, kernel_size=3, stride=1, padding=1),\n",
        "        nn.ReLU(),\n",
        "        nn.MaxPool2d(kernel_size=2, stride=2)) #16x16 -> max pooling 8x8\n",
        "\n",
        "    #fully connected layer 생성\n",
        "    self.fc = nn.Linear(8*8*64, 10, bias=True)\n",
        "    nn.init.xavier_uniform_(self.fc.weight)\n",
        "\n",
        "  #모델 설계 후 데이터셋이 layer들을 통과할 수 있게 함\n",
        "  def forward(self,x):\n",
        "    out = self.layer1(x)\n",
        "    out = self.layer2(out)\n",
        "    out = out.view(out.size(0), -1)\n",
        "    out = self.fc(out)\n",
        "    return out"
      ],
      "metadata": {
        "id": "IADiZyRUxlaN"
      },
      "execution_count": null,
      "outputs": []
    },
    {
      "cell_type": "code",
      "source": [
        "class CNN(torch.nn.Module):\n",
        "    def __init__(self):\n",
        "        super().__init__()\n",
        "        #첫번째 layer 생성\n",
        "        self.layer1 = torch.nn.Sequential(\n",
        "            torch.nn.Conv2d(3, 32, kernel_size=3, stride=1, padding=1),\n",
        "            torch.nn.ReLU(),\n",
        "            torch.nn.MaxPool2d(kernel_size=2, stride=2))\n",
        "\n",
        "        # 두번째층\n",
        "        self.layer2 = torch.nn.Sequential(\n",
        "            torch.nn.Conv2d(32, 64, kernel_size=3, stride=1, padding=1),\n",
        "            torch.nn.ReLU(),\n",
        "            torch.nn.MaxPool2d(kernel_size=2, stride=2))\n",
        "\n",
        "        # 전결합층 8x8x64 inputs -> 10 outputs\n",
        "        self.fc = torch.nn.Linear(8 * 8 * 64, 10, bias=True)\n",
        "\n",
        "    def forward(self, x):\n",
        "        out = self.layer1(x)\n",
        "        out = self.layer2(out)\n",
        "        out = torch.nn.Flatten()(out)   # 전결합층을 위해서 Flatten\n",
        "        out = self.fc(out)\n",
        "        return out"
      ],
      "metadata": {
        "id": "kgAYqvkaxmoz"
      },
      "execution_count": null,
      "outputs": []
    },
    {
      "cell_type": "code",
      "source": [
        "model = CNN().to(device)\n",
        "\n",
        "print(model)"
      ],
      "metadata": {
        "id": "urdCXNTTxoUB",
        "colab": {
          "base_uri": "https://localhost:8080/"
        },
        "outputId": "a874ca73-b437-4458-fa59-134f62215e25"
      },
      "execution_count": null,
      "outputs": [
        {
          "output_type": "stream",
          "name": "stdout",
          "text": [
            "CNN(\n",
            "  (layer1): Sequential(\n",
            "    (0): Conv2d(3, 32, kernel_size=(3, 3), stride=(1, 1), padding=(1, 1))\n",
            "    (1): ReLU()\n",
            "    (2): MaxPool2d(kernel_size=2, stride=2, padding=0, dilation=1, ceil_mode=False)\n",
            "  )\n",
            "  (layer2): Sequential(\n",
            "    (0): Conv2d(32, 64, kernel_size=(3, 3), stride=(1, 1), padding=(1, 1))\n",
            "    (1): ReLU()\n",
            "    (2): MaxPool2d(kernel_size=2, stride=2, padding=0, dilation=1, ceil_mode=False)\n",
            "  )\n",
            "  (fc): Linear(in_features=4096, out_features=10, bias=True)\n",
            ")\n"
          ]
        }
      ]
    },
    {
      "cell_type": "code",
      "source": [
        "criterion = nn.CrossEntropyLoss().to(device)\n",
        "optimizer = torch.optim.Adam(model.parameters(), lr=learning_rate)\n",
        "\n",
        "print(criterion)\n",
        "print(optimizer)"
      ],
      "metadata": {
        "id": "-meXZC2_xpI6",
        "colab": {
          "base_uri": "https://localhost:8080/"
        },
        "outputId": "b59ae7ca-9b30-4673-c1bd-7e086aa24171"
      },
      "execution_count": null,
      "outputs": [
        {
          "output_type": "stream",
          "name": "stdout",
          "text": [
            "CrossEntropyLoss()\n",
            "Adam (\n",
            "Parameter Group 0\n",
            "    amsgrad: False\n",
            "    betas: (0.9, 0.999)\n",
            "    capturable: False\n",
            "    differentiable: False\n",
            "    eps: 1e-08\n",
            "    foreach: None\n",
            "    fused: None\n",
            "    lr: 0.001\n",
            "    maximize: False\n",
            "    weight_decay: 0\n",
            ")\n"
          ]
        }
      ]
    },
    {
      "cell_type": "markdown",
      "source": [
        "**학습**"
      ],
      "metadata": {
        "id": "JON28NFbxqPb"
      }
    },
    {
      "cell_type": "code",
      "source": [
        "total_batch = len(train_dataloader)\n",
        "print('Learning started. It takes sometime.')\n",
        "\n",
        "for epoch in range(epochs):\n",
        "  avg_loss = 0                                  # 비용 초기값\n",
        "\n",
        "  for i, data in enumerate(train_dataloader):\n",
        "    inputs, labels = data\n",
        "\n",
        "    inputs = inputs.to(device)                  # inputs -> 디바이스로 옮김\n",
        "    labels = labels.to(device)                  # labels -> 디바이스로 옮김\n",
        "\n",
        "    # 변화도(Gradient) 매개변수를 0으로 만듦\n",
        "    optimizer.zero_grad()\n",
        "\n",
        "    # 순전파 + 역전파 + 최적화\n",
        "    outputs = model(inputs)                     # 가설 설정\n",
        "    loss = criterion(outputs, labels)           # 로스 설정\n",
        "    loss.backward()                             # 역전파\n",
        "    optimizer.step()                            # 학습을 통해 계산한 weight, bias, gradient를 최적화 함수(optimizer)에 반영\n",
        "\n",
        "    avg_loss += loss / total_batch\n",
        "\n",
        "  print('[Epoch: {:>4}] cost = {:>.9}'.format(epoch + 1, avg_loss))\n",
        "\n",
        "print('Learning Finished!')"
      ],
      "metadata": {
        "colab": {
          "base_uri": "https://localhost:8080/"
        },
        "id": "0rpX_GUExrQs",
        "outputId": "7d247393-5096-4037-e02a-35b15db3ad5c"
      },
      "execution_count": null,
      "outputs": [
        {
          "output_type": "stream",
          "name": "stdout",
          "text": [
            "Learning started. It takes sometime.\n",
            "[Epoch:    1] cost = 1.53438878\n",
            "[Epoch:    2] cost = 1.23419082\n",
            "[Epoch:    3] cost = 1.09338188\n",
            "[Epoch:    4] cost = 1.00162578\n",
            "[Epoch:    5] cost = 0.939672589\n",
            "[Epoch:    6] cost = 0.890537858\n",
            "[Epoch:    7] cost = 0.853082597\n",
            "[Epoch:    8] cost = 0.819725394\n",
            "[Epoch:    9] cost = 0.789833724\n",
            "[Epoch:   10] cost = 0.763511896\n",
            "[Epoch:   11] cost = 0.737067044\n",
            "[Epoch:   12] cost = 0.712428927\n",
            "[Epoch:   13] cost = 0.691352189\n",
            "[Epoch:   14] cost = 0.66801393\n",
            "[Epoch:   15] cost = 0.648395538\n",
            "[Epoch:   16] cost = 0.632365584\n",
            "[Epoch:   17] cost = 0.616243422\n",
            "[Epoch:   18] cost = 0.607901752\n",
            "[Epoch:   19] cost = 0.589334667\n",
            "[Epoch:   20] cost = 0.577199101\n",
            "[Epoch:   21] cost = 0.561478376\n",
            "[Epoch:   22] cost = 0.548938572\n",
            "[Epoch:   23] cost = 0.534178376\n",
            "[Epoch:   24] cost = 0.523932636\n",
            "[Epoch:   25] cost = 0.511346042\n",
            "[Epoch:   26] cost = 0.500216246\n",
            "[Epoch:   27] cost = 0.49210307\n",
            "[Epoch:   28] cost = 0.4851408\n",
            "[Epoch:   29] cost = 0.474700928\n",
            "[Epoch:   30] cost = 0.465237975\n",
            "[Epoch:   31] cost = 0.454107195\n",
            "[Epoch:   32] cost = 0.440067142\n",
            "[Epoch:   33] cost = 0.436593056\n",
            "[Epoch:   34] cost = 0.428811193\n",
            "[Epoch:   35] cost = 0.420374095\n",
            "[Epoch:   36] cost = 0.413199633\n",
            "[Epoch:   37] cost = 0.403834552\n",
            "[Epoch:   38] cost = 0.39689675\n",
            "[Epoch:   39] cost = 0.389185101\n",
            "[Epoch:   40] cost = 0.385296851\n",
            "[Epoch:   41] cost = 0.377317339\n",
            "[Epoch:   42] cost = 0.371947587\n",
            "[Epoch:   43] cost = 0.36018005\n",
            "[Epoch:   44] cost = 0.361055613\n",
            "[Epoch:   45] cost = 0.349744678\n",
            "[Epoch:   46] cost = 0.346033752\n",
            "[Epoch:   47] cost = 0.336493164\n",
            "[Epoch:   48] cost = 0.33860293\n",
            "[Epoch:   49] cost = 0.330164731\n",
            "[Epoch:   50] cost = 0.325432897\n",
            "[Epoch:   51] cost = 0.31533739\n",
            "[Epoch:   52] cost = 0.315370202\n",
            "[Epoch:   53] cost = 0.303356081\n",
            "[Epoch:   54] cost = 0.308372319\n",
            "[Epoch:   55] cost = 0.305640727\n",
            "[Epoch:   56] cost = 0.295008481\n",
            "[Epoch:   57] cost = 0.288443536\n",
            "[Epoch:   58] cost = 0.289468348\n",
            "[Epoch:   59] cost = 0.276310414\n",
            "[Epoch:   60] cost = 0.273955703\n",
            "[Epoch:   61] cost = 0.274966687\n",
            "[Epoch:   62] cost = 0.264049143\n",
            "[Epoch:   63] cost = 0.263787478\n",
            "[Epoch:   64] cost = 0.261096179\n",
            "[Epoch:   65] cost = 0.256283224\n",
            "[Epoch:   66] cost = 0.252616554\n",
            "[Epoch:   67] cost = 0.244092047\n",
            "[Epoch:   68] cost = 0.244650275\n",
            "[Epoch:   69] cost = 0.241052255\n",
            "[Epoch:   70] cost = 0.235821232\n",
            "[Epoch:   71] cost = 0.229784459\n",
            "[Epoch:   72] cost = 0.230973616\n",
            "[Epoch:   73] cost = 0.224236757\n",
            "[Epoch:   74] cost = 0.22125259\n",
            "[Epoch:   75] cost = 0.221581981\n",
            "[Epoch:   76] cost = 0.217031136\n",
            "[Epoch:   77] cost = 0.213917747\n",
            "[Epoch:   78] cost = 0.210542947\n",
            "[Epoch:   79] cost = 0.200906813\n",
            "[Epoch:   80] cost = 0.199833512\n",
            "[Epoch:   81] cost = 0.200502843\n",
            "[Epoch:   82] cost = 0.196193278\n",
            "[Epoch:   83] cost = 0.194979712\n",
            "[Epoch:   84] cost = 0.189774364\n",
            "[Epoch:   85] cost = 0.184978604\n",
            "[Epoch:   86] cost = 0.184078529\n",
            "[Epoch:   87] cost = 0.183107793\n",
            "[Epoch:   88] cost = 0.176015228\n",
            "[Epoch:   89] cost = 0.183009222\n",
            "[Epoch:   90] cost = 0.178502828\n",
            "[Epoch:   91] cost = 0.176222801\n",
            "[Epoch:   92] cost = 0.162588179\n",
            "[Epoch:   93] cost = 0.164757639\n",
            "[Epoch:   94] cost = 0.172057286\n",
            "[Epoch:   95] cost = 0.159804076\n",
            "[Epoch:   96] cost = 0.162109226\n",
            "[Epoch:   97] cost = 0.1523325\n",
            "[Epoch:   98] cost = 0.157011658\n",
            "[Epoch:   99] cost = 0.149444923\n",
            "[Epoch:  100] cost = 0.146913514\n",
            "Learning Finished!\n"
          ]
        }
      ]
    },
    {
      "cell_type": "markdown",
      "source": [
        "**테스트**"
      ],
      "metadata": {
        "id": "kU6HuOofxsSZ"
      }
    },
    {
      "cell_type": "code",
      "source": [
        "correct = 0\n",
        "total = 0\n",
        "\n",
        "with torch.no_grad():\n",
        "    for data in test_dataloader:\n",
        "        images, labels = data\n",
        "\n",
        "        images = images.to(device)\n",
        "        labels = labels.to(device)\n",
        "\n",
        "        # 신경망에 이미지를 통과시켜 출력을 계산\n",
        "        outputs = model(images)\n",
        "        # 가장 높은 값(energy)를 갖는 분류(class)를 정답으로 선택\n",
        "        _, predicted = torch.max(outputs.data, 1)\n",
        "        total += labels.size(0)\n",
        "        correct += (predicted == labels).sum().item()\n",
        "\n",
        "print(f'Accuracy of the network on the 10000 test images: {100 * correct // total} %')"
      ],
      "metadata": {
        "colab": {
          "base_uri": "https://localhost:8080/"
        },
        "id": "ORcsUHEDxtDB",
        "outputId": "c7dd871a-74b2-45b8-ea57-962809b99e60"
      },
      "execution_count": null,
      "outputs": [
        {
          "output_type": "stream",
          "name": "stdout",
          "text": [
            "Accuracy of the network on the 10000 test images: 66 %\n"
          ]
        }
      ]
    }
  ]
}