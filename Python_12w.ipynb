{
  "nbformat": 4,
  "nbformat_minor": 0,
  "metadata": {
    "colab": {
      "provenance": []
    },
    "kernelspec": {
      "name": "python3",
      "display_name": "Python 3"
    },
    "language_info": {
      "name": "python"
    }
  },
  "cells": [
    {
      "cell_type": "markdown",
      "source": [
        "<Numpy 기초문법>\n",
        "1. Numpy 라이브러리 개요\n",
        "- Numpy: 파이썬을 위한 행렬(matrix) 라이브러리\n",
        "- 과학적 계산을 위해 파이썬에서 제작\n",
        "- 이산수학과 무작위 수 생성 등 수많은 작업을 할 수 있는 기능이 제공됨\n",
        "- 벡터와 행렬을 위한 특수한 배열 형식을 제공\n",
        "- 생성될 때 크기가 정해짐\n",
        "- 텐서플로우와 잘 어울림\n",
        "- 기계학습에서는 파이썬의 기본 리스트로 충분하지 않다.\n",
        "- 데이터를 처리할 때는 리스트와 리스트 간의 연산이 가능해야 하는데 파이썬의 기본 리스트는 이것을 지원하지 않기 때문이다.\n",
        "- 연산 속도도 중요하기 때문에 데이터 과학자들은 기본 리스트 대신에 넘파이(Numpy)를 선호한다."
      ],
      "metadata": {
        "id": "rnPjlh8DCUHO"
      }
    },
    {
      "cell_type": "code",
      "execution_count": 1,
      "metadata": {
        "colab": {
          "base_uri": "https://localhost:8080/"
        },
        "id": "ao-dIyNQCS34",
        "outputId": "ee8e9ed1-a962-482b-9a56-fe7065a4703d"
      },
      "outputs": [
        {
          "output_type": "execute_result",
          "data": {
            "text/plain": [
              "[10, 20, 30, 70, 80, 90]"
            ]
          },
          "metadata": {},
          "execution_count": 1
        }
      ],
      "source": [
        "#리스트 vs 넘파이 배열\n",
        "\n",
        "#리스트 -> 리스트 간의 연산이 불가능함\n",
        "mid_scores=[10,20,30]\n",
        "final_scores=[70,80,90]\n",
        "\n",
        "total = (mid_scores + final_scores)\n",
        "total"
      ]
    },
    {
      "cell_type": "code",
      "source": [
        "#넘파이 -> 리스트 간의 연산이 가능함 (배열 활용 np.array)\n",
        "import numpy as np\n",
        "\n",
        "mid_scores=np.array([10,20,30])\n",
        "final_scores=np.array([70,80,90])\n",
        "\n",
        "total=mid_scores+final_scores\n",
        "print(total)"
      ],
      "metadata": {
        "colab": {
          "base_uri": "https://localhost:8080/"
        },
        "id": "nDb0ihjjDCal",
        "outputId": "2b6f7b86-2a3f-4bd7-f4a6-5cfcd06168a3"
      },
      "execution_count": 2,
      "outputs": [
        {
          "output_type": "stream",
          "name": "stdout",
          "text": [
            "[ 80 100 120]\n"
          ]
        }
      ]
    },
    {
      "cell_type": "code",
      "source": [
        "#실습\n",
        "a=[10,20,30,40,50]\n",
        "print(a[0])\n",
        "print(a[0:1])\n",
        "print(a[0:2])\n",
        "print(a[0:3])\n",
        "print(a[0:6])\n",
        "print(a[-1])\n",
        "\n",
        "c=[10,20,30]\n",
        "c.append(40)\n",
        "print(c)\n",
        "\n",
        "c.insert(1,70)\n",
        "print(c)\n",
        "\n",
        "d=[100,200,300]\n",
        "c.extend(d)\n",
        "print(c)"
      ],
      "metadata": {
        "colab": {
          "base_uri": "https://localhost:8080/"
        },
        "id": "dqmAGFuSXVVZ",
        "outputId": "8be06cd9-9ddf-43a4-fb07-f420c35011fe"
      },
      "execution_count": 35,
      "outputs": [
        {
          "output_type": "stream",
          "name": "stdout",
          "text": [
            "10\n",
            "[10]\n",
            "[10, 20]\n",
            "[10, 20, 30]\n",
            "[10, 20, 30, 40, 50]\n",
            "50\n",
            "[10, 20, 30, 40]\n",
            "[10, 70, 20, 30, 40]\n",
            "[10, 70, 20, 30, 40, 100, 200, 300]\n"
          ]
        }
      ]
    },
    {
      "cell_type": "code",
      "source": [
        "#인덱싱과 슬라이싱\n",
        "import numpy as np\n",
        "grades=np.array([88,72,93,94])\n",
        "\n",
        "#인덱싱 - 특정한 요소 추출\n",
        "#인덱스는 0부터 시작\n",
        "print(grades[2])\n",
        "print(grades[-1]) #마지막 요소는 인덱스 -1\n",
        "\n",
        "#슬라이싱\n",
        "print(grades[1:3])\n",
        "print(grades[:2]) #시작 인덱스나 종료 인덱스는 생략 가능\n",
        "\n",
        "#논리적인 인덱싱(logical indexing) - 어떤 조건을 주어서 배열에서 원하는 값을 추려내는 것\n",
        "ages=np.array([18,19,25,30,28])\n",
        "\n",
        "y=ages>20 #ages에서 20살 이상인 사람만 고르려고 한다면, 조건식 코딩\n",
        "print(y) #결과는 부울형의 넘파이 배열"
      ],
      "metadata": {
        "colab": {
          "base_uri": "https://localhost:8080/"
        },
        "id": "GAqAZjGODhih",
        "outputId": "eb979e83-205e-4e1f-a0af-cb89108f1e79"
      },
      "execution_count": 10,
      "outputs": [
        {
          "output_type": "stream",
          "name": "stdout",
          "text": [
            "93\n",
            "94\n",
            "[72 93]\n",
            "[88 72]\n",
            "[False False  True  True  True]\n"
          ]
        }
      ]
    },
    {
      "cell_type": "code",
      "source": [
        "#mean()\n",
        "#numpy에서 제공하는 배열을 이용하면 배열에 저장된 원소들의 평균값을 계산\n",
        "#array라는 메소드를 사용하여 1차원 배열 생성\n",
        "#여기서 x라는 객체를 만들어 제공하는 mean()이라는 메소드를 이용하여 해당값을 구할 수 있다.\n",
        "\n",
        "#numpy 모듈 가져오기\n",
        "import numpy as np\n",
        "\n",
        "#파이썬의 데이터형(예:리스트)을 numpy 형식으로 변환\n",
        "x=np.array([1,3,5])\n",
        "\n",
        "#numpy에서 제공하는 기능수행(예:평균)\n",
        "print(x.mean())"
      ],
      "metadata": {
        "colab": {
          "base_uri": "https://localhost:8080/"
        },
        "id": "qQljdxv-D1CN",
        "outputId": "7fca2380-b156-4736-faa2-15b111a4f640"
      },
      "execution_count": 12,
      "outputs": [
        {
          "output_type": "stream",
          "name": "stdout",
          "text": [
            "3.0\n"
          ]
        }
      ]
    },
    {
      "cell_type": "code",
      "source": [
        "#shape()\n",
        "#해당 클래스에서 제공해주는 속성(attribute)\n",
        "#배열의 형태를 튜플로 반\n",
        "\n",
        "print(x)\n",
        "print(x.shape) #(3,) #1차원 배열로 3개의 원소가 있다는 결과 출력\n",
        "\n",
        "#2차원 배열 생성\n",
        "a=np.array([[1,2,3],[2,3,4]])\n",
        "print(a)\n",
        "print(a.shape) #(2,3) #numpy 형식의 배열 a는 3개의 원소로 구성된 2개의 원소가 있다, 2X3의 2차원 배열\n"
      ],
      "metadata": {
        "colab": {
          "base_uri": "https://localhost:8080/"
        },
        "id": "CL69tPlxTLj8",
        "outputId": "0703dc4a-20b7-4cc9-b403-7737702ee1de"
      },
      "execution_count": 20,
      "outputs": [
        {
          "output_type": "stream",
          "name": "stdout",
          "text": [
            "[1 3 5]\n",
            "(3,)\n",
            "[[1 2 3]\n",
            " [2 3 4]]\n",
            "(2, 3)\n"
          ]
        }
      ]
    },
    {
      "cell_type": "code",
      "source": [
        "#reshape()\n",
        "#배열의 원소 입력할 때는 항상 리스트형식으로 입력\n",
        "x=np.array([1,3,5])\n",
        "print(x)\n",
        "\n",
        "#reshape() 메소드를 추가하면 numpy의 2차원 배열을 원하는 모양으로 생성할 수 있음\n",
        "x=np.array([1,3,5,7,9,11])\n",
        "print(x)\n",
        "x=np.array([1,3,5,7,9,11]).reshape(3,2)\n",
        "print(x)"
      ],
      "metadata": {
        "colab": {
          "base_uri": "https://localhost:8080/"
        },
        "id": "kv_2RODITWsB",
        "outputId": "5c9e5d24-c6f6-4785-d4e5-ffabb2912e0d"
      },
      "execution_count": 22,
      "outputs": [
        {
          "output_type": "stream",
          "name": "stdout",
          "text": [
            "[1 3 5]\n",
            "[ 1  3  5  7  9 11]\n",
            "[[ 1  3]\n",
            " [ 5  7]\n",
            " [ 9 11]]\n"
          ]
        }
      ]
    },
    {
      "cell_type": "code",
      "source": [
        "#zeros()\n",
        "#괄호 안에 입력된 숫자만큼의 원소를 생성하고 0으로 초기화\n",
        "#한 쌍의 괄호 [] 안에 숫자가 1개이면 벡터(1차원)를,\n",
        "#두 쌍의 괄호 안에 숫자가 2개이면 행렬(2차원)을 생성\n",
        "\n",
        "import numpy as np\n",
        "x=np.zeros([2,3])\n",
        "print(x)"
      ],
      "metadata": {
        "colab": {
          "base_uri": "https://localhost:8080/"
        },
        "id": "7ezNiHvyVoh7",
        "outputId": "943a9339-67e8-4ecb-aa69-7febfa5edd6a"
      },
      "execution_count": 24,
      "outputs": [
        {
          "output_type": "stream",
          "name": "stdout",
          "text": [
            "[[0. 0. 0.]\n",
            " [0. 0. 0.]]\n"
          ]
        }
      ]
    },
    {
      "cell_type": "code",
      "source": [
        "#ones()\n",
        "#2차원 배열에 1의 값들을 채움\n",
        "\n",
        "y=np.ones([3,4])\n",
        "print(y)"
      ],
      "metadata": {
        "colab": {
          "base_uri": "https://localhost:8080/"
        },
        "id": "txfvB_zUV7Wj",
        "outputId": "3cf0cb29-ac5b-4bfc-fed6-8d0487ae33f4"
      },
      "execution_count": 26,
      "outputs": [
        {
          "output_type": "stream",
          "name": "stdout",
          "text": [
            "[[1. 1. 1. 1.]\n",
            " [1. 1. 1. 1.]\n",
            " [1. 1. 1. 1.]]\n"
          ]
        }
      ]
    },
    {
      "cell_type": "code",
      "source": [
        "x=np.array([[1,3,5],[2,4,6]])\n",
        "print(x)\n",
        "\n",
        "print(x[1]) #2차원 배열의 첫번째 원소인 1차원 배열 출력\n",
        "print(x[1].mean()) #첫번째 1차원 배열에 저장된 원소들의 평균값을 실수 형태로 출력\n",
        "print(x.mean()) #x 배열 전체의 원소의 평균값을 구해 출력\n",
        "print(x.shape) #x 배열의 (모양)형식을 출력"
      ],
      "metadata": {
        "colab": {
          "base_uri": "https://localhost:8080/"
        },
        "id": "NO4aAOJ7WCsO",
        "outputId": "6dbd987a-9b4e-4931-9e45-634c912a3c00"
      },
      "execution_count": 31,
      "outputs": [
        {
          "output_type": "stream",
          "name": "stdout",
          "text": [
            "[[1 3 5]\n",
            " [2 4 6]]\n",
            "[2 4 6]\n",
            "4.0\n",
            "3.5\n",
            "(2, 3)\n"
          ]
        }
      ]
    },
    {
      "cell_type": "code",
      "source": [
        "list1=[[1,11],[2,12],[3,13]]\n",
        "print(list1[1][1])\n",
        "print(list1[0][0])"
      ],
      "metadata": {
        "colab": {
          "base_uri": "https://localhost:8080/"
        },
        "id": "pPC-KN6pWMC1",
        "outputId": "1deb78e4-fad8-4405-8d8a-c77f99d3bdd4"
      },
      "execution_count": 36,
      "outputs": [
        {
          "output_type": "stream",
          "name": "stdout",
          "text": [
            "12\n",
            "1\n"
          ]
        }
      ]
    },
    {
      "cell_type": "code",
      "source": [],
      "metadata": {
        "id": "qYCoaXj8WoqM"
      },
      "execution_count": null,
      "outputs": []
    }
  ]
}