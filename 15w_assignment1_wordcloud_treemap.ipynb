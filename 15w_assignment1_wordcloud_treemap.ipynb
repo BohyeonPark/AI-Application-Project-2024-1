{
  "cells": [
    {
      "cell_type": "code",
      "source": [
        "from google.colab import files\n",
        "load=files.upload()"
      ],
      "metadata": {
        "colab": {
          "base_uri": "https://localhost:8080/",
          "height": 76
        },
        "id": "Dzcc5rARPifm",
        "outputId": "cf6ad3c6-aabe-498a-a710-0e335931eb09"
      },
      "id": "Dzcc5rARPifm",
      "execution_count": 2,
      "outputs": [
        {
          "output_type": "display_data",
          "data": {
            "text/plain": [
              "<IPython.core.display.HTML object>"
            ],
            "text/html": [
              "\n",
              "     <input type=\"file\" id=\"files-2a73f5e5-4463-4cb5-92de-1ec7c325baf3\" name=\"files[]\" multiple disabled\n",
              "        style=\"border:none\" />\n",
              "     <output id=\"result-2a73f5e5-4463-4cb5-92de-1ec7c325baf3\">\n",
              "      Upload widget is only available when the cell has been executed in the\n",
              "      current browser session. Please rerun this cell to enable.\n",
              "      </output>\n",
              "      <script>// Copyright 2017 Google LLC\n",
              "//\n",
              "// Licensed under the Apache License, Version 2.0 (the \"License\");\n",
              "// you may not use this file except in compliance with the License.\n",
              "// You may obtain a copy of the License at\n",
              "//\n",
              "//      http://www.apache.org/licenses/LICENSE-2.0\n",
              "//\n",
              "// Unless required by applicable law or agreed to in writing, software\n",
              "// distributed under the License is distributed on an \"AS IS\" BASIS,\n",
              "// WITHOUT WARRANTIES OR CONDITIONS OF ANY KIND, either express or implied.\n",
              "// See the License for the specific language governing permissions and\n",
              "// limitations under the License.\n",
              "\n",
              "/**\n",
              " * @fileoverview Helpers for google.colab Python module.\n",
              " */\n",
              "(function(scope) {\n",
              "function span(text, styleAttributes = {}) {\n",
              "  const element = document.createElement('span');\n",
              "  element.textContent = text;\n",
              "  for (const key of Object.keys(styleAttributes)) {\n",
              "    element.style[key] = styleAttributes[key];\n",
              "  }\n",
              "  return element;\n",
              "}\n",
              "\n",
              "// Max number of bytes which will be uploaded at a time.\n",
              "const MAX_PAYLOAD_SIZE = 100 * 1024;\n",
              "\n",
              "function _uploadFiles(inputId, outputId) {\n",
              "  const steps = uploadFilesStep(inputId, outputId);\n",
              "  const outputElement = document.getElementById(outputId);\n",
              "  // Cache steps on the outputElement to make it available for the next call\n",
              "  // to uploadFilesContinue from Python.\n",
              "  outputElement.steps = steps;\n",
              "\n",
              "  return _uploadFilesContinue(outputId);\n",
              "}\n",
              "\n",
              "// This is roughly an async generator (not supported in the browser yet),\n",
              "// where there are multiple asynchronous steps and the Python side is going\n",
              "// to poll for completion of each step.\n",
              "// This uses a Promise to block the python side on completion of each step,\n",
              "// then passes the result of the previous step as the input to the next step.\n",
              "function _uploadFilesContinue(outputId) {\n",
              "  const outputElement = document.getElementById(outputId);\n",
              "  const steps = outputElement.steps;\n",
              "\n",
              "  const next = steps.next(outputElement.lastPromiseValue);\n",
              "  return Promise.resolve(next.value.promise).then((value) => {\n",
              "    // Cache the last promise value to make it available to the next\n",
              "    // step of the generator.\n",
              "    outputElement.lastPromiseValue = value;\n",
              "    return next.value.response;\n",
              "  });\n",
              "}\n",
              "\n",
              "/**\n",
              " * Generator function which is called between each async step of the upload\n",
              " * process.\n",
              " * @param {string} inputId Element ID of the input file picker element.\n",
              " * @param {string} outputId Element ID of the output display.\n",
              " * @return {!Iterable<!Object>} Iterable of next steps.\n",
              " */\n",
              "function* uploadFilesStep(inputId, outputId) {\n",
              "  const inputElement = document.getElementById(inputId);\n",
              "  inputElement.disabled = false;\n",
              "\n",
              "  const outputElement = document.getElementById(outputId);\n",
              "  outputElement.innerHTML = '';\n",
              "\n",
              "  const pickedPromise = new Promise((resolve) => {\n",
              "    inputElement.addEventListener('change', (e) => {\n",
              "      resolve(e.target.files);\n",
              "    });\n",
              "  });\n",
              "\n",
              "  const cancel = document.createElement('button');\n",
              "  inputElement.parentElement.appendChild(cancel);\n",
              "  cancel.textContent = 'Cancel upload';\n",
              "  const cancelPromise = new Promise((resolve) => {\n",
              "    cancel.onclick = () => {\n",
              "      resolve(null);\n",
              "    };\n",
              "  });\n",
              "\n",
              "  // Wait for the user to pick the files.\n",
              "  const files = yield {\n",
              "    promise: Promise.race([pickedPromise, cancelPromise]),\n",
              "    response: {\n",
              "      action: 'starting',\n",
              "    }\n",
              "  };\n",
              "\n",
              "  cancel.remove();\n",
              "\n",
              "  // Disable the input element since further picks are not allowed.\n",
              "  inputElement.disabled = true;\n",
              "\n",
              "  if (!files) {\n",
              "    return {\n",
              "      response: {\n",
              "        action: 'complete',\n",
              "      }\n",
              "    };\n",
              "  }\n",
              "\n",
              "  for (const file of files) {\n",
              "    const li = document.createElement('li');\n",
              "    li.append(span(file.name, {fontWeight: 'bold'}));\n",
              "    li.append(span(\n",
              "        `(${file.type || 'n/a'}) - ${file.size} bytes, ` +\n",
              "        `last modified: ${\n",
              "            file.lastModifiedDate ? file.lastModifiedDate.toLocaleDateString() :\n",
              "                                    'n/a'} - `));\n",
              "    const percent = span('0% done');\n",
              "    li.appendChild(percent);\n",
              "\n",
              "    outputElement.appendChild(li);\n",
              "\n",
              "    const fileDataPromise = new Promise((resolve) => {\n",
              "      const reader = new FileReader();\n",
              "      reader.onload = (e) => {\n",
              "        resolve(e.target.result);\n",
              "      };\n",
              "      reader.readAsArrayBuffer(file);\n",
              "    });\n",
              "    // Wait for the data to be ready.\n",
              "    let fileData = yield {\n",
              "      promise: fileDataPromise,\n",
              "      response: {\n",
              "        action: 'continue',\n",
              "      }\n",
              "    };\n",
              "\n",
              "    // Use a chunked sending to avoid message size limits. See b/62115660.\n",
              "    let position = 0;\n",
              "    do {\n",
              "      const length = Math.min(fileData.byteLength - position, MAX_PAYLOAD_SIZE);\n",
              "      const chunk = new Uint8Array(fileData, position, length);\n",
              "      position += length;\n",
              "\n",
              "      const base64 = btoa(String.fromCharCode.apply(null, chunk));\n",
              "      yield {\n",
              "        response: {\n",
              "          action: 'append',\n",
              "          file: file.name,\n",
              "          data: base64,\n",
              "        },\n",
              "      };\n",
              "\n",
              "      let percentDone = fileData.byteLength === 0 ?\n",
              "          100 :\n",
              "          Math.round((position / fileData.byteLength) * 100);\n",
              "      percent.textContent = `${percentDone}% done`;\n",
              "\n",
              "    } while (position < fileData.byteLength);\n",
              "  }\n",
              "\n",
              "  // All done.\n",
              "  yield {\n",
              "    response: {\n",
              "      action: 'complete',\n",
              "    }\n",
              "  };\n",
              "}\n",
              "\n",
              "scope.google = scope.google || {};\n",
              "scope.google.colab = scope.google.colab || {};\n",
              "scope.google.colab._files = {\n",
              "  _uploadFiles,\n",
              "  _uploadFilesContinue,\n",
              "};\n",
              "})(self);\n",
              "</script> "
            ]
          },
          "metadata": {}
        },
        {
          "output_type": "stream",
          "name": "stdout",
          "text": [
            "Saving survey.csv to survey.csv\n"
          ]
        }
      ]
    },
    {
      "cell_type": "code",
      "execution_count": 3,
      "id": "6915ff38",
      "metadata": {
        "colab": {
          "base_uri": "https://localhost:8080/"
        },
        "id": "6915ff38",
        "outputId": "578bb6d3-6798-46d2-e30e-57491f39d47b"
      },
      "outputs": [
        {
          "output_type": "stream",
          "name": "stdout",
          "text": [
            "<class 'pandas.core.frame.DataFrame'>\n",
            "RangeIndex: 73268 entries, 0 to 73267\n",
            "Data columns (total 79 columns):\n",
            " #   Column                          Non-Null Count  Dtype  \n",
            "---  ------                          --------------  -----  \n",
            " 0   ResponseId                      73268 non-null  int64  \n",
            " 1   MainBranch                      73268 non-null  object \n",
            " 2   Employment                      71709 non-null  object \n",
            " 3   RemoteWork                      58958 non-null  object \n",
            " 4   CodingActivities                58899 non-null  object \n",
            " 5   EdLevel                         71571 non-null  object \n",
            " 6   LearnCode                       71580 non-null  object \n",
            " 7   LearnCodeOnline                 50685 non-null  object \n",
            " 8   LearnCodeCoursesCert            29389 non-null  object \n",
            " 9   YearsCode                       71331 non-null  object \n",
            " 10  YearsCodePro                    51833 non-null  object \n",
            " 11  DevType                         61302 non-null  object \n",
            " 12  OrgSize                         51039 non-null  object \n",
            " 13  PurchaseInfluence               50969 non-null  object \n",
            " 14  BuyNewTool                      67963 non-null  object \n",
            " 15  Country                         71771 non-null  object \n",
            " 16  Currency                        51264 non-null  object \n",
            " 17  CompTotal                       38422 non-null  float64\n",
            " 18  CompFreq                        44425 non-null  object \n",
            " 19  LanguageHaveWorkedWith          70975 non-null  object \n",
            " 20  LanguageWantToWorkWith          67027 non-null  object \n",
            " 21  DatabaseHaveWorkedWith          60121 non-null  object \n",
            " 22  DatabaseWantToWorkWith          51014 non-null  object \n",
            " 23  PlatformHaveWorkedWith          49924 non-null  object \n",
            " 24  PlatformWantToWorkWith          40415 non-null  object \n",
            " 25  WebframeHaveWorkedWith          53544 non-null  object \n",
            " 26  WebframeWantToWorkWith          46122 non-null  object \n",
            " 27  MiscTechHaveWorkedWith          44992 non-null  object \n",
            " 28  MiscTechWantToWorkWith          36810 non-null  object \n",
            " 29  ToolsTechHaveWorkedWith         54171 non-null  object \n",
            " 30  ToolsTechWantToWorkWith         46566 non-null  object \n",
            " 31  NEWCollabToolsHaveWorkedWith    70347 non-null  object \n",
            " 32  NEWCollabToolsWantToWorkWith    64108 non-null  object \n",
            " 33  OpSysProfessional use           65503 non-null  object \n",
            " 34  OpSysPersonal use               70963 non-null  object \n",
            " 35  VersionControlSystem            71379 non-null  object \n",
            " 36  VCInteraction                   68156 non-null  object \n",
            " 37  VCHostingPersonal use           0 non-null      float64\n",
            " 38  VCHostingProfessional use       0 non-null      float64\n",
            " 39  OfficeStackAsyncHaveWorkedWith  46223 non-null  object \n",
            " 40  OfficeStackAsyncWantToWorkWith  32072 non-null  object \n",
            " 41  OfficeStackSyncHaveWorkedWith   62128 non-null  object \n",
            " 42  OfficeStackSyncWantToWorkWith   47688 non-null  object \n",
            " 43  Blockchain                      71071 non-null  object \n",
            " 44  NEWSOSites                      71365 non-null  object \n",
            " 45  SOVisitFreq                     70961 non-null  object \n",
            " 46  SOAccount                       71572 non-null  object \n",
            " 47  SOPartFreq                      58229 non-null  object \n",
            " 48  SOComm                          71408 non-null  object \n",
            " 49  Age                             70946 non-null  object \n",
            " 50  Gender                          70853 non-null  object \n",
            " 51  Trans                           70315 non-null  object \n",
            " 52  Sexuality                       66565 non-null  object \n",
            " 53  Ethnicity                       69474 non-null  object \n",
            " 54  Accessibility                   67244 non-null  object \n",
            " 55  MentalHealth                    66447 non-null  object \n",
            " 56  TBranch                         52670 non-null  object \n",
            " 57  ICorPM                          36283 non-null  object \n",
            " 58  WorkExp                         36769 non-null  float64\n",
            " 59  Knowledge_1                     35804 non-null  object \n",
            " 60  Knowledge_2                     34973 non-null  object \n",
            " 61  Knowledge_3                     35133 non-null  object \n",
            " 62  Knowledge_4                     35097 non-null  object \n",
            " 63  Knowledge_5                     35014 non-null  object \n",
            " 64  Knowledge_6                     34991 non-null  object \n",
            " 65  Knowledge_7                     34977 non-null  object \n",
            " 66  Frequency_1                     35371 non-null  object \n",
            " 67  Frequency_2                     35344 non-null  object \n",
            " 68  Frequency_3                     34515 non-null  object \n",
            " 69  TimeSearching                   36198 non-null  object \n",
            " 70  TimeAnswering                   36022 non-null  object \n",
            " 71  Onboarding                      35679 non-null  object \n",
            " 72  ProfessionalTech                34906 non-null  object \n",
            " 73  TrueFalse_1                     35819 non-null  object \n",
            " 74  TrueFalse_2                     35715 non-null  object \n",
            " 75  TrueFalse_3                     35749 non-null  object \n",
            " 76  SurveyLength                    70444 non-null  object \n",
            " 77  SurveyEase                      70508 non-null  object \n",
            " 78  ConvertedCompYearly             38071 non-null  float64\n",
            "dtypes: float64(5), int64(1), object(73)\n",
            "memory usage: 44.2+ MB\n"
          ]
        }
      ],
      "source": [
        "# 판다스 라이브러리 탑재\n",
        "import pandas as pd\n",
        "\n",
        "# CSV 파일 읽어오기\n",
        "raw_data = pd.read_csv('survey.csv', encoding='cp949')\n",
        "\n",
        "# 데이터프레임 정보 확인하기\n",
        "raw_data.info()"
      ]
    },
    {
      "cell_type": "code",
      "execution_count": 4,
      "id": "0aa6be80",
      "metadata": {
        "colab": {
          "base_uri": "https://localhost:8080/",
          "height": 664
        },
        "id": "0aa6be80",
        "outputId": "d6d6cd0e-efa9-46b8-856d-22d1716a346d"
      },
      "outputs": [
        {
          "output_type": "execute_result",
          "data": {
            "text/plain": [
              "   ResponseId                                         MainBranch  \\\n",
              "0           1                                      None of these   \n",
              "1           2                     I am a developer by profession   \n",
              "2           3  I am not primarily a developer, but I write co...   \n",
              "3           4                     I am a developer by profession   \n",
              "4           5                     I am a developer by profession   \n",
              "\n",
              "            Employment                            RemoteWork  \\\n",
              "0                  NaN                                   NaN   \n",
              "1  Employed, full-time                          Fully remote   \n",
              "2  Employed, full-time  Hybrid (some remote, some in-person)   \n",
              "3  Employed, full-time                          Fully remote   \n",
              "4  Employed, full-time  Hybrid (some remote, some in-person)   \n",
              "\n",
              "                           CodingActivities  \\\n",
              "0                                       NaN   \n",
              "1  Hobby;Contribute to open-source projects   \n",
              "2                                     Hobby   \n",
              "3              I don?셳 code outside of work   \n",
              "4                                     Hobby   \n",
              "\n",
              "                                           EdLevel  \\\n",
              "0                                              NaN   \n",
              "1                                              NaN   \n",
              "2  Master?셲 degree (M.A., M.S., M.Eng., MBA, etc.)   \n",
              "3     Bachelor?셲 degree (B.A., B.S., B.Eng., etc.)   \n",
              "4     Bachelor?셲 degree (B.A., B.S., B.Eng., etc.)   \n",
              "\n",
              "                                           LearnCode  \\\n",
              "0                                                NaN   \n",
              "1                                                NaN   \n",
              "2  Books / Physical media;Friend or family member...   \n",
              "3  Books / Physical media;School (i.e., Universit...   \n",
              "4  Other online resources (e.g., videos, blogs, f...   \n",
              "\n",
              "                                     LearnCodeOnline LearnCodeCoursesCert  \\\n",
              "0                                                NaN                  NaN   \n",
              "1                                                NaN                  NaN   \n",
              "2  Technical documentation;Blogs;Programming Game...                  NaN   \n",
              "3                                                NaN                  NaN   \n",
              "4  Technical documentation;Blogs;Stack Overflow;O...                  NaN   \n",
              "\n",
              "  YearsCode  ... TimeSearching TimeAnswering Onboarding ProfessionalTech  \\\n",
              "0       NaN  ...           NaN           NaN        NaN              NaN   \n",
              "1       NaN  ...           NaN           NaN        NaN              NaN   \n",
              "2        14  ...           NaN           NaN        NaN              NaN   \n",
              "3        20  ...           NaN           NaN        NaN              NaN   \n",
              "4         8  ...           NaN           NaN        NaN              NaN   \n",
              "\n",
              "  TrueFalse_1 TrueFalse_2 TrueFalse_3           SurveyLength  \\\n",
              "0         NaN         NaN         NaN                    NaN   \n",
              "1         NaN         NaN         NaN               Too long   \n",
              "2         NaN         NaN         NaN  Appropriate in length   \n",
              "3         NaN         NaN         NaN  Appropriate in length   \n",
              "4         NaN         NaN         NaN               Too long   \n",
              "\n",
              "                   SurveyEase ConvertedCompYearly  \n",
              "0                         NaN                 NaN  \n",
              "1                   Difficult                 NaN  \n",
              "2  Neither easy nor difficult             40205.0  \n",
              "3                        Easy            215232.0  \n",
              "4                        Easy                 NaN  \n",
              "\n",
              "[5 rows x 79 columns]"
            ],
            "text/html": [
              "\n",
              "  <div id=\"df-ac94c7a5-9088-4c8b-9798-14d3a0ac5860\">\n",
              "    <div class=\"colab-df-container\">\n",
              "      <div>\n",
              "<style scoped>\n",
              "    .dataframe tbody tr th:only-of-type {\n",
              "        vertical-align: middle;\n",
              "    }\n",
              "\n",
              "    .dataframe tbody tr th {\n",
              "        vertical-align: top;\n",
              "    }\n",
              "\n",
              "    .dataframe thead th {\n",
              "        text-align: right;\n",
              "    }\n",
              "</style>\n",
              "<table border=\"1\" class=\"dataframe\">\n",
              "  <thead>\n",
              "    <tr style=\"text-align: right;\">\n",
              "      <th></th>\n",
              "      <th>ResponseId</th>\n",
              "      <th>MainBranch</th>\n",
              "      <th>Employment</th>\n",
              "      <th>RemoteWork</th>\n",
              "      <th>CodingActivities</th>\n",
              "      <th>EdLevel</th>\n",
              "      <th>LearnCode</th>\n",
              "      <th>LearnCodeOnline</th>\n",
              "      <th>LearnCodeCoursesCert</th>\n",
              "      <th>YearsCode</th>\n",
              "      <th>...</th>\n",
              "      <th>TimeSearching</th>\n",
              "      <th>TimeAnswering</th>\n",
              "      <th>Onboarding</th>\n",
              "      <th>ProfessionalTech</th>\n",
              "      <th>TrueFalse_1</th>\n",
              "      <th>TrueFalse_2</th>\n",
              "      <th>TrueFalse_3</th>\n",
              "      <th>SurveyLength</th>\n",
              "      <th>SurveyEase</th>\n",
              "      <th>ConvertedCompYearly</th>\n",
              "    </tr>\n",
              "  </thead>\n",
              "  <tbody>\n",
              "    <tr>\n",
              "      <th>0</th>\n",
              "      <td>1</td>\n",
              "      <td>None of these</td>\n",
              "      <td>NaN</td>\n",
              "      <td>NaN</td>\n",
              "      <td>NaN</td>\n",
              "      <td>NaN</td>\n",
              "      <td>NaN</td>\n",
              "      <td>NaN</td>\n",
              "      <td>NaN</td>\n",
              "      <td>NaN</td>\n",
              "      <td>...</td>\n",
              "      <td>NaN</td>\n",
              "      <td>NaN</td>\n",
              "      <td>NaN</td>\n",
              "      <td>NaN</td>\n",
              "      <td>NaN</td>\n",
              "      <td>NaN</td>\n",
              "      <td>NaN</td>\n",
              "      <td>NaN</td>\n",
              "      <td>NaN</td>\n",
              "      <td>NaN</td>\n",
              "    </tr>\n",
              "    <tr>\n",
              "      <th>1</th>\n",
              "      <td>2</td>\n",
              "      <td>I am a developer by profession</td>\n",
              "      <td>Employed, full-time</td>\n",
              "      <td>Fully remote</td>\n",
              "      <td>Hobby;Contribute to open-source projects</td>\n",
              "      <td>NaN</td>\n",
              "      <td>NaN</td>\n",
              "      <td>NaN</td>\n",
              "      <td>NaN</td>\n",
              "      <td>NaN</td>\n",
              "      <td>...</td>\n",
              "      <td>NaN</td>\n",
              "      <td>NaN</td>\n",
              "      <td>NaN</td>\n",
              "      <td>NaN</td>\n",
              "      <td>NaN</td>\n",
              "      <td>NaN</td>\n",
              "      <td>NaN</td>\n",
              "      <td>Too long</td>\n",
              "      <td>Difficult</td>\n",
              "      <td>NaN</td>\n",
              "    </tr>\n",
              "    <tr>\n",
              "      <th>2</th>\n",
              "      <td>3</td>\n",
              "      <td>I am not primarily a developer, but I write co...</td>\n",
              "      <td>Employed, full-time</td>\n",
              "      <td>Hybrid (some remote, some in-person)</td>\n",
              "      <td>Hobby</td>\n",
              "      <td>Master?셲 degree (M.A., M.S., M.Eng., MBA, etc.)</td>\n",
              "      <td>Books / Physical media;Friend or family member...</td>\n",
              "      <td>Technical documentation;Blogs;Programming Game...</td>\n",
              "      <td>NaN</td>\n",
              "      <td>14</td>\n",
              "      <td>...</td>\n",
              "      <td>NaN</td>\n",
              "      <td>NaN</td>\n",
              "      <td>NaN</td>\n",
              "      <td>NaN</td>\n",
              "      <td>NaN</td>\n",
              "      <td>NaN</td>\n",
              "      <td>NaN</td>\n",
              "      <td>Appropriate in length</td>\n",
              "      <td>Neither easy nor difficult</td>\n",
              "      <td>40205.0</td>\n",
              "    </tr>\n",
              "    <tr>\n",
              "      <th>3</th>\n",
              "      <td>4</td>\n",
              "      <td>I am a developer by profession</td>\n",
              "      <td>Employed, full-time</td>\n",
              "      <td>Fully remote</td>\n",
              "      <td>I don?셳 code outside of work</td>\n",
              "      <td>Bachelor?셲 degree (B.A., B.S., B.Eng., etc.)</td>\n",
              "      <td>Books / Physical media;School (i.e., Universit...</td>\n",
              "      <td>NaN</td>\n",
              "      <td>NaN</td>\n",
              "      <td>20</td>\n",
              "      <td>...</td>\n",
              "      <td>NaN</td>\n",
              "      <td>NaN</td>\n",
              "      <td>NaN</td>\n",
              "      <td>NaN</td>\n",
              "      <td>NaN</td>\n",
              "      <td>NaN</td>\n",
              "      <td>NaN</td>\n",
              "      <td>Appropriate in length</td>\n",
              "      <td>Easy</td>\n",
              "      <td>215232.0</td>\n",
              "    </tr>\n",
              "    <tr>\n",
              "      <th>4</th>\n",
              "      <td>5</td>\n",
              "      <td>I am a developer by profession</td>\n",
              "      <td>Employed, full-time</td>\n",
              "      <td>Hybrid (some remote, some in-person)</td>\n",
              "      <td>Hobby</td>\n",
              "      <td>Bachelor?셲 degree (B.A., B.S., B.Eng., etc.)</td>\n",
              "      <td>Other online resources (e.g., videos, blogs, f...</td>\n",
              "      <td>Technical documentation;Blogs;Stack Overflow;O...</td>\n",
              "      <td>NaN</td>\n",
              "      <td>8</td>\n",
              "      <td>...</td>\n",
              "      <td>NaN</td>\n",
              "      <td>NaN</td>\n",
              "      <td>NaN</td>\n",
              "      <td>NaN</td>\n",
              "      <td>NaN</td>\n",
              "      <td>NaN</td>\n",
              "      <td>NaN</td>\n",
              "      <td>Too long</td>\n",
              "      <td>Easy</td>\n",
              "      <td>NaN</td>\n",
              "    </tr>\n",
              "  </tbody>\n",
              "</table>\n",
              "<p>5 rows × 79 columns</p>\n",
              "</div>\n",
              "      <button class=\"colab-df-convert\" onclick=\"convertToInteractive('df-ac94c7a5-9088-4c8b-9798-14d3a0ac5860')\"\n",
              "              title=\"Convert this dataframe to an interactive table.\"\n",
              "              style=\"display:none;\">\n",
              "        \n",
              "  <svg xmlns=\"http://www.w3.org/2000/svg\" height=\"24px\"viewBox=\"0 0 24 24\"\n",
              "       width=\"24px\">\n",
              "    <path d=\"M0 0h24v24H0V0z\" fill=\"none\"/>\n",
              "    <path d=\"M18.56 5.44l.94 2.06.94-2.06 2.06-.94-2.06-.94-.94-2.06-.94 2.06-2.06.94zm-11 1L8.5 8.5l.94-2.06 2.06-.94-2.06-.94L8.5 2.5l-.94 2.06-2.06.94zm10 10l.94 2.06.94-2.06 2.06-.94-2.06-.94-.94-2.06-.94 2.06-2.06.94z\"/><path d=\"M17.41 7.96l-1.37-1.37c-.4-.4-.92-.59-1.43-.59-.52 0-1.04.2-1.43.59L10.3 9.45l-7.72 7.72c-.78.78-.78 2.05 0 2.83L4 21.41c.39.39.9.59 1.41.59.51 0 1.02-.2 1.41-.59l7.78-7.78 2.81-2.81c.8-.78.8-2.07 0-2.86zM5.41 20L4 18.59l7.72-7.72 1.47 1.35L5.41 20z\"/>\n",
              "  </svg>\n",
              "      </button>\n",
              "      \n",
              "  <style>\n",
              "    .colab-df-container {\n",
              "      display:flex;\n",
              "      flex-wrap:wrap;\n",
              "      gap: 12px;\n",
              "    }\n",
              "\n",
              "    .colab-df-convert {\n",
              "      background-color: #E8F0FE;\n",
              "      border: none;\n",
              "      border-radius: 50%;\n",
              "      cursor: pointer;\n",
              "      display: none;\n",
              "      fill: #1967D2;\n",
              "      height: 32px;\n",
              "      padding: 0 0 0 0;\n",
              "      width: 32px;\n",
              "    }\n",
              "\n",
              "    .colab-df-convert:hover {\n",
              "      background-color: #E2EBFA;\n",
              "      box-shadow: 0px 1px 2px rgba(60, 64, 67, 0.3), 0px 1px 3px 1px rgba(60, 64, 67, 0.15);\n",
              "      fill: #174EA6;\n",
              "    }\n",
              "\n",
              "    [theme=dark] .colab-df-convert {\n",
              "      background-color: #3B4455;\n",
              "      fill: #D2E3FC;\n",
              "    }\n",
              "\n",
              "    [theme=dark] .colab-df-convert:hover {\n",
              "      background-color: #434B5C;\n",
              "      box-shadow: 0px 1px 3px 1px rgba(0, 0, 0, 0.15);\n",
              "      filter: drop-shadow(0px 1px 2px rgba(0, 0, 0, 0.3));\n",
              "      fill: #FFFFFF;\n",
              "    }\n",
              "  </style>\n",
              "\n",
              "      <script>\n",
              "        const buttonEl =\n",
              "          document.querySelector('#df-ac94c7a5-9088-4c8b-9798-14d3a0ac5860 button.colab-df-convert');\n",
              "        buttonEl.style.display =\n",
              "          google.colab.kernel.accessAllowed ? 'block' : 'none';\n",
              "\n",
              "        async function convertToInteractive(key) {\n",
              "          const element = document.querySelector('#df-ac94c7a5-9088-4c8b-9798-14d3a0ac5860');\n",
              "          const dataTable =\n",
              "            await google.colab.kernel.invokeFunction('convertToInteractive',\n",
              "                                                     [key], {});\n",
              "          if (!dataTable) return;\n",
              "\n",
              "          const docLinkHtml = 'Like what you see? Visit the ' +\n",
              "            '<a target=\"_blank\" href=https://colab.research.google.com/notebooks/data_table.ipynb>data table notebook</a>'\n",
              "            + ' to learn more about interactive tables.';\n",
              "          element.innerHTML = '';\n",
              "          dataTable['output_type'] = 'display_data';\n",
              "          await google.colab.output.renderOutput(dataTable, element);\n",
              "          const docLink = document.createElement('div');\n",
              "          docLink.innerHTML = docLinkHtml;\n",
              "          element.appendChild(docLink);\n",
              "        }\n",
              "      </script>\n",
              "    </div>\n",
              "  </div>\n",
              "  "
            ]
          },
          "metadata": {},
          "execution_count": 4
        }
      ],
      "source": [
        "# 일부 데이터 확안하기\n",
        "raw_data.head()"
      ]
    },
    {
      "cell_type": "code",
      "execution_count": 5,
      "id": "2cbcfeaf",
      "metadata": {
        "colab": {
          "base_uri": "https://localhost:8080/"
        },
        "id": "2cbcfeaf",
        "outputId": "938f2366-4672-4d33-800e-476924b6ede1"
      },
      "outputs": [
        {
          "output_type": "execute_result",
          "data": {
            "text/plain": [
              "0                                                      NaN\n",
              "1                                                      NaN\n",
              "2        Data scientist or machine learning specialist;...\n",
              "3                                    Developer, full-stack\n",
              "4        Developer, front-end;Developer, full-stack;Dev...\n",
              "                               ...                        \n",
              "73263                                  Developer, back-end\n",
              "73264        Data scientist or machine learning specialist\n",
              "73265    Developer, full-stack;Developer, desktop or en...\n",
              "73266    Developer, front-end;Developer, desktop or ent...\n",
              "73267    Developer, front-end;Engineer, data;Engineer, ...\n",
              "Name: DevType, Length: 73268, dtype: object"
            ]
          },
          "metadata": {},
          "execution_count": 5
        }
      ],
      "source": [
        "# 개발자 타입 열 데이터 확인하기\n",
        "raw_data['DevType']"
      ]
    },
    {
      "cell_type": "code",
      "execution_count": 6,
      "id": "0fbfff24",
      "metadata": {
        "scrolled": true,
        "colab": {
          "base_uri": "https://localhost:8080/"
        },
        "id": "0fbfff24",
        "outputId": "ecefaa5e-6ce2-418c-b533-3c5691659a06"
      },
      "outputs": [
        {
          "output_type": "execute_result",
          "data": {
            "text/plain": [
              "0                                                      NaN\n",
              "1                                                      NaN\n",
              "2        [Data scientist or machine learning specialist...\n",
              "3                                  [Developer, full-stack]\n",
              "4        [Developer, front-end, Developer, full-stack, ...\n",
              "                               ...                        \n",
              "73263                                [Developer, back-end]\n",
              "73264      [Data scientist or machine learning specialist]\n",
              "73265    [Developer, full-stack, Developer, desktop or ...\n",
              "73266    [Developer, front-end, Developer, desktop or e...\n",
              "73267    [Developer, front-end, Engineer, data, Enginee...\n",
              "Name: DevType, Length: 73268, dtype: object"
            ]
          },
          "metadata": {},
          "execution_count": 6
        }
      ],
      "source": [
        "# 문자열을 리스트로 변환\n",
        "dev_type = raw_data['DevType'].str.split(';')\n",
        "dev_type"
      ]
    },
    {
      "cell_type": "code",
      "execution_count": 7,
      "id": "d6d61d09",
      "metadata": {
        "colab": {
          "base_uri": "https://localhost:8080/"
        },
        "id": "d6d61d09",
        "outputId": "04402ac8-3230-407c-d861-7013b4ea9985"
      },
      "outputs": [
        {
          "output_type": "execute_result",
          "data": {
            "text/plain": [
              "2        [Data scientist or machine learning specialist...\n",
              "3                                  [Developer, full-stack]\n",
              "4        [Developer, front-end, Developer, full-stack, ...\n",
              "7                         [Developer, full-stack, Student]\n",
              "8                                    [Developer, back-end]\n",
              "                               ...                        \n",
              "73263                                [Developer, back-end]\n",
              "73264      [Data scientist or machine learning specialist]\n",
              "73265    [Developer, full-stack, Developer, desktop or ...\n",
              "73266    [Developer, front-end, Developer, desktop or e...\n",
              "73267    [Developer, front-end, Engineer, data, Enginee...\n",
              "Name: DevType, Length: 61302, dtype: object"
            ]
          },
          "metadata": {},
          "execution_count": 7
        }
      ],
      "source": [
        "# 결손치 제거\n",
        "dev_type.dropna(inplace=True)\n",
        "dev_type"
      ]
    },
    {
      "cell_type": "code",
      "execution_count": 8,
      "id": "1e40597b",
      "metadata": {
        "colab": {
          "base_uri": "https://localhost:8080/"
        },
        "id": "1e40597b",
        "outputId": "6db44a6d-55df-496f-b908-fa599f040599"
      },
      "outputs": [
        {
          "output_type": "execute_result",
          "data": {
            "text/plain": [
              "2        Data scientist or machine learning specialist\n",
              "2                                 Developer, front-end\n",
              "2                                       Engineer, data\n",
              "2                           Engineer, site reliability\n",
              "3                                Developer, full-stack\n",
              "                             ...                      \n",
              "73267                         Data or business analyst\n",
              "73267                                         Designer\n",
              "73267                                        Scientist\n",
              "73267                                  Product manager\n",
              "73267                             System administrator\n",
              "Name: DevType, Length: 164790, dtype: object"
            ]
          },
          "metadata": {},
          "execution_count": 8
        }
      ],
      "source": [
        "# 리스트 항목을 각 열로 나누기\n",
        "exploded_dev_type = dev_type.explode()\n",
        "exploded_dev_type"
      ]
    },
    {
      "cell_type": "code",
      "execution_count": 9,
      "id": "277825e0",
      "metadata": {
        "colab": {
          "base_uri": "https://localhost:8080/"
        },
        "id": "277825e0",
        "outputId": "998caaff-9c00-46da-a9a2-d9c6ea91e840"
      },
      "outputs": [
        {
          "output_type": "execute_result",
          "data": {
            "text/plain": [
              "array(['Data scientist or machine learning specialist',\n",
              "       'Developer, front-end', 'Engineer, data',\n",
              "       'Engineer, site reliability', 'Developer, full-stack',\n",
              "       'Developer, back-end',\n",
              "       'Developer, desktop or enterprise applications',\n",
              "       'Developer, QA or test', 'Student', 'Developer, mobile',\n",
              "       'Educator', 'Engineering manager', 'Database administrator',\n",
              "       'Academic researcher', 'DevOps specialist',\n",
              "       'Other (please specify):',\n",
              "       'Developer, embedded applications or devices',\n",
              "       'Developer, game or graphics', 'Project manager',\n",
              "       'Cloud infrastructure engineer', 'Data or business analyst',\n",
              "       'Designer', 'Scientist', 'Product manager',\n",
              "       'Senior Executive (C-Suite, VP, etc.)', 'System administrator',\n",
              "       'Blockchain', 'Marketing or sales professional',\n",
              "       'Security professional'], dtype=object)"
            ]
          },
          "metadata": {},
          "execution_count": 9
        }
      ],
      "source": [
        "# 유일한 값 확인하기\n",
        "exploded_dev_type.unique()"
      ]
    },
    {
      "cell_type": "code",
      "execution_count": 10,
      "id": "920607b5",
      "metadata": {
        "colab": {
          "base_uri": "https://localhost:8080/"
        },
        "id": "920607b5",
        "outputId": "de5a17d5-3b8d-4043-865c-5bb708f4d057"
      },
      "outputs": [
        {
          "output_type": "execute_result",
          "data": {
            "text/plain": [
              "240                           Data or business analyst\n",
              "400                           Data or business analyst\n",
              "463      Data scientist or machine learning specialist\n",
              "1089     Data scientist or machine learning specialist\n",
              "1704     Data scientist or machine learning specialist\n",
              "                             ...                      \n",
              "73053                         Data or business analyst\n",
              "73054                         Data or business analyst\n",
              "73064    Data scientist or machine learning specialist\n",
              "73204                         Data or business analyst\n",
              "73264    Data scientist or machine learning specialist\n",
              "Name: DevType, Length: 742, dtype: object"
            ]
          },
          "metadata": {},
          "execution_count": 10
        }
      ],
      "source": [
        "# 데이터 분석가 데이터만 추출하기\n",
        "data_analyst_data = raw_data[raw_data['DevType'].isin(['Data scientist or machine learning specialist', 'Data or business analyst'])]\n",
        "data_analyst_data['DevType']"
      ]
    },
    {
      "cell_type": "code",
      "execution_count": 11,
      "id": "d278e839",
      "metadata": {
        "colab": {
          "base_uri": "https://localhost:8080/"
        },
        "id": "d278e839",
        "outputId": "de58bf67-d4d3-468e-d675-2ff5416117c4"
      },
      "outputs": [
        {
          "output_type": "execute_result",
          "data": {
            "text/plain": [
              "240                   HTML/CSS;Python;Ruby;SQL;VBA\n",
              "400                      Bash/Shell;C++;Python;SQL\n",
              "463                          Bash/Shell;Python;SQL\n",
              "1089                                        Python\n",
              "1704             Elixir;Python;Rust;SQL;TypeScript\n",
              "                           ...                    \n",
              "73053                        PowerShell;Python;SQL\n",
              "73054                                            R\n",
              "73064                        Java;Python;Scala;SQL\n",
              "73204          Bash/Shell;HTML/CSS;Julia;R;SQL;VBA\n",
              "73264    Bash/Shell;HTML/CSS;JavaScript;Python;SQL\n",
              "Name: LanguageHaveWorkedWith, Length: 742, dtype: object"
            ]
          },
          "metadata": {},
          "execution_count": 11
        }
      ],
      "source": [
        "# 프로그래밍 언어 데이터 추출\n",
        "languages = data_analyst_data['LanguageHaveWorkedWith']\n",
        "# 데이터 확인\n",
        "languages"
      ]
    },
    {
      "cell_type": "code",
      "execution_count": 12,
      "id": "ce1416f9",
      "metadata": {
        "colab": {
          "base_uri": "https://localhost:8080/"
        },
        "id": "ce1416f9",
        "outputId": "906dd8de-ce86-4150-e61d-f161e18ce968"
      },
      "outputs": [
        {
          "output_type": "execute_result",
          "data": {
            "text/plain": [
              "240                   [HTML/CSS, Python, Ruby, SQL, VBA]\n",
              "400                       [Bash/Shell, C++, Python, SQL]\n",
              "463                            [Bash/Shell, Python, SQL]\n",
              "1089                                            [Python]\n",
              "1704             [Elixir, Python, Rust, SQL, TypeScript]\n",
              "                              ...                       \n",
              "73053                          [PowerShell, Python, SQL]\n",
              "73054                                                [R]\n",
              "73064                         [Java, Python, Scala, SQL]\n",
              "73204         [Bash/Shell, HTML/CSS, Julia, R, SQL, VBA]\n",
              "73264    [Bash/Shell, HTML/CSS, JavaScript, Python, SQL]\n",
              "Name: LanguageHaveWorkedWith, Length: 742, dtype: object"
            ]
          },
          "metadata": {},
          "execution_count": 12
        }
      ],
      "source": [
        "# 데이터 문자열 변환 후 구분자(;)로 구분\n",
        "languages = languages.str.split(';')\n",
        "\n",
        "# 데이터 확인\n",
        "languages"
      ]
    },
    {
      "cell_type": "code",
      "execution_count": 13,
      "id": "f1c1123c",
      "metadata": {
        "colab": {
          "base_uri": "https://localhost:8080/"
        },
        "id": "f1c1123c",
        "outputId": "51b727b0-6837-4712-cd71-9ff6433952e3"
      },
      "outputs": [
        {
          "output_type": "execute_result",
          "data": {
            "text/plain": [
              "240        HTML/CSS\n",
              "240          Python\n",
              "240            Ruby\n",
              "240             SQL\n",
              "240             VBA\n",
              "            ...    \n",
              "73264    Bash/Shell\n",
              "73264      HTML/CSS\n",
              "73264    JavaScript\n",
              "73264        Python\n",
              "73264           SQL\n",
              "Name: LanguageHaveWorkedWith, Length: 2566, dtype: object"
            ]
          },
          "metadata": {},
          "execution_count": 13
        }
      ],
      "source": [
        "# 리스트 항목을 행으로 나누기\n",
        "exploded_languages = languages.explode()\n",
        "\n",
        "# 데이터 확인\n",
        "exploded_languages"
      ]
    },
    {
      "cell_type": "code",
      "execution_count": 14,
      "id": "ef0b8ac2",
      "metadata": {
        "colab": {
          "base_uri": "https://localhost:8080/"
        },
        "id": "ef0b8ac2",
        "outputId": "d4c52bbf-a8c3-4c75-881b-3a15732dcc70"
      },
      "outputs": [
        {
          "output_type": "execute_result",
          "data": {
            "text/plain": [
              "LanguageHaveWorkedWith\n",
              "Python         624\n",
              "SQL            440\n",
              "R              213\n",
              "Bash/Shell     174\n",
              "JavaScript     169\n",
              "HTML/CSS       147\n",
              "C++            113\n",
              "Java            85\n",
              "VBA             70\n",
              "C               66\n",
              "C#              50\n",
              "PowerShell      46\n",
              "TypeScript      41\n",
              "MATLAB          41\n",
              "Julia           39\n",
              "SAS             33\n",
              "Scala           29\n",
              "Go              22\n",
              "Rust            22\n",
              "PHP             16\n",
              "Kotlin          10\n",
              "Swift           10\n",
              "Dart             9\n",
              "Ruby             9\n",
              "Assembly         8\n",
              "Lua              8\n",
              "Haskell          8\n",
              "LISP             7\n",
              "Perl             7\n",
              "Clojure          6\n",
              "APL              5\n",
              "Objective-C      5\n",
              "Groovy           4\n",
              "Solidity         4\n",
              "Fortran          3\n",
              "Delphi           2\n",
              "F#               2\n",
              "Elixir           2\n",
              "Crystal          1\n",
              "OCaml            1\n",
              "COBOL            1\n",
              "Erlang           1\n",
              "Name: LanguageHaveWorkedWith, dtype: int64"
            ]
          },
          "metadata": {},
          "execution_count": 14
        }
      ],
      "source": [
        "# 프로그래밍 별 응답 수 구하기\n",
        "size_by_languages = exploded_languages.groupby(exploded_languages).size()\n",
        "#size() 각 그룹의 크기\n",
        "\n",
        "# 데이터 빈도 역순으로 정렬\n",
        "size_by_languages.sort_values(ascending=False, inplace=True)\n",
        "size_by_languages"
      ]
    },
    {
      "cell_type": "code",
      "execution_count": 15,
      "id": "5d4695fc",
      "metadata": {
        "colab": {
          "base_uri": "https://localhost:8080/",
          "height": 363
        },
        "id": "5d4695fc",
        "outputId": "a8cd48ca-1c92-4e86-870f-ebcacdd25aca"
      },
      "outputs": [
        {
          "output_type": "execute_result",
          "data": {
            "text/plain": [
              "     language  count\n",
              "0      Python    624\n",
              "1         SQL    440\n",
              "2           R    213\n",
              "3  Bash/Shell    174\n",
              "4  JavaScript    169\n",
              "5    HTML/CSS    147\n",
              "6         C++    113\n",
              "7        Java     85\n",
              "8         VBA     70\n",
              "9           C     66"
            ],
            "text/html": [
              "\n",
              "  <div id=\"df-aabcd343-906a-416a-b467-0784fcfe38f4\">\n",
              "    <div class=\"colab-df-container\">\n",
              "      <div>\n",
              "<style scoped>\n",
              "    .dataframe tbody tr th:only-of-type {\n",
              "        vertical-align: middle;\n",
              "    }\n",
              "\n",
              "    .dataframe tbody tr th {\n",
              "        vertical-align: top;\n",
              "    }\n",
              "\n",
              "    .dataframe thead th {\n",
              "        text-align: right;\n",
              "    }\n",
              "</style>\n",
              "<table border=\"1\" class=\"dataframe\">\n",
              "  <thead>\n",
              "    <tr style=\"text-align: right;\">\n",
              "      <th></th>\n",
              "      <th>language</th>\n",
              "      <th>count</th>\n",
              "    </tr>\n",
              "  </thead>\n",
              "  <tbody>\n",
              "    <tr>\n",
              "      <th>0</th>\n",
              "      <td>Python</td>\n",
              "      <td>624</td>\n",
              "    </tr>\n",
              "    <tr>\n",
              "      <th>1</th>\n",
              "      <td>SQL</td>\n",
              "      <td>440</td>\n",
              "    </tr>\n",
              "    <tr>\n",
              "      <th>2</th>\n",
              "      <td>R</td>\n",
              "      <td>213</td>\n",
              "    </tr>\n",
              "    <tr>\n",
              "      <th>3</th>\n",
              "      <td>Bash/Shell</td>\n",
              "      <td>174</td>\n",
              "    </tr>\n",
              "    <tr>\n",
              "      <th>4</th>\n",
              "      <td>JavaScript</td>\n",
              "      <td>169</td>\n",
              "    </tr>\n",
              "    <tr>\n",
              "      <th>5</th>\n",
              "      <td>HTML/CSS</td>\n",
              "      <td>147</td>\n",
              "    </tr>\n",
              "    <tr>\n",
              "      <th>6</th>\n",
              "      <td>C++</td>\n",
              "      <td>113</td>\n",
              "    </tr>\n",
              "    <tr>\n",
              "      <th>7</th>\n",
              "      <td>Java</td>\n",
              "      <td>85</td>\n",
              "    </tr>\n",
              "    <tr>\n",
              "      <th>8</th>\n",
              "      <td>VBA</td>\n",
              "      <td>70</td>\n",
              "    </tr>\n",
              "    <tr>\n",
              "      <th>9</th>\n",
              "      <td>C</td>\n",
              "      <td>66</td>\n",
              "    </tr>\n",
              "  </tbody>\n",
              "</table>\n",
              "</div>\n",
              "      <button class=\"colab-df-convert\" onclick=\"convertToInteractive('df-aabcd343-906a-416a-b467-0784fcfe38f4')\"\n",
              "              title=\"Convert this dataframe to an interactive table.\"\n",
              "              style=\"display:none;\">\n",
              "        \n",
              "  <svg xmlns=\"http://www.w3.org/2000/svg\" height=\"24px\"viewBox=\"0 0 24 24\"\n",
              "       width=\"24px\">\n",
              "    <path d=\"M0 0h24v24H0V0z\" fill=\"none\"/>\n",
              "    <path d=\"M18.56 5.44l.94 2.06.94-2.06 2.06-.94-2.06-.94-.94-2.06-.94 2.06-2.06.94zm-11 1L8.5 8.5l.94-2.06 2.06-.94-2.06-.94L8.5 2.5l-.94 2.06-2.06.94zm10 10l.94 2.06.94-2.06 2.06-.94-2.06-.94-.94-2.06-.94 2.06-2.06.94z\"/><path d=\"M17.41 7.96l-1.37-1.37c-.4-.4-.92-.59-1.43-.59-.52 0-1.04.2-1.43.59L10.3 9.45l-7.72 7.72c-.78.78-.78 2.05 0 2.83L4 21.41c.39.39.9.59 1.41.59.51 0 1.02-.2 1.41-.59l7.78-7.78 2.81-2.81c.8-.78.8-2.07 0-2.86zM5.41 20L4 18.59l7.72-7.72 1.47 1.35L5.41 20z\"/>\n",
              "  </svg>\n",
              "      </button>\n",
              "      \n",
              "  <style>\n",
              "    .colab-df-container {\n",
              "      display:flex;\n",
              "      flex-wrap:wrap;\n",
              "      gap: 12px;\n",
              "    }\n",
              "\n",
              "    .colab-df-convert {\n",
              "      background-color: #E8F0FE;\n",
              "      border: none;\n",
              "      border-radius: 50%;\n",
              "      cursor: pointer;\n",
              "      display: none;\n",
              "      fill: #1967D2;\n",
              "      height: 32px;\n",
              "      padding: 0 0 0 0;\n",
              "      width: 32px;\n",
              "    }\n",
              "\n",
              "    .colab-df-convert:hover {\n",
              "      background-color: #E2EBFA;\n",
              "      box-shadow: 0px 1px 2px rgba(60, 64, 67, 0.3), 0px 1px 3px 1px rgba(60, 64, 67, 0.15);\n",
              "      fill: #174EA6;\n",
              "    }\n",
              "\n",
              "    [theme=dark] .colab-df-convert {\n",
              "      background-color: #3B4455;\n",
              "      fill: #D2E3FC;\n",
              "    }\n",
              "\n",
              "    [theme=dark] .colab-df-convert:hover {\n",
              "      background-color: #434B5C;\n",
              "      box-shadow: 0px 1px 3px 1px rgba(0, 0, 0, 0.15);\n",
              "      filter: drop-shadow(0px 1px 2px rgba(0, 0, 0, 0.3));\n",
              "      fill: #FFFFFF;\n",
              "    }\n",
              "  </style>\n",
              "\n",
              "      <script>\n",
              "        const buttonEl =\n",
              "          document.querySelector('#df-aabcd343-906a-416a-b467-0784fcfe38f4 button.colab-df-convert');\n",
              "        buttonEl.style.display =\n",
              "          google.colab.kernel.accessAllowed ? 'block' : 'none';\n",
              "\n",
              "        async function convertToInteractive(key) {\n",
              "          const element = document.querySelector('#df-aabcd343-906a-416a-b467-0784fcfe38f4');\n",
              "          const dataTable =\n",
              "            await google.colab.kernel.invokeFunction('convertToInteractive',\n",
              "                                                     [key], {});\n",
              "          if (!dataTable) return;\n",
              "\n",
              "          const docLinkHtml = 'Like what you see? Visit the ' +\n",
              "            '<a target=\"_blank\" href=https://colab.research.google.com/notebooks/data_table.ipynb>data table notebook</a>'\n",
              "            + ' to learn more about interactive tables.';\n",
              "          element.innerHTML = '';\n",
              "          dataTable['output_type'] = 'display_data';\n",
              "          await google.colab.output.renderOutput(dataTable, element);\n",
              "          const docLink = document.createElement('div');\n",
              "          docLink.innerHTML = docLinkHtml;\n",
              "          element.appendChild(docLink);\n",
              "        }\n",
              "      </script>\n",
              "    </div>\n",
              "  </div>\n",
              "  "
            ]
          },
          "metadata": {},
          "execution_count": 15
        }
      ],
      "source": [
        "# 데이터프레임 만들기 위한 딕셔너리 만들기\n",
        "frame = {'language': size_by_languages.index, 'count': size_by_languages.values}\n",
        "\n",
        "# 데이터프레임 만들기\n",
        "size_by_languages_df = pd.DataFrame(frame)\n",
        "size_by_languages_df.head(10)"
      ]
    },
    {
      "cell_type": "code",
      "execution_count": 16,
      "id": "26a7f379",
      "metadata": {
        "id": "26a7f379"
      },
      "outputs": [],
      "source": [
        "# 매트플랏립 라이브러리 탑재\n",
        "import matplotlib.pyplot as plt\n",
        "\n",
        "# Wordcloud 라이브러리 탑재\n",
        "from wordcloud import WordCloud"
      ]
    },
    {
      "cell_type": "code",
      "execution_count": 17,
      "id": "a26ddc13",
      "metadata": {
        "scrolled": false,
        "colab": {
          "base_uri": "https://localhost:8080/"
        },
        "id": "a26ddc13",
        "outputId": "dee6c9c2-871a-401a-8461-b1326ac431c4"
      },
      "outputs": [
        {
          "output_type": "execute_result",
          "data": {
            "text/plain": [
              "{'Python': 624,\n",
              " 'SQL': 440,\n",
              " 'R': 213,\n",
              " 'Bash/Shell': 174,\n",
              " 'JavaScript': 169,\n",
              " 'HTML/CSS': 147,\n",
              " 'C++': 113,\n",
              " 'Java': 85,\n",
              " 'VBA': 70,\n",
              " 'C': 66,\n",
              " 'C#': 50,\n",
              " 'PowerShell': 46,\n",
              " 'TypeScript': 41,\n",
              " 'MATLAB': 41,\n",
              " 'Julia': 39,\n",
              " 'SAS': 33,\n",
              " 'Scala': 29,\n",
              " 'Go': 22,\n",
              " 'Rust': 22,\n",
              " 'PHP': 16,\n",
              " 'Kotlin': 10,\n",
              " 'Swift': 10,\n",
              " 'Dart': 9,\n",
              " 'Ruby': 9,\n",
              " 'Assembly': 8,\n",
              " 'Lua': 8,\n",
              " 'Haskell': 8,\n",
              " 'LISP': 7,\n",
              " 'Perl': 7,\n",
              " 'Clojure': 6,\n",
              " 'APL': 5,\n",
              " 'Objective-C': 5,\n",
              " 'Groovy': 4,\n",
              " 'Solidity': 4,\n",
              " 'Fortran': 3,\n",
              " 'Delphi': 2,\n",
              " 'F#': 2,\n",
              " 'Elixir': 2,\n",
              " 'Crystal': 1,\n",
              " 'OCaml': 1,\n",
              " 'COBOL': 1,\n",
              " 'Erlang': 1}"
            ]
          },
          "metadata": {},
          "execution_count": 17
        }
      ],
      "source": [
        "# 데이터프레임을 딕셔너리로 변경하기\n",
        "size_by_languages.to_dict()"
      ]
    },
    {
      "cell_type": "code",
      "execution_count": 18,
      "id": "8001ea98",
      "metadata": {
        "colab": {
          "base_uri": "https://localhost:8080/"
        },
        "id": "8001ea98",
        "outputId": "fd7e9b0e-3dc1-4a00-849c-bc07d1ce8fe8"
      },
      "outputs": [
        {
          "output_type": "execute_result",
          "data": {
            "text/plain": [
              "<wordcloud.wordcloud.WordCloud at 0x7fb4c7847b80>"
            ]
          },
          "metadata": {},
          "execution_count": 18
        }
      ],
      "source": [
        "# 워드클라우드 만들기\n",
        "wordcloud = WordCloud(background_color = 'white').generate_from_frequencies(size_by_languages.to_dict())\n",
        "wordcloud\n",
        "#generate_from_frequencies 워드클라우드 객체 생성"
      ]
    },
    {
      "cell_type": "code",
      "execution_count": 38,
      "id": "ab0ae68d",
      "metadata": {
        "scrolled": false,
        "colab": {
          "base_uri": "https://localhost:8080/",
          "height": 391
        },
        "id": "ab0ae68d",
        "outputId": "5ec3c847-ee86-42d1-87f2-9d5a0836b2b3"
      },
      "outputs": [
        {
          "output_type": "display_data",
          "data": {
            "text/plain": [
              "<Figure size 1000x1000 with 1 Axes>"
            ],
            "image/png": "[encoded data removed]"
          },
          "metadata": {}
        }
      ],
      "source": [
        "# 워드 클라우드 그리기\n",
        "plt.rcParams['figure.figsize'] = (10, 10)\n",
        "plt.imshow(wordcloud) #imshow 이미지화\n",
        "plt.axis('off') #축 제거\n",
        "plt.show()"
      ]
    },
    {
      "cell_type": "code",
      "execution_count": 39,
      "id": "4c66fab4",
      "metadata": {
        "colab": {
          "base_uri": "https://localhost:8080/",
          "height": 542
        },
        "id": "4c66fab4",
        "outputId": "8ccacec2-7ca0-4a10-dcc5-9718a52b1945"
      },
      "outputs": [
        {
          "output_type": "display_data",
          "data": {
            "text/html": [
              "<html>\n",
              "<head><meta charset=\"utf-8\" /></head>\n",
              "<body>\n",
              "    <div>            <script src=\"https://cdnjs.cloudflare.com/ajax/libs/mathjax/2.7.5/MathJax.js?config=TeX-AMS-MML_SVG\"></script><script type=\"text/javascript\">if (window.MathJax && window.MathJax.Hub && window.MathJax.Hub.Config) {window.MathJax.Hub.Config({SVG: {font: \"STIX-Web\"}});}</script>                <script type=\"text/javascript\">window.PlotlyConfig = {MathJaxConfig: 'local'};</script>\n",
              "        <script src=\"https://cdn.plot.ly/plotly-2.18.2.min.js\"></script>                <div id=\"a6cc6490-a9c6-4a70-9631-3d7eb052ae27\" class=\"plotly-graph-div\" style=\"height:525px; width:100%;\"></div>            <script type=\"text/javascript\">                                    window.PLOTLYENV=window.PLOTLYENV || {};                                    if (document.getElementById(\"a6cc6490-a9c6-4a70-9631-3d7eb052ae27\")) {                    Plotly.newPlot(                        \"a6cc6490-a9c6-4a70-9631-3d7eb052ae27\",                        [{\"branchvalues\":\"total\",\"domain\":{\"x\":[0.0,1.0],\"y\":[0.0,1.0]},\"hovertemplate\":\"labels=%{label}<br>count=%{value}<br>parent=%{parent}<br>id=%{id}<extra></extra>\",\"ids\":[\"APL\",\"Assembly\",\"Bash/Shell\",\"C\",\"C#\",\"C++\",\"COBOL\",\"Clojure\",\"Crystal\",\"Dart\",\"Delphi\",\"Elixir\",\"Erlang\",\"F#\",\"Fortran\",\"Go\",\"Groovy\",\"HTML/CSS\",\"Haskell\",\"Java\",\"JavaScript\",\"Julia\",\"Kotlin\",\"LISP\",\"Lua\",\"MATLAB\",\"OCaml\",\"Objective-C\",\"PHP\",\"Perl\",\"PowerShell\",\"Python\",\"R\",\"Ruby\",\"Rust\",\"SAS\",\"SQL\",\"Scala\",\"Solidity\",\"Swift\",\"TypeScript\",\"VBA\"],\"labels\":[\"APL\",\"Assembly\",\"Bash/Shell\",\"C\",\"C#\",\"C++\",\"COBOL\",\"Clojure\",\"Crystal\",\"Dart\",\"Delphi\",\"Elixir\",\"Erlang\",\"F#\",\"Fortran\",\"Go\",\"Groovy\",\"HTML/CSS\",\"Haskell\",\"Java\",\"JavaScript\",\"Julia\",\"Kotlin\",\"LISP\",\"Lua\",\"MATLAB\",\"OCaml\",\"Objective-C\",\"PHP\",\"Perl\",\"PowerShell\",\"Python\",\"R\",\"Ruby\",\"Rust\",\"SAS\",\"SQL\",\"Scala\",\"Solidity\",\"Swift\",\"TypeScript\",\"VBA\"],\"name\":\"\",\"parents\":[\"\",\"\",\"\",\"\",\"\",\"\",\"\",\"\",\"\",\"\",\"\",\"\",\"\",\"\",\"\",\"\",\"\",\"\",\"\",\"\",\"\",\"\",\"\",\"\",\"\",\"\",\"\",\"\",\"\",\"\",\"\",\"\",\"\",\"\",\"\",\"\",\"\",\"\",\"\",\"\",\"\",\"\"],\"values\":[5,8,174,66,50,113,1,6,1,9,2,2,1,2,3,22,4,147,8,85,169,39,10,7,8,41,1,5,16,7,46,624,213,9,22,33,440,29,4,10,41,70],\"type\":\"treemap\"}],                        {\"template\":{\"data\":{\"histogram2dcontour\":[{\"type\":\"histogram2dcontour\",\"colorbar\":{\"outlinewidth\":0,\"ticks\":\"\"},\"colorscale\":[[0.0,\"#0d0887\"],[0.1111111111111111,\"#46039f\"],[0.2222222222222222,\"#7201a8\"],[0.3333333333333333,\"#9c179e\"],[0.4444444444444444,\"#bd3786\"],[0.5555555555555556,\"#d8576b\"],[0.6666666666666666,\"#ed7953\"],[0.7777777777777778,\"#fb9f3a\"],[0.8888888888888888,\"#fdca26\"],[1.0,\"#f0f921\"]]}],\"choropleth\":[{\"type\":\"choropleth\",\"colorbar\":{\"outlinewidth\":0,\"ticks\":\"\"}}],\"histogram2d\":[{\"type\":\"histogram2d\",\"colorbar\":{\"outlinewidth\":0,\"ticks\":\"\"},\"colorscale\":[[0.0,\"#0d0887\"],[0.1111111111111111,\"#46039f\"],[0.2222222222222222,\"#7201a8\"],[0.3333333333333333,\"#9c179e\"],[0.4444444444444444,\"#bd3786\"],[0.5555555555555556,\"#d8576b\"],[0.6666666666666666,\"#ed7953\"],[0.7777777777777778,\"#fb9f3a\"],[0.8888888888888888,\"#fdca26\"],[1.0,\"#f0f921\"]]}],\"heatmap\":[{\"type\":\"heatmap\",\"colorbar\":{\"outlinewidth\":0,\"ticks\":\"\"},\"colorscale\":[[0.0,\"#0d0887\"],[0.1111111111111111,\"#46039f\"],[0.2222222222222222,\"#7201a8\"],[0.3333333333333333,\"#9c179e\"],[0.4444444444444444,\"#bd3786\"],[0.5555555555555556,\"#d8576b\"],[0.6666666666666666,\"#ed7953\"],[0.7777777777777778,\"#fb9f3a\"],[0.8888888888888888,\"#fdca26\"],[1.0,\"#f0f921\"]]}],\"heatmapgl\":[{\"type\":\"heatmapgl\",\"colorbar\":{\"outlinewidth\":0,\"ticks\":\"\"},\"colorscale\":[[0.0,\"#0d0887\"],[0.1111111111111111,\"#46039f\"],[0.2222222222222222,\"#7201a8\"],[0.3333333333333333,\"#9c179e\"],[0.4444444444444444,\"#bd3786\"],[0.5555555555555556,\"#d8576b\"],[0.6666666666666666,\"#ed7953\"],[0.7777777777777778,\"#fb9f3a\"],[0.8888888888888888,\"#fdca26\"],[1.0,\"#f0f921\"]]}],\"contourcarpet\":[{\"type\":\"contourcarpet\",\"colorbar\":{\"outlinewidth\":0,\"ticks\":\"\"}}],\"contour\":[{\"type\":\"contour\",\"colorbar\":{\"outlinewidth\":0,\"ticks\":\"\"},\"colorscale\":[[0.0,\"#0d0887\"],[0.1111111111111111,\"#46039f\"],[0.2222222222222222,\"#7201a8\"],[0.3333333333333333,\"#9c179e\"],[0.4444444444444444,\"#bd3786\"],[0.5555555555555556,\"#d8576b\"],[0.6666666666666666,\"#ed7953\"],[0.7777777777777778,\"#fb9f3a\"],[0.8888888888888888,\"#fdca26\"],[1.0,\"#f0f921\"]]}],\"surface\":[{\"type\":\"surface\",\"colorbar\":{\"outlinewidth\":0,\"ticks\":\"\"},\"colorscale\":[[0.0,\"#0d0887\"],[0.1111111111111111,\"#46039f\"],[0.2222222222222222,\"#7201a8\"],[0.3333333333333333,\"#9c179e\"],[0.4444444444444444,\"#bd3786\"],[0.5555555555555556,\"#d8576b\"],[0.6666666666666666,\"#ed7953\"],[0.7777777777777778,\"#fb9f3a\"],[0.8888888888888888,\"#fdca26\"],[1.0,\"#f0f921\"]]}],\"mesh3d\":[{\"type\":\"mesh3d\",\"colorbar\":{\"outlinewidth\":0,\"ticks\":\"\"}}],\"scatter\":[{\"fillpattern\":{\"fillmode\":\"overlay\",\"size\":10,\"solidity\":0.2},\"type\":\"scatter\"}],\"parcoords\":[{\"type\":\"parcoords\",\"line\":{\"colorbar\":{\"outlinewidth\":0,\"ticks\":\"\"}}}],\"scatterpolargl\":[{\"type\":\"scatterpolargl\",\"marker\":{\"colorbar\":{\"outlinewidth\":0,\"ticks\":\"\"}}}],\"bar\":[{\"error_x\":{\"color\":\"#2a3f5f\"},\"error_y\":{\"color\":\"#2a3f5f\"},\"marker\":{\"line\":{\"color\":\"#E5ECF6\",\"width\":0.5},\"pattern\":{\"fillmode\":\"overlay\",\"size\":10,\"solidity\":0.2}},\"type\":\"bar\"}],\"scattergeo\":[{\"type\":\"scattergeo\",\"marker\":{\"colorbar\":{\"outlinewidth\":0,\"ticks\":\"\"}}}],\"scatterpolar\":[{\"type\":\"scatterpolar\",\"marker\":{\"colorbar\":{\"outlinewidth\":0,\"ticks\":\"\"}}}],\"histogram\":[{\"marker\":{\"pattern\":{\"fillmode\":\"overlay\",\"size\":10,\"solidity\":0.2}},\"type\":\"histogram\"}],\"scattergl\":[{\"type\":\"scattergl\",\"marker\":{\"colorbar\":{\"outlinewidth\":0,\"ticks\":\"\"}}}],\"scatter3d\":[{\"type\":\"scatter3d\",\"line\":{\"colorbar\":{\"outlinewidth\":0,\"ticks\":\"\"}},\"marker\":{\"colorbar\":{\"outlinewidth\":0,\"ticks\":\"\"}}}],\"scattermapbox\":[{\"type\":\"scattermapbox\",\"marker\":{\"colorbar\":{\"outlinewidth\":0,\"ticks\":\"\"}}}],\"scatterternary\":[{\"type\":\"scatterternary\",\"marker\":{\"colorbar\":{\"outlinewidth\":0,\"ticks\":\"\"}}}],\"scattercarpet\":[{\"type\":\"scattercarpet\",\"marker\":{\"colorbar\":{\"outlinewidth\":0,\"ticks\":\"\"}}}],\"carpet\":[{\"aaxis\":{\"endlinecolor\":\"#2a3f5f\",\"gridcolor\":\"white\",\"linecolor\":\"white\",\"minorgridcolor\":\"white\",\"startlinecolor\":\"#2a3f5f\"},\"baxis\":{\"endlinecolor\":\"#2a3f5f\",\"gridcolor\":\"white\",\"linecolor\":\"white\",\"minorgridcolor\":\"white\",\"startlinecolor\":\"#2a3f5f\"},\"type\":\"carpet\"}],\"table\":[{\"cells\":{\"fill\":{\"color\":\"#EBF0F8\"},\"line\":{\"color\":\"white\"}},\"header\":{\"fill\":{\"color\":\"#C8D4E3\"},\"line\":{\"color\":\"white\"}},\"type\":\"table\"}],\"barpolar\":[{\"marker\":{\"line\":{\"color\":\"#E5ECF6\",\"width\":0.5},\"pattern\":{\"fillmode\":\"overlay\",\"size\":10,\"solidity\":0.2}},\"type\":\"barpolar\"}],\"pie\":[{\"automargin\":true,\"type\":\"pie\"}]},\"layout\":{\"autotypenumbers\":\"strict\",\"colorway\":[\"#636efa\",\"#EF553B\",\"#00cc96\",\"#ab63fa\",\"#FFA15A\",\"#19d3f3\",\"#FF6692\",\"#B6E880\",\"#FF97FF\",\"#FECB52\"],\"font\":{\"color\":\"#2a3f5f\"},\"hovermode\":\"closest\",\"hoverlabel\":{\"align\":\"left\"},\"paper_bgcolor\":\"white\",\"plot_bgcolor\":\"#E5ECF6\",\"polar\":{\"bgcolor\":\"#E5ECF6\",\"angularaxis\":{\"gridcolor\":\"white\",\"linecolor\":\"white\",\"ticks\":\"\"},\"radialaxis\":{\"gridcolor\":\"white\",\"linecolor\":\"white\",\"ticks\":\"\"}},\"ternary\":{\"bgcolor\":\"#E5ECF6\",\"aaxis\":{\"gridcolor\":\"white\",\"linecolor\":\"white\",\"ticks\":\"\"},\"baxis\":{\"gridcolor\":\"white\",\"linecolor\":\"white\",\"ticks\":\"\"},\"caxis\":{\"gridcolor\":\"white\",\"linecolor\":\"white\",\"ticks\":\"\"}},\"coloraxis\":{\"colorbar\":{\"outlinewidth\":0,\"ticks\":\"\"}},\"colorscale\":{\"sequential\":[[0.0,\"#0d0887\"],[0.1111111111111111,\"#46039f\"],[0.2222222222222222,\"#7201a8\"],[0.3333333333333333,\"#9c179e\"],[0.4444444444444444,\"#bd3786\"],[0.5555555555555556,\"#d8576b\"],[0.6666666666666666,\"#ed7953\"],[0.7777777777777778,\"#fb9f3a\"],[0.8888888888888888,\"#fdca26\"],[1.0,\"#f0f921\"]],\"sequentialminus\":[[0.0,\"#0d0887\"],[0.1111111111111111,\"#46039f\"],[0.2222222222222222,\"#7201a8\"],[0.3333333333333333,\"#9c179e\"],[0.4444444444444444,\"#bd3786\"],[0.5555555555555556,\"#d8576b\"],[0.6666666666666666,\"#ed7953\"],[0.7777777777777778,\"#fb9f3a\"],[0.8888888888888888,\"#fdca26\"],[1.0,\"#f0f921\"]],\"diverging\":[[0,\"#8e0152\"],[0.1,\"#c51b7d\"],[0.2,\"#de77ae\"],[0.3,\"#f1b6da\"],[0.4,\"#fde0ef\"],[0.5,\"#f7f7f7\"],[0.6,\"#e6f5d0\"],[0.7,\"#b8e186\"],[0.8,\"#7fbc41\"],[0.9,\"#4d9221\"],[1,\"#276419\"]]},\"xaxis\":{\"gridcolor\":\"white\",\"linecolor\":\"white\",\"ticks\":\"\",\"title\":{\"standoff\":15},\"zerolinecolor\":\"white\",\"automargin\":true,\"zerolinewidth\":2},\"yaxis\":{\"gridcolor\":\"white\",\"linecolor\":\"white\",\"ticks\":\"\",\"title\":{\"standoff\":15},\"zerolinecolor\":\"white\",\"automargin\":true,\"zerolinewidth\":2},\"scene\":{\"xaxis\":{\"backgroundcolor\":\"#E5ECF6\",\"gridcolor\":\"white\",\"linecolor\":\"white\",\"showbackground\":true,\"ticks\":\"\",\"zerolinecolor\":\"white\",\"gridwidth\":2},\"yaxis\":{\"backgroundcolor\":\"#E5ECF6\",\"gridcolor\":\"white\",\"linecolor\":\"white\",\"showbackground\":true,\"ticks\":\"\",\"zerolinecolor\":\"white\",\"gridwidth\":2},\"zaxis\":{\"backgroundcolor\":\"#E5ECF6\",\"gridcolor\":\"white\",\"linecolor\":\"white\",\"showbackground\":true,\"ticks\":\"\",\"zerolinecolor\":\"white\",\"gridwidth\":2}},\"shapedefaults\":{\"line\":{\"color\":\"#2a3f5f\"}},\"annotationdefaults\":{\"arrowcolor\":\"#2a3f5f\",\"arrowhead\":0,\"arrowwidth\":1},\"geo\":{\"bgcolor\":\"white\",\"landcolor\":\"#E5ECF6\",\"subunitcolor\":\"white\",\"showland\":true,\"showlakes\":true,\"lakecolor\":\"white\"},\"title\":{\"x\":0.05},\"mapbox\":{\"style\":\"light\"}}},\"legend\":{\"tracegroupgap\":0},\"margin\":{\"t\":60}},                        {\"responsive\": true}                    ).then(function(){\n",
              "                            \n",
              "var gd = document.getElementById('a6cc6490-a9c6-4a70-9631-3d7eb052ae27');\n",
              "var x = new MutationObserver(function (mutations, observer) {{\n",
              "        var display = window.getComputedStyle(gd).display;\n",
              "        if (!display || display === 'none') {{\n",
              "            console.log([gd, 'removed!']);\n",
              "            Plotly.purge(gd);\n",
              "            observer.disconnect();\n",
              "        }}\n",
              "}});\n",
              "\n",
              "// Listen for the removal of the full notebook cells\n",
              "var notebookContainer = gd.closest('#notebook-container');\n",
              "if (notebookContainer) {{\n",
              "    x.observe(notebookContainer, {childList: true});\n",
              "}}\n",
              "\n",
              "// Listen for the clearing of the current output cell\n",
              "var outputEl = gd.closest('.output');\n",
              "if (outputEl) {{\n",
              "    x.observe(outputEl, {childList: true});\n",
              "}}\n",
              "\n",
              "                        })                };                            </script>        </div>\n",
              "</body>\n",
              "</html>"
            ]
          },
          "metadata": {}
        }
      ],
      "source": [
        "# plotly.express 모듈 탑재\n",
        "import plotly.express as px\n",
        "\n",
        "# 트리맵 그리기\n",
        "fig = px.treemap(size_by_languages_df, path=['language'], values='count')\n",
        "fig.show()"
      ]
    }
  ],
  "metadata": {
    "kernelspec": {
      "display_name": "Python 3 (ipykernel)",
      "language": "python",
      "name": "python3"
    },
    "language_info": {
      "codemirror_mode": {
        "name": "ipython",
        "version": 3
      },
      "file_extension": ".py",
      "mimetype": "text/x-python",
      "name": "python",
      "nbconvert_exporter": "python",
      "pygments_lexer": "ipython3",
      "version": "3.9.12"
    },
    "colab": {
      "provenance": []
    }
  },
  "nbformat": 4,
  "nbformat_minor": 5
}