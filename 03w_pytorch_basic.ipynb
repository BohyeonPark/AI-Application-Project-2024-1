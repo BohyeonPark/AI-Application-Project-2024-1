{
  "nbformat": 4,
  "nbformat_minor": 0,
  "metadata": {
    "colab": {
      "provenance": [],
      "gpuType": "T4"
    },
    "kernelspec": {
      "name": "python3",
      "display_name": "Python 3"
    },
    "language_info": {
      "name": "python"
    },
    "accelerator": "GPU"
  },
  "cells": [
    {
      "cell_type": "code",
      "source": [
        "#텐서 생성 및 변환\n",
        "#텐서는 파이토치의 가장 기본이 되는 데이터 구조\n",
        "#넘파이의 ndarray와 비슷하며 GPU에서의 연산도 가능\n",
        "import torch\n",
        "print(torch.tensor([[1,2],[3,4]])) #2x2 형태의 텐서 생성\n",
        "print(torch.tensor([[1,2],[3,4]], device=\"cuda:0\")) #GPU에 텐서 생성\n",
        "print(torch.tensor([[1,2],[3,4]], dtype=torch.float64)) #dtype 실수를 이용하여 텐서 생성"
      ],
      "metadata": {
        "colab": {
          "base_uri": "https://localhost:8080/"
        },
        "id": "d2nqSdqw6sbk",
        "outputId": "4336a05d-fed3-4c28-818e-d97161831936"
      },
      "execution_count": 1,
      "outputs": [
        {
          "output_type": "stream",
          "name": "stdout",
          "text": [
            "tensor([[1, 2],\n",
            "        [3, 4]])\n",
            "tensor([[1, 2],\n",
            "        [3, 4]], device='cuda:0')\n",
            "tensor([[1., 2.],\n",
            "        [3., 4.]], dtype=torch.float64)\n"
          ]
        }
      ]
    },
    {
      "cell_type": "code",
      "source": [
        "#텐서의 자료형\n",
        "#torch.FloatTensor : 32비트의 부동 소수점\n",
        "#torch.DoubleTensor : 64비트의 부동 소수점\n",
        "#torch.LongTensor : 64비트의 부호가 있는 정수"
      ],
      "metadata": {
        "id": "7HOGLmDS7aJq"
      },
      "execution_count": 2,
      "outputs": []
    },
    {
      "cell_type": "code",
      "source": [
        "#텐서 인덱스 조작 - 인덱스 지정, 슬라이스\n",
        "#텐서 연산\n",
        "temp=torch.FloatTensor([1,2,3,4,5,6,7,8])\n",
        "print(temp[0], temp[1], temp[-1])\n",
        "print('----------------------------')\n",
        "print(temp[2:5], temp[4:-1])\n",
        "#\n",
        "v=torch.tensor([1,2,3])\n",
        "w=torch.tensor([3,4,6])\n",
        "print(w-v)"
      ],
      "metadata": {
        "colab": {
          "base_uri": "https://localhost:8080/"
        },
        "id": "DsYO0bfW7lmx",
        "outputId": "7a9420bd-2be8-4172-be57-aa88b10c4230"
      },
      "execution_count": 3,
      "outputs": [
        {
          "output_type": "stream",
          "name": "stdout",
          "text": [
            "tensor(1.) tensor(2.) tensor(8.)\n",
            "----------------------------\n",
            "tensor([3., 4., 5.]) tensor([5., 6., 7.])\n",
            "tensor([2, 2, 3])\n"
          ]
        }
      ]
    },
    {
      "cell_type": "code",
      "source": [
        "#텐서 다루기\n",
        "#view - 차원 변경, 넘파이의 ndarray\n",
        "#cat - 다른 길이 텐서를 하나로 병합, 결합\n",
        "#transpose(t) - 차원 교환, 차원 순서 변경, 행렬 전치\n",
        "#shape - 텐서 사이즈\n",
        "temp=torch.tensor([[1,2],[3,4]]) #2x2 행렬 생성\n",
        "\n",
        "print(temp.shape)\n",
        "print(temp.view(4,1)) #2x2 행렬을 4x1 행렬로 변형\n",
        "print(temp.view(-1)) #2x2 행렬을 1차원 벡터로 변형\n",
        "print(temp.view(1,-1)) #-1은 (1,?), 다른 차원으로부터 해당 값을 유추 -> (1,4)\n",
        "print(temp.view(-1,1)) #(?,1) -> (4,1)"
      ],
      "metadata": {
        "colab": {
          "base_uri": "https://localhost:8080/"
        },
        "id": "89-GZxub7-q2",
        "outputId": "5825bcdc-1d50-4f57-ebac-5a994520900c"
      },
      "execution_count": 4,
      "outputs": [
        {
          "output_type": "stream",
          "name": "stdout",
          "text": [
            "torch.Size([2, 2])\n",
            "tensor([[1],\n",
            "        [2],\n",
            "        [3],\n",
            "        [4]])\n",
            "tensor([1, 2, 3, 4])\n",
            "tensor([[1, 2, 3, 4]])\n",
            "tensor([[1],\n",
            "        [2],\n",
            "        [3],\n",
            "        [4]])\n"
          ]
        }
      ]
    },
    {
      "cell_type": "code",
      "execution_count": 5,
      "metadata": {
        "colab": {
          "base_uri": "https://localhost:8080/"
        },
        "id": "UMs1e9rH6dm1",
        "outputId": "902fbac7-bfb2-4462-a62c-c23ec5142c9d"
      },
      "outputs": [
        {
          "output_type": "stream",
          "name": "stdout",
          "text": [
            "tensor([[-1.5477e+05,  3.1681e-41,  0.0000e+00,  0.0000e+00],\n",
            "        [-1.1611e+05,  3.1681e-41, -1.6561e+03,  3.1681e-41],\n",
            "        [-2.2638e+24,  4.3391e-41,  1.4013e-45,  0.0000e+00],\n",
            "        [ 4.2039e-45,  0.0000e+00,  0.0000e+00,  0.0000e+00],\n",
            "        [ 0.0000e+00,  0.0000e+00,  0.0000e+00,  0.0000e+00]])\n"
          ]
        }
      ],
      "source": [
        "# 텐서\n",
        "import torch\n",
        "import numpy as np\n",
        "\n",
        "x=torch.empty(5,4) #5x4 행렬인 빈 empty 텐서 생성\n",
        "print(x)"
      ]
    },
    {
      "cell_type": "code",
      "source": [
        "torch.ones(3,3) #1로 3x3 행렬의 텐서 생성"
      ],
      "metadata": {
        "colab": {
          "base_uri": "https://localhost:8080/"
        },
        "id": "y3k-qK0f6lHq",
        "outputId": "edbb7951-8af0-44b3-a188-4820729411ed"
      },
      "execution_count": 6,
      "outputs": [
        {
          "output_type": "execute_result",
          "data": {
            "text/plain": [
              "tensor([[1., 1., 1.],\n",
              "        [1., 1., 1.],\n",
              "        [1., 1., 1.]])"
            ]
          },
          "metadata": {},
          "execution_count": 6
        }
      ]
    },
    {
      "cell_type": "code",
      "source": [
        "torch.zeros(2) #0으로 1x2 행렬의 텐서 생성"
      ],
      "metadata": {
        "colab": {
          "base_uri": "https://localhost:8080/"
        },
        "id": "CIH7gXFJ6lKb",
        "outputId": "2df97235-c4a0-466a-b103-7e753db28bca"
      },
      "execution_count": 8,
      "outputs": [
        {
          "output_type": "execute_result",
          "data": {
            "text/plain": [
              "tensor([0., 0.])"
            ]
          },
          "metadata": {},
          "execution_count": 8
        }
      ]
    },
    {
      "cell_type": "code",
      "source": [
        "torch.zeros(2,2) #0으로 2x2 행렬의 텐서 생성"
      ],
      "metadata": {
        "colab": {
          "base_uri": "https://localhost:8080/"
        },
        "id": "KkqHf01n6lND",
        "outputId": "f8867ad8-e28d-47e4-8c1b-fcdca50e29a5"
      },
      "execution_count": 9,
      "outputs": [
        {
          "output_type": "execute_result",
          "data": {
            "text/plain": [
              "tensor([[0., 0.],\n",
              "        [0., 0.]])"
            ]
          },
          "metadata": {},
          "execution_count": 9
        }
      ]
    },
    {
      "cell_type": "code",
      "source": [
        "torch.empty(4,5)"
      ],
      "metadata": {
        "colab": {
          "base_uri": "https://localhost:8080/"
        },
        "id": "Gt2kOQmp6lPa",
        "outputId": "2f684519-1fec-472d-d3c4-cbdffb34e26a"
      },
      "execution_count": 11,
      "outputs": [
        {
          "output_type": "execute_result",
          "data": {
            "text/plain": [
              "tensor([[-1.4705e+05,  3.1681e-41, -4.3178e+04,  3.1681e-41,  8.9683e-44],\n",
              "        [ 0.0000e+00,  1.1210e-43,  0.0000e+00,  1.6498e+08,  3.1688e-41],\n",
              "        [ 0.0000e+00,  0.0000e+00,  0.0000e+00,  0.0000e+00,  0.0000e+00],\n",
              "        [ 0.0000e+00,  0.0000e+00,  0.0000e+00,  0.0000e+00,  0.0000e+00]])"
            ]
          },
          "metadata": {},
          "execution_count": 11
        }
      ]
    },
    {
      "cell_type": "code",
      "source": [
        "torch.rand(5,6) #5x6 행렬의 random 숫자의 텐서 생성"
      ],
      "metadata": {
        "colab": {
          "base_uri": "https://localhost:8080/"
        },
        "id": "JARjc1y39Mh3",
        "outputId": "9e197aa2-48f1-4645-da12-7b71f66ff733"
      },
      "execution_count": 13,
      "outputs": [
        {
          "output_type": "execute_result",
          "data": {
            "text/plain": [
              "tensor([[0.5181, 0.6455, 0.0147, 0.8238, 0.9642, 0.3339],\n",
              "        [0.4517, 0.0341, 0.7932, 0.8800, 0.9620, 0.1532],\n",
              "        [0.1077, 0.1394, 0.2179, 0.7420, 0.5792, 0.3108],\n",
              "        [0.0776, 0.2704, 0.2082, 0.2913, 0.1528, 0.6088],\n",
              "        [0.1030, 0.1136, 0.6278, 0.6805, 0.7355, 0.6072]])"
            ]
          },
          "metadata": {},
          "execution_count": 13
        }
      ]
    },
    {
      "cell_type": "code",
      "source": [
        "#리스트, 넘파이 배열 텐서로 만들기\n",
        "\n",
        "l = [13,4]\n",
        "r =np.array([4,56,7])\n",
        "torch.tensor(l)"
      ],
      "metadata": {
        "colab": {
          "base_uri": "https://localhost:8080/"
        },
        "id": "dJG_n2Bb9Mkf",
        "outputId": "52260c14-ac90-4f72-a779-dd67b8fb765a"
      },
      "execution_count": 14,
      "outputs": [
        {
          "output_type": "execute_result",
          "data": {
            "text/plain": [
              "tensor([13,  4])"
            ]
          },
          "metadata": {},
          "execution_count": 14
        }
      ]
    },
    {
      "cell_type": "code",
      "source": [
        "torch.tensor(r)"
      ],
      "metadata": {
        "colab": {
          "base_uri": "https://localhost:8080/"
        },
        "id": "f302Vu-Q9dA4",
        "outputId": "ee8bcc6e-b176-4ef1-eb41-02e43f8c743b"
      },
      "execution_count": 15,
      "outputs": [
        {
          "output_type": "execute_result",
          "data": {
            "text/plain": [
              "tensor([ 4, 56,  7])"
            ]
          },
          "metadata": {},
          "execution_count": 15
        }
      ]
    },
    {
      "cell_type": "code",
      "source": [
        "x.size()[1] #x 텐서 (5x4)\n",
        "#x.size(1) 동일 값"
      ],
      "metadata": {
        "colab": {
          "base_uri": "https://localhost:8080/"
        },
        "id": "9LOtpEEi9dID",
        "outputId": "95ed9753-a417-4726-a688-cc24da69fd37"
      },
      "execution_count": 16,
      "outputs": [
        {
          "output_type": "execute_result",
          "data": {
            "text/plain": [
              "4"
            ]
          },
          "metadata": {},
          "execution_count": 16
        }
      ]
    },
    {
      "cell_type": "code",
      "source": [
        "x.size()[0] #= x.size(0)"
      ],
      "metadata": {
        "colab": {
          "base_uri": "https://localhost:8080/"
        },
        "id": "5Gl_Esw19Mpf",
        "outputId": "e0637322-9407-43c3-b7f6-fad75b8d3552"
      },
      "execution_count": 21,
      "outputs": [
        {
          "output_type": "execute_result",
          "data": {
            "text/plain": [
              "5"
            ]
          },
          "metadata": {},
          "execution_count": 21
        }
      ]
    },
    {
      "cell_type": "code",
      "source": [
        "torch.Size([5,4])"
      ],
      "metadata": {
        "colab": {
          "base_uri": "https://localhost:8080/"
        },
        "id": "Y4onx8Xf98U8",
        "outputId": "e82543ee-1dc2-4673-c28d-307571f26fd3"
      },
      "execution_count": 22,
      "outputs": [
        {
          "output_type": "execute_result",
          "data": {
            "text/plain": [
              "torch.Size([5, 4])"
            ]
          },
          "metadata": {},
          "execution_count": 22
        }
      ]
    },
    {
      "cell_type": "code",
      "source": [
        "x=torch.rand(2,2)\n",
        "y=torch.rand(2,2)\n",
        "print(x)\n",
        "print(y)\n",
        "print(x+y)"
      ],
      "metadata": {
        "colab": {
          "base_uri": "https://localhost:8080/"
        },
        "id": "eoGNAj1798XS",
        "outputId": "893cc07a-759c-4181-db85-a104881a6dc5"
      },
      "execution_count": 23,
      "outputs": [
        {
          "output_type": "stream",
          "name": "stdout",
          "text": [
            "tensor([[0.2060, 0.9217],\n",
            "        [0.0627, 0.2991]])\n",
            "tensor([[0.4724, 0.4324],\n",
            "        [0.1451, 0.0362]])\n",
            "tensor([[0.6784, 1.3542],\n",
            "        [0.2078, 0.3353]])\n"
          ]
        }
      ]
    },
    {
      "cell_type": "code",
      "source": [
        "torch.add(x,y) #add 덧셈 메소드\n",
        "#인플레이스 연산 -원본 텐서의 값을 변경하며, 메모리를 절약할 수 있는 장점"
      ],
      "metadata": {
        "colab": {
          "base_uri": "https://localhost:8080/"
        },
        "id": "WfU2HrQv-mXr",
        "outputId": "98e5ea48-124f-4c66-bea2-953fa705b976"
      },
      "execution_count": 26,
      "outputs": [
        {
          "output_type": "execute_result",
          "data": {
            "text/plain": [
              "tensor([[0.6784, 1.3542],\n",
              "        [0.2078, 0.3353]])"
            ]
          },
          "metadata": {},
          "execution_count": 26
        }
      ]
    },
    {
      "cell_type": "code",
      "source": [
        "y.add(x) #y에 x값을 더한다."
      ],
      "metadata": {
        "colab": {
          "base_uri": "https://localhost:8080/"
        },
        "id": "zTtKWlWS-mdB",
        "outputId": "a7aa3100-dcc1-49f7-ae23-d02e8056de1b"
      },
      "execution_count": 27,
      "outputs": [
        {
          "output_type": "execute_result",
          "data": {
            "text/plain": [
              "tensor([[0.6784, 1.3542],\n",
              "        [0.2078, 0.3353]])"
            ]
          },
          "metadata": {},
          "execution_count": 27
        }
      ]
    },
    {
      "cell_type": "code",
      "source": [
        "#텐서의 크기 변환\n",
        "x=torch.rand(8,8)\n",
        "print(x.size())"
      ],
      "metadata": {
        "colab": {
          "base_uri": "https://localhost:8080/"
        },
        "id": "76n3K3FW-2_l",
        "outputId": "57457059-5079-44db-d11e-52b66ae9d659"
      },
      "execution_count": 28,
      "outputs": [
        {
          "output_type": "stream",
          "name": "stdout",
          "text": [
            "torch.Size([8, 8])\n"
          ]
        }
      ]
    },
    {
      "cell_type": "code",
      "source": [
        "a=x.view(64) #8x8 -> 64\n",
        "print(a.size())\n",
        "print(a)"
      ],
      "metadata": {
        "colab": {
          "base_uri": "https://localhost:8080/"
        },
        "id": "MWV9HHTu-3CN",
        "outputId": "9f7058ae-27c0-4f3f-8b50-a5ad618c309b"
      },
      "execution_count": 33,
      "outputs": [
        {
          "output_type": "stream",
          "name": "stdout",
          "text": [
            "torch.Size([64])\n",
            "tensor([0.4805, 0.1782, 0.7700, 0.1910, 0.0460, 0.7567, 0.3588, 0.9547, 0.3656,\n",
            "        0.8780, 0.2002, 0.5380, 0.7538, 0.2266, 0.9623, 0.4814, 0.2145, 0.3811,\n",
            "        0.5600, 0.9983, 0.9408, 0.2399, 0.4423, 0.9821, 0.0954, 0.3326, 0.4483,\n",
            "        0.7515, 0.3107, 0.5356, 0.6746, 0.9447, 0.9596, 0.5250, 0.0647, 0.1064,\n",
            "        0.3359, 0.5880, 0.8505, 0.3717, 0.2191, 0.8838, 0.5795, 0.5147, 0.0345,\n",
            "        0.6762, 0.7164, 0.5372, 0.5655, 0.5580, 0.0552, 0.3084, 0.7700, 0.9884,\n",
            "        0.0828, 0.1758, 0.7702, 0.1511, 0.3012, 0.0315, 0.2014, 0.5495, 0.5821,\n",
            "        0.4772])\n"
          ]
        }
      ]
    },
    {
      "cell_type": "code",
      "source": [
        "x=torch.rand(8,8)\n",
        "y=x.numpy()\n",
        "print(type(x))\n",
        "print(type(y))"
      ],
      "metadata": {
        "colab": {
          "base_uri": "https://localhost:8080/"
        },
        "id": "Y8_EAsf9-3H9",
        "outputId": "a99411fc-0638-40dd-c0c0-4c80f048ff03"
      },
      "execution_count": 36,
      "outputs": [
        {
          "output_type": "stream",
          "name": "stdout",
          "text": [
            "<class 'torch.Tensor'>\n",
            "<class 'numpy.ndarray'>\n"
          ]
        }
      ]
    },
    {
      "cell_type": "code",
      "source": [
        "x=torch.ones(1)\n",
        "print(x)\n",
        "print(x.item()) #item -텐서 값을 텐서가 아닌 값으로 만들어줌 = tensor에 저장된 값 가져오는 법"
      ],
      "metadata": {
        "colab": {
          "base_uri": "https://localhost:8080/"
        },
        "id": "MoUpUrym_xCU",
        "outputId": "a9e1a415-f6be-4da4-b4ae-b2697bd619b3"
      },
      "execution_count": 38,
      "outputs": [
        {
          "output_type": "stream",
          "name": "stdout",
          "text": [
            "tensor([1.])\n",
            "1.0\n"
          ]
        }
      ]
    },
    {
      "cell_type": "code",
      "source": [
        "#텐서 조작하기\n",
        "#뷰 view -원소의 수를 유지하면서 텐서의 크기 변경 (넘파이 reshape)\n",
        "\n",
        "t=np.array([[[0,1,2],\n",
        "            [3,4,5]],\n",
        "           [[6,7,8],\n",
        "            [9,10,11]]])\n",
        "r=torch.FloatTensor(t)\n",
        "print(r.shape)\n",
        "print('------------------------------')\n",
        "print(t)\n",
        "print(r)"
      ],
      "metadata": {
        "colab": {
          "base_uri": "https://localhost:8080/"
        },
        "id": "_TQvtGzr_xE0",
        "outputId": "28d7b145-a603-4a9d-b7ea-3341c008d1e0"
      },
      "execution_count": 42,
      "outputs": [
        {
          "output_type": "stream",
          "name": "stdout",
          "text": [
            "torch.Size([2, 2, 3])\n",
            "------------------------------\n",
            "[[[ 0  1  2]\n",
            "  [ 3  4  5]]\n",
            "\n",
            " [[ 6  7  8]\n",
            "  [ 9 10 11]]]\n",
            "tensor([[[ 0.,  1.,  2.],\n",
            "         [ 3.,  4.,  5.]],\n",
            "\n",
            "        [[ 6.,  7.,  8.],\n",
            "         [ 9., 10., 11.]]])\n"
          ]
        }
      ]
    },
    {
      "cell_type": "code",
      "source": [
        "#3차원 -> 2차원으로 변경하기\n",
        "#r 텐서를 2차원으로 변경해보자\n",
        "#view()\n",
        "\n",
        "#-1 다른 차원으로부터 해당 값을 유추한다.\n",
        "print(r.view([-1,3])) #2차원으로 -1 view, 3열으로 보고싶어서 3 지정\n",
        "print(r.view([-1,3]).shape)"
      ],
      "metadata": {
        "colab": {
          "base_uri": "https://localhost:8080/"
        },
        "id": "PR4ln3BK_xHD",
        "outputId": "dbb8e40e-5b4b-4790-83b8-bf1969755645"
      },
      "execution_count": 46,
      "outputs": [
        {
          "output_type": "stream",
          "name": "stdout",
          "text": [
            "tensor([[ 0.,  1.,  2.],\n",
            "        [ 3.,  4.,  5.],\n",
            "        [ 6.,  7.,  8.],\n",
            "        [ 9., 10., 11.]])\n",
            "torch.Size([4, 3])\n"
          ]
        }
      ]
    },
    {
      "cell_type": "code",
      "source": [
        "print(r.view([-1,2]))\n",
        "print(r.view([-1,2]).shape)"
      ],
      "metadata": {
        "colab": {
          "base_uri": "https://localhost:8080/"
        },
        "id": "ysPHVVVl_xJc",
        "outputId": "c4bf4ce5-6b5a-4c77-b941-e282d99815d4"
      },
      "execution_count": 45,
      "outputs": [
        {
          "output_type": "stream",
          "name": "stdout",
          "text": [
            "tensor([[ 0.,  1.],\n",
            "        [ 2.,  3.],\n",
            "        [ 4.,  5.],\n",
            "        [ 6.,  7.],\n",
            "        [ 8.,  9.],\n",
            "        [10., 11.]])\n",
            "torch.Size([6, 2])\n"
          ]
        }
      ]
    },
    {
      "cell_type": "code",
      "source": [
        "print(r.view([-1,4]))\n",
        "print(r.view([-1,4]).shape)"
      ],
      "metadata": {
        "colab": {
          "base_uri": "https://localhost:8080/"
        },
        "id": "CmDtPDqZBMvm",
        "outputId": "577341fc-1159-4ad4-df18-7f7c4ba6f8bd"
      },
      "execution_count": 47,
      "outputs": [
        {
          "output_type": "stream",
          "name": "stdout",
          "text": [
            "tensor([[ 0.,  1.,  2.,  3.],\n",
            "        [ 4.,  5.,  6.,  7.],\n",
            "        [ 8.,  9., 10., 11.]])\n",
            "torch.Size([3, 4])\n"
          ]
        }
      ]
    },
    {
      "cell_type": "code",
      "source": [
        "print(r.view([-1,5])) #5열은 에러 발생\n",
        "print(r.view([-1,5]).shape)"
      ],
      "metadata": {
        "colab": {
          "base_uri": "https://localhost:8080/",
          "height": 168
        },
        "id": "MwpYGnLJBMyA",
        "outputId": "f3b2032d-a78d-4062-95fc-1f92a5378cf6"
      },
      "execution_count": 48,
      "outputs": [
        {
          "output_type": "error",
          "ename": "RuntimeError",
          "evalue": "shape '[-1, 5]' is invalid for input of size 12",
          "traceback": [
            "\u001b[0;31m---------------------------------------------------------------------------\u001b[0m",
            "\u001b[0;31mRuntimeError\u001b[0m                              Traceback (most recent call last)",
            "\u001b[0;32m<ipython-input-48-bfeea31f9f73>\u001b[0m in \u001b[0;36m<cell line: 1>\u001b[0;34m()\u001b[0m\n\u001b[0;32m----> 1\u001b[0;31m \u001b[0mprint\u001b[0m\u001b[0;34m(\u001b[0m\u001b[0mr\u001b[0m\u001b[0;34m.\u001b[0m\u001b[0mview\u001b[0m\u001b[0;34m(\u001b[0m\u001b[0;34m[\u001b[0m\u001b[0;34m-\u001b[0m\u001b[0;36m1\u001b[0m\u001b[0;34m,\u001b[0m\u001b[0;36m5\u001b[0m\u001b[0;34m]\u001b[0m\u001b[0;34m)\u001b[0m\u001b[0;34m)\u001b[0m\u001b[0;34m\u001b[0m\u001b[0;34m\u001b[0m\u001b[0m\n\u001b[0m\u001b[1;32m      2\u001b[0m \u001b[0mprint\u001b[0m\u001b[0;34m(\u001b[0m\u001b[0mr\u001b[0m\u001b[0;34m.\u001b[0m\u001b[0mview\u001b[0m\u001b[0;34m(\u001b[0m\u001b[0;34m[\u001b[0m\u001b[0;34m-\u001b[0m\u001b[0;36m1\u001b[0m\u001b[0;34m,\u001b[0m\u001b[0;36m5\u001b[0m\u001b[0;34m]\u001b[0m\u001b[0;34m)\u001b[0m\u001b[0;34m.\u001b[0m\u001b[0mshape\u001b[0m\u001b[0;34m)\u001b[0m\u001b[0;34m\u001b[0m\u001b[0;34m\u001b[0m\u001b[0m\n",
            "\u001b[0;31mRuntimeError\u001b[0m: shape '[-1, 5]' is invalid for input of size 12"
          ]
        }
      ]
    },
    {
      "cell_type": "code",
      "source": [
        "print(r.view([-1,6]))\n",
        "print(r.view([-1,6]).shape)"
      ],
      "metadata": {
        "colab": {
          "base_uri": "https://localhost:8080/"
        },
        "id": "XOoToVzUBewP",
        "outputId": "b73c6a52-5a4b-4cc7-ce8d-f3f403c3cc16"
      },
      "execution_count": 49,
      "outputs": [
        {
          "output_type": "stream",
          "name": "stdout",
          "text": [
            "tensor([[ 0.,  1.,  2.,  3.,  4.,  5.],\n",
            "        [ 6.,  7.,  8.,  9., 10., 11.]])\n",
            "torch.Size([2, 6])\n"
          ]
        }
      ]
    },
    {
      "cell_type": "code",
      "source": [
        "#스퀴즈 Squeeze - n차원이 1인 경우 해당 차원을 제거를 한다.\n",
        "\n",
        "re=torch.FloatTensor([[0],[1],[2]])\n",
        "print(re)\n",
        "print(re.shape)"
      ],
      "metadata": {
        "colab": {
          "base_uri": "https://localhost:8080/"
        },
        "id": "TrXkDUsWBey2",
        "outputId": "618d0fc0-f3ef-4361-eab9-18817a6503cd"
      },
      "execution_count": 51,
      "outputs": [
        {
          "output_type": "stream",
          "name": "stdout",
          "text": [
            "tensor([[0.],\n",
            "        [1.],\n",
            "        [2.]])\n",
            "torch.Size([3, 1])\n"
          ]
        }
      ]
    },
    {
      "cell_type": "code",
      "source": [
        "print(re.squeeze()) #squeeze로 1열 차원 제거\n",
        "print(re.squeeze().shape) #(3,1) -> (3,) 변경"
      ],
      "metadata": {
        "colab": {
          "base_uri": "https://localhost:8080/"
        },
        "id": "wLgXht_5BosJ",
        "outputId": "df451807-ffc4-49c4-bd7f-f977e80abd59"
      },
      "execution_count": 53,
      "outputs": [
        {
          "output_type": "stream",
          "name": "stdout",
          "text": [
            "tensor([0., 1., 2.])\n",
            "torch.Size([3])\n"
          ]
        }
      ]
    },
    {
      "cell_type": "code",
      "source": [
        "#Unsqueeze - n차원이 1인 차원을 추가할 수 있다. (Squeeze 반대 개념)\n",
        "\n",
        "ft=torch.Tensor([0,1,2])\n",
        "print(ft.shape)"
      ],
      "metadata": {
        "colab": {
          "base_uri": "https://localhost:8080/"
        },
        "id": "CrJVpuMwBoua",
        "outputId": "a741d527-1928-4e8e-a834-d2300b97c48a"
      },
      "execution_count": 54,
      "outputs": [
        {
          "output_type": "stream",
          "name": "stdout",
          "text": [
            "torch.Size([3])\n"
          ]
        }
      ]
    },
    {
      "cell_type": "code",
      "source": [
        "print(ft.unsqueeze(0)) #0번째 차원 추가하기\n",
        "print(ft.unsqueeze(0).shape) #3x1 -> 1x3의 2차원으로 변경되었음"
      ],
      "metadata": {
        "colab": {
          "base_uri": "https://localhost:8080/"
        },
        "id": "XidmANAnCGa3",
        "outputId": "c5d03e8f-adc4-4396-85a5-a51bb9d2b9b3"
      },
      "execution_count": 56,
      "outputs": [
        {
          "output_type": "stream",
          "name": "stdout",
          "text": [
            "tensor([[0., 1., 2.]])\n",
            "torch.Size([1, 3])\n"
          ]
        }
      ]
    },
    {
      "cell_type": "code",
      "source": [
        "#타입 캐스팅 Type Casting\n",
        "\n",
        "#32비트 torch.FlaotTensor\n",
        "#64비트 torch.LongTensor\n",
        "#Gpu torch.cuda.FloatTensor"
      ],
      "metadata": {
        "id": "0VYujA1kCT42"
      },
      "execution_count": null,
      "outputs": []
    },
    {
      "cell_type": "code",
      "source": [
        "x=torch.FloatTensor([1,2,3,4])\n",
        "print(x)"
      ],
      "metadata": {
        "colab": {
          "base_uri": "https://localhost:8080/"
        },
        "id": "2RitkuzRCT7F",
        "outputId": "2e7dcc7d-987d-43ea-bd26-bb1ca3c8fb61"
      },
      "execution_count": 58,
      "outputs": [
        {
          "output_type": "stream",
          "name": "stdout",
          "text": [
            "tensor([1., 2., 3., 4.])\n"
          ]
        }
      ]
    },
    {
      "cell_type": "code",
      "source": [
        "x=torch.LongTensor([1,2,3,4])\n",
        "print(x)\n",
        "print(x.float()) #float() 함수로 정수->실수 변경 가능"
      ],
      "metadata": {
        "colab": {
          "base_uri": "https://localhost:8080/"
        },
        "id": "vBIaVjf5C8fy",
        "outputId": "22bc3829-368b-4f1d-d357-e56c8d985e4a"
      },
      "execution_count": 62,
      "outputs": [
        {
          "output_type": "stream",
          "name": "stdout",
          "text": [
            "tensor([1, 2, 3, 4])\n",
            "tensor([1., 2., 3., 4.])\n"
          ]
        }
      ]
    },
    {
      "cell_type": "code",
      "source": [
        "x=torch.torch.cuda.FloatTensor([1,2,3,4])\n",
        "print(x)"
      ],
      "metadata": {
        "colab": {
          "base_uri": "https://localhost:8080/"
        },
        "id": "Vpk7rohjC_J1",
        "outputId": "0b4b7ad3-87d5-41ae-b0f2-b124ab4db63a"
      },
      "execution_count": 63,
      "outputs": [
        {
          "output_type": "stream",
          "name": "stdout",
          "text": [
            "tensor([1., 2., 3., 4.], device='cuda:0')\n"
          ]
        }
      ]
    },
    {
      "cell_type": "code",
      "source": [
        "bt=torch.ByteTensor([True,False,False,True])\n",
        "print(bt)"
      ],
      "metadata": {
        "colab": {
          "base_uri": "https://localhost:8080/"
        },
        "id": "aDGScKfGDEOV",
        "outputId": "47846f0e-a637-4092-fd4a-b6ffb5222387"
      },
      "execution_count": 64,
      "outputs": [
        {
          "output_type": "stream",
          "name": "stdout",
          "text": [
            "tensor([1, 0, 0, 1], dtype=torch.uint8)\n"
          ]
        }
      ]
    },
    {
      "cell_type": "code",
      "source": [
        "https://wikidocs.net/52846"
      ],
      "metadata": {
        "id": "Zk9Hu7lUC_O7"
      },
      "execution_count": null,
      "outputs": []
    }
  ]
}